{
 "cells": [
  {
   "cell_type": "markdown",
   "metadata": {
    "id": "IZ6SNYq_tVVC",
    "tags": []
   },
   "source": [
    "## <b> Setup <b/>"
   ]
  },
  {
   "cell_type": "code",
   "execution_count": 1,
   "metadata": {
    "id": "_XgTpm9ZxoN9",
    "scrolled": true,
    "tags": []
   },
   "outputs": [
    {
     "name": "stderr",
     "output_type": "stream",
     "text": [
      "2021-11-14 17:55:29.558851: W tensorflow/stream_executor/platform/default/dso_loader.cc:64] Could not load dynamic library 'libcudart.so.11.0'; dlerror: libcudart.so.11.0: cannot open shared object file: No such file or directory\n",
      "2021-11-14 17:55:29.558878: I tensorflow/stream_executor/cuda/cudart_stub.cc:29] Ignore above cudart dlerror if you do not have a GPU set up on your machine.\n"
     ]
    },
    {
     "name": "stdout",
     "output_type": "stream",
     "text": [
      "Directory /data exists.\n",
      "Directory /data/Model_Tensorflow exists.\n",
      "Directory /data/Model_Pytorch exists.\n",
      "Directory /data/Text_Tokenizer/vocab exists.\n",
      "Directory /data/Text_Tokenizer/trained exists.\n",
      "Directory /data/Text_Sentimentor/dataset exists.\n",
      "Directory /data/Text_Sentimentor/datatf exists.\n",
      "Directory /data/Text_Sentimentor/model/savedmodels exists.\n",
      "Directory /data/Text_Sentimentor/model/checkpoints exists.\n",
      "Directory /data/Text_Sentimentor/model/logs exists.\n",
      "Directory /data/Text_Sentimentor/tmp exists.\n"
     ]
    },
    {
     "name": "stderr",
     "output_type": "stream",
     "text": [
      "2021-11-14 17:55:31.725865: W tensorflow/stream_executor/platform/default/dso_loader.cc:64] Could not load dynamic library 'libcuda.so.1'; dlerror: libcuda.so.1: cannot open shared object file: No such file or directory\n",
      "2021-11-14 17:55:31.725890: W tensorflow/stream_executor/cuda/cuda_driver.cc:269] failed call to cuInit: UNKNOWN ERROR (303)\n",
      "2021-11-14 17:55:31.725910: I tensorflow/stream_executor/cuda/cuda_diagnostics.cc:163] no NVIDIA GPU device is present: /dev/nvidia0 does not exist\n",
      "2021-11-14 17:55:31.773253: I tensorflow/core/platform/cpu_feature_guard.cc:142] This TensorFlow binary is optimized with oneAPI Deep Neural Network Library (oneDNN) to use the following CPU instructions in performance-critical operations:  AVX2 FMA\n",
      "To enable them in other operations, rebuild TensorFlow with the appropriate compiler flags.\n"
     ]
    }
   ],
   "source": [
    "from utils.initialization import *\n",
    "from utils.tokenizer import *\n",
    "from utils.dataset_pipeline import *\n",
    "from utils.servitization import *\n",
    "from utils.visualization import *\n",
    "from models.transformer_bert import *"
   ]
  },
  {
   "cell_type": "code",
   "execution_count": 2,
   "metadata": {},
   "outputs": [],
   "source": [
    "### Tokenization Method\n",
    "\n",
    "### Language Pair\n",
    "\n",
    "lang_pair = ('en', '')\n",
    "lang_prefix = f\"{lang_pair[0].upper()}_\"\n",
    "inp_lang, tar_lang = lang_pair\n",
    "\n",
    "### Preprocessor\n",
    "\n",
    "text_preprocessors = {'inp':en_preprocess, 'tar':None}\n",
    "\n",
    "### Global Variables\n",
    "\n",
    "MAX_LENGTHS = {'inp':256, 'tar':None}"
   ]
  },
  {
   "cell_type": "code",
   "execution_count": 3,
   "metadata": {},
   "outputs": [
    {
     "name": "stdout",
     "output_type": "stream",
     "text": [
      "Using Pretrained Bert Model: {'inp': 'bert-base-uncased', 'tar': None}\n",
      "Cache Directory of Model: {'inp': '/data/Model_Pytorch/bert-base-uncased', 'tar': None}\n",
      "\n",
      "Max Length of Text: {'inp': 256, 'tar': None}\n"
     ]
    }
   ],
   "source": [
    "### Definition of Bert Model\n",
    "\n",
    "bert_names = {'inp':BERT_NAMES[inp_lang]['bert'][0],\n",
    "              'tar':None}\n",
    "cache_dirs = {'inp':os.path.join(DIR_MODELTORCH, bert_names['inp']),\n",
    "              'tar':None}\n",
    "\n",
    "print(f\"Using Pretrained Bert Model: {bert_names}\")\n",
    "print(f\"Cache Directory of Model: {cache_dirs}\")\n",
    "print(f\"\\nMax Length of Text: {MAX_LENGTHS}\")"
   ]
  },
  {
   "cell_type": "markdown",
   "metadata": {},
   "source": [
    "## <b> 1. Download Dataset <b/>\n",
    "#### <i> IMDB Dataset <i/>"
   ]
  },
  {
   "cell_type": "code",
   "execution_count": 4,
   "metadata": {},
   "outputs": [],
   "source": [
    "### Download the dataset and record the path\n",
    "\n",
    "url = 'https://ai.stanford.edu/~amaas/data/sentiment/aclImdb_v1.tar.gz'\n",
    "\n",
    "dataset = tf.keras.utils.get_file('aclImdb_v1.tar.gz', url, untar=True, cache_dir=DIR_DATA, cache_subdir='')\n",
    "dataset_dir = os.path.join(os.path.dirname(dataset), 'aclImdb')\n",
    "\n",
    "# remove unused folders to make it easier to load the data\n",
    "remove_dir = os.path.join(dataset_dir, 'train', 'unsup')\n",
    "shutil.rmtree(remove_dir)"
   ]
  },
  {
   "cell_type": "code",
   "execution_count": 5,
   "metadata": {
    "scrolled": true,
    "tags": []
   },
   "outputs": [
    {
     "name": "stdout",
     "output_type": "stream",
     "text": [
      "Number of Training Data : 22500\n",
      "Number of Validation Data : 2500\n",
      "Number of Testing Data : 25000\n",
      "\n",
      "Review: tv does influence society...just look at the surge in popularity of cappucino shops after this shallow little piece of work debuted. besides, real people who look as good as these people do don't have any problems. besides, does anyone really believe that these people can afford to live in a nice manhattan loft considering what they do for a living? nbc just loves to insult the viewer's intelligence, even if they're just around gump's level. i know a person who makes $100,000 a year as a web designer and lives in a tiny one-bedroom apartment in manhattan that costs $2200 a month in rent. i'd like to see a show called phriends, where it's six ugly nobodies in dead-end jobs, living in a crummy neighborhood where sirens constantly wail and someone gets mugged every week...and then the landlord jacks up the rent. now that i would watch.\n",
      "\n",
      "Label : 0\n",
      "\n",
      " ==================================================\n",
      "\n",
      "Review: beyond the fact crazy people exist and there are religious nuts out there. the characters basically make no sense most of the time. the film has no real beginning, middle or ending, nor is anything ever explained much. the film opens with a young man, with the unlikely name of hazel motes, apparently returning from a stint in the army. he hitches a ride to a two story house that is in extreme disrepair, windows boarded over. he goes in the house, walks around and finally writes a note that he leaves there. this scene comes to nothing, and we learn nothing further about the house or its history. it is never explained exactly whose house this is, or where the people have gone, but we are given the impression hazel has probably lived there at one time. hazel decides to go to a city. why - we don't know. once he arrives in this city he writes down a name & address that he sees on a bathroom wall, and goes to visit this woman, who is a surprisingly fat hooker. he sees her for awhile and then he apparently isn't seeing her anymore. like everything else in this movie, it comes to nothing and serves no purpose. a young man named enoch, tries to befriend him, but hazel really isn't interested, although they keep crossing paths. enoch is about as crazy as you can get. one of his habits is to go to the zoo and stand in front of the cage where the chimps are and talk at them insultingly. we never really know why enoch behaves as he does, or why hazel behaves as he does, beyond the fact hazel had an overdose of old time scary, fundamentalist religion via his grandfather. enoch later becomes enthralled with a man who dresses in a gorilla suit, and manages to get the gorilla suit from him and then runs around in it. hazel, who is wound rather tight and seems to be in a constant borderline rage does a bit of street preaching. i got the impression he was trying to free himself from the untruths of the religion that had been drilled into him. he has several encounters with a preacher and his daughter, although their interactions never really make any particular point, and there is no plot line. eventually hazel succumbs to complete religious fervor and begins self-harming. it is a very odd film. interesting in it's oddness but other than that it has absolutely nothing going for it. the cast does an outstanding job,but this film completely fails to deliver either a point of view or a storyline. the film also has the characters tossing around the n word from time to time with no connection to the rest of the dialog. 2 stars\n",
      "\n",
      "Label : 0\n",
      "\n",
      " ==================================================\n",
      "\n",
      "Review: how to lose friends and alienate people is decent comedy with a bit of romantic approach. it's actually a story of sidney young(simon pegg) breaking through in journalist and magazine writing business which is interpreted in a funny way. simon pegg made an ok appearance, slightly worse than his usual. movie is not hilarious or funny all the way or anything like that but it has its moments, and those moments are really hilarious. i recommend this fun and worth watching american with english cream comedy to all people who just wanna sit, relax and enjoy movie for what it is. if you're about to watch this movie with critical approach then you should pass unless you want to be disappointed and start trashing it.\n",
      "\n",
      "Label : 1\n",
      "\n",
      " ==================================================\n",
      "\n",
      "Review: todd rohal is a mad genius. \"knuckleface jones\", his third, and most fully realized, short film has an offbeat sense of humor and will leave some scratching their heads. what the film is about at heart, and he would almost certainly disagree with me on this, is how a regular joe finds the confidence to get through life with a little inspiration. or not. you just have to see for yourself. the short is intermittently making rounds on the festival circuit, so keep your eyes peeled and catch it if you can - you'll be glad you did. it is hilarious. and check out todd's other short films also popping up here and there from time to time: \"single spaced\" and \"slug 660\".\n",
      "\n",
      "Label : 1\n",
      "\n",
      " ==================================================\n",
      "\n",
      "Review: \"the true story of the friendship that shook south africa and awakened the world.\" richard attenborough, who directed \"a bridge too far\" and \"gandhi\", wanted to bring the story of steve biko to life, and the journey and trouble that journalist donald woods went through in order to get his story told. the films uses wood's two books for it's information and basis - \"biko\" and \"asking for trouble\". the film takes place in the late 1970's, in south africa. south africa is in the grip of the terrible apartheid, which keeps the blacks separated from the whites and classifies the whites as the superior race. the blacks are forced to live in shantytowns on the outskirts of the cities and towns, and they come under frequent harassment by the police and the army. we are shown a dawn raid on a shantytown, as bulldozers and armed police force their way through the camp beating and even killing the inhabitants. then we are introduced to donald woods (kevin kline), who is the editor of a popular newspaper. after publishing a negative story about black activist steve biko (denzel washington), woods goes to meet with him. the two are wary of each other at first, but they soon become good friends and biko shows the horrors of the apartheid system from a black persons point of view to woods. this encourages woods to speak out against what's happening around him, and makes him desperate to bring steve biko's story out of the clutches of the white man's south africa and to the world. soon, steve biko is arrested and is killed in prison. now woods and his family are daring to escape from south africa to england, where woods can publish his book about steve biko and the apartheid. when i first heard of \"cry freedom\", i was under the impression that it was a movie completely dedicated to the life of steve biko. i had never actually heard of steve biko before i seen this film, as the events in this film were really before my time. but it's more about the story of donald woods and his journey across the border into lesotho as he tried to elude the south african officials. woods was put on a five year type house arrest after steve biko was killed. so in order to publish his manuscript on steve biko, he had to escape. because the manuscript would be considered treason in south africa and that could have resulted in woods meeting a fate similar to that of biko's. the real donald woods and his wife acted as consultants to this film. denzel washington is only in the film for the first hour, and i was disappointed with that as i was expecting to see him for the entire movie. but he was amazing as steve biko, and captured his personality from what i've read really well and his accent sounded perfect. his performance earned him an oscar nomination for best supporting actor. kevin kline delivers a excellent and thought-evoking performance as donald woods, and penelope wilton is excellent as his wife wendy. filming took place in zimbabwe, as needless to say problems arose when they tried to film it in south africa. while in south africa, the south african gestapo followed the film crew everywhere, so they got the bad vibes and they pulled out and went to neighbouring zimbabwe instead. despite everything, and the fact that the apartheid didn't end 'til seven years later, \"cry freedom\" wasn't banned in south africa. but cinemas showing the movie received bomb threats. richard attenborough brings the horrors of the apartheid to the screen with extreme force and determination. he doesn't hold back at the end of the movie when showing what was supposed to be a peaceful protest by students in a shantytown, turns into a massacre when police open fire on them. the film ends with the names of all the anti-apartheid movers who died in prison, and the explanations for their deaths. many had \"no explanation\". quite a few were \"epilepsy\", which is hard to believe, and many more either fell from the top of the stairs or were \"suicide from hanging\". no one will ever know what really happened to them, but i think it's fair to say that none of these men died at their own hands, but at the hands of others; or to be more precise, at the hands of the police. \"cry freedom\" is a must-see movie for it's portrayal and story of steve biko. it's also a searing and devastating portrayal of a beautiful land divided and in the hellish grips of racial segregation and violence.\n",
      "\n",
      "Label : 1\n",
      "\n",
      " ==================================================\n"
     ]
    }
   ],
   "source": [
    "def read_sentiment_dataset(data_dir, label_dict, preprocessor=None):\n",
    "    data_dir = pathlib.Path(data_dir)\n",
    "    \n",
    "    texts, labels = [], []\n",
    "    for label_dir in label_dict.keys():\n",
    "        for text_file in (data_dir/label_dir).iterdir():\n",
    "            texts.append(text_file.read_text())\n",
    "            labels.append(label_dict[label_dir])\n",
    "\n",
    "    if preprocessor:\n",
    "        texts = preprocessor(texts, py_function=True)\n",
    "    return texts, labels\n",
    "\n",
    "### Dataset loading & preprocessing\n",
    "\n",
    "label_dict = {'pos':1, 'neg':0}\n",
    "train_texts, train_labels = read_sentiment_dataset(os.path.join(dataset_dir, 'train'), label_dict, text_preprocessors['inp'])\n",
    "test_texts, test_labels = read_sentiment_dataset(os.path.join(dataset_dir, 'test'), label_dict, text_preprocessors['inp'])\n",
    "\n",
    "### Data splitting\n",
    "\n",
    "n_keep = 0.1\n",
    "train_texts, valid_texts, train_labels, valid_labels = train_test_split(train_texts, train_labels, \n",
    "                                                                        test_size=n_keep, random_state=SEED)\n",
    "\n",
    "num_samples = len(train_labels)\n",
    "num_classes = len(set(train_labels))\n",
    "\n",
    "### Demo\n",
    "\n",
    "for name, data in zip(['Training', 'Validation', 'Testing'], [train_texts, valid_texts, test_texts]):\n",
    "    print(f\"Number of {name} Data :\", len(data))\n",
    "    \n",
    "for text, label in zip(train_texts[:5], train_labels):\n",
    "    print(f'\\nReview: {text}')\n",
    "    print(f'\\nLabel : {label}')\n",
    "    print('\\n', '=' * 50)"
   ]
  },
  {
   "cell_type": "markdown",
   "metadata": {},
   "source": [
    "## <b> 2. Setup Tokenizer & Dataset Pipeline <b/>"
   ]
  },
  {
   "cell_type": "code",
   "execution_count": 6,
   "metadata": {},
   "outputs": [
    {
     "data": {
      "application/vnd.jupyter.widget-view+json": {
       "model_id": "d58d3331c6a746eda7613ee25e36ce15",
       "version_major": 2,
       "version_minor": 0
      },
      "text/plain": [
       "Downloading:   0%|          | 0.00/570 [00:00<?, ?B/s]"
      ]
     },
     "metadata": {},
     "output_type": "display_data"
    },
    {
     "name": "stdout",
     "output_type": "stream",
     "text": [
      "en Vocabulary Size : 30522\n"
     ]
    }
   ],
   "source": [
    "tokenizers = tf.Module()\n",
    "tokenizers.inp = AutoTokenizer.from_pretrained(bert_names['inp'], cache_dir=cache_dirs['inp'], do_lower_case=True)\n",
    "\n",
    "### Parameters\n",
    "\n",
    "tokenizer_params = {\n",
    "    'inp':{'add_special_tokens':True, 'padding':True, 'truncation':True, 'max_length':MAX_LENGTHS['inp'], \n",
    "           'return_attention_mask':True, 'return_token_type_ids':False},\n",
    "    'tar':None\n",
    "}\n",
    "\n",
    "### Vocab Sizes\n",
    "\n",
    "inp_vocab_size = tokenizers.inp.vocab_size\n",
    "\n",
    "print(f'{inp_lang} Vocabulary Size :', inp_vocab_size)"
   ]
  },
  {
   "cell_type": "code",
   "execution_count": 7,
   "metadata": {},
   "outputs": [],
   "source": [
    "### Bert Tokenization: can only accept str, List[str] or List[List[str]]\n",
    "\n",
    "train_encodings = dict(tokenizers.inp(train_texts, **tokenizer_params['inp']))\n",
    "valid_encodings = dict(tokenizers.inp(valid_texts, **tokenizer_params['inp']))\n",
    "test_encodings = dict(tokenizers.inp(test_texts, **tokenizer_params['inp']))\n",
    "\n",
    "del train_texts, valid_texts, test_texts\n",
    "\n",
    "### Tensorflow Dataset: the amount of data is small so using from_tensor_slices is enough\n",
    "\n",
    "train_dataset = tf.data.Dataset.from_tensor_slices(((train_encodings['input_ids'], train_encodings['attention_mask']), train_labels))\n",
    "valid_dataset = tf.data.Dataset.from_tensor_slices(((valid_encodings['input_ids'], valid_encodings['attention_mask']), valid_labels))\n",
    "test_dataset = tf.data.Dataset.from_tensor_slices(((test_encodings['input_ids'], test_encodings['attention_mask']), test_labels))"
   ]
  },
  {
   "cell_type": "code",
   "execution_count": 8,
   "metadata": {
    "tags": []
   },
   "outputs": [
    {
     "name": "stdout",
     "output_type": "stream",
     "text": [
      "((<tf.Tensor: shape=(64, 256), dtype=int32, numpy=\n",
      "array([[  101,  2043,  2023, ...,     0,     0,     0],\n",
      "       [  101,  2009,  1055, ...,     0,     0,     0],\n",
      "       [  101,  7714,  1010, ...,     0,     0,     0],\n",
      "       ...,\n",
      "       [  101,  1045,  2074, ...,     0,     0,     0],\n",
      "       [  101,  1000, 12801, ...,     0,     0,     0],\n",
      "       [  101,  2009,  1005, ...,  2023,  2143,   102]], dtype=int32)>, <tf.Tensor: shape=(64, 256), dtype=int32, numpy=\n",
      "array([[1, 1, 1, ..., 0, 0, 0],\n",
      "       [1, 1, 1, ..., 0, 0, 0],\n",
      "       [1, 1, 1, ..., 0, 0, 0],\n",
      "       ...,\n",
      "       [1, 1, 1, ..., 0, 0, 0],\n",
      "       [1, 1, 1, ..., 0, 0, 0],\n",
      "       [1, 1, 1, ..., 1, 1, 1]], dtype=int32)>), <tf.Tensor: shape=(64,), dtype=int32, numpy=\n",
      "array([1, 1, 1, 1, 1, 1, 1, 1, 1, 1, 1, 1, 1, 1, 1, 1, 1, 1, 1, 1, 1, 1,\n",
      "       1, 1, 1, 1, 1, 1, 1, 1, 1, 1, 1, 1, 1, 1, 1, 1, 1, 1, 1, 1, 1, 1,\n",
      "       1, 1, 1, 1, 1, 1, 1, 1, 1, 1, 1, 1, 1, 1, 1, 1, 1, 1, 1, 1],\n",
      "      dtype=int32)>)\n"
     ]
    }
   ],
   "source": [
    "BUFFER_SIZE = 2**13\n",
    "BATCH_SIZE = 64\n",
    "\n",
    "train_batches = make_batches(train_dataset, BATCH_SIZE, BUFFER_SIZE)\n",
    "valid_batches = make_batches(valid_dataset, BATCH_SIZE)\n",
    "test_batches = make_batches(test_dataset, BATCH_SIZE, cache=False)\n",
    "\n",
    "for demo in test_batches.take(1):\n",
    "    print(demo)"
   ]
  },
  {
   "cell_type": "markdown",
   "metadata": {},
   "source": [
    "## <b> 3. Configure Training <b/>"
   ]
  },
  {
   "cell_type": "markdown",
   "metadata": {},
   "source": [
    "### <b> Hyperparameters <b/>"
   ]
  },
  {
   "cell_type": "code",
   "execution_count": 9,
   "metadata": {
    "scrolled": true,
    "tags": []
   },
   "outputs": [
    {
     "name": "stdout",
     "output_type": "stream",
     "text": [
      "{'inp': BertConfig {\n",
      "  \"architectures\": [\n",
      "    \"BertForMaskedLM\"\n",
      "  ],\n",
      "  \"attention_probs_dropout_prob\": 0.1,\n",
      "  \"classifier_dropout\": null,\n",
      "  \"gradient_checkpointing\": false,\n",
      "  \"hidden_act\": \"gelu\",\n",
      "  \"hidden_dropout_prob\": 0.1,\n",
      "  \"hidden_size\": 768,\n",
      "  \"initializer_range\": 0.02,\n",
      "  \"intermediate_size\": 3072,\n",
      "  \"layer_norm_eps\": 1e-12,\n",
      "  \"max_position_embeddings\": 512,\n",
      "  \"model_type\": \"bert\",\n",
      "  \"num_attention_heads\": 12,\n",
      "  \"num_hidden_layers\": 12,\n",
      "  \"pad_token_id\": 0,\n",
      "  \"position_embedding_type\": \"absolute\",\n",
      "  \"transformers_version\": \"4.12.3\",\n",
      "  \"type_vocab_size\": 2,\n",
      "  \"use_cache\": true,\n",
      "  \"vocab_size\": 30522\n",
      "}\n",
      ",\n",
      " 'tar': None}\n"
     ]
    }
   ],
   "source": [
    "### Configure pretrained model\n",
    "\n",
    "configs = {'inp':AutoConfig.from_pretrained(bert_names['inp'], cache_dir=cache_dirs['inp']),\n",
    "           'tar':None}\n",
    "pprint(configs)\n",
    "\n",
    "### Configure training process\n",
    "\n",
    "EPOCHS = 100\n",
    "EARLYSTOP = 5\n",
    "\n",
    "init_lr = 3e-5\n",
    "\n",
    "### Configure downstream model structure ( Mark the unused hyperparameters )\n",
    "\n",
    "num_layers = 1\n",
    "num_projection_layers = 1\n",
    "#embed_pos = True\n",
    "embed_dim = 256\n",
    "dense_dim = 512\n",
    "num_heads = 8\n",
    "dropout = 0.2\n",
    "activation, activation_name = tf.nn.gelu, 'gelu'\n",
    "\n",
    "nn_units = 64\n",
    "all_tune = False\n",
    "use_lstm = False\n",
    "\n",
    "### Other configuration\n",
    "\n",
    "#teacher = 100"
   ]
  },
  {
   "cell_type": "markdown",
   "metadata": {},
   "source": [
    "### <b> Loss & Metrics & Optimizer <b/>"
   ]
  },
  {
   "cell_type": "code",
   "execution_count": 10,
   "metadata": {},
   "outputs": [],
   "source": [
    "loss_function = tf.keras.losses.BinaryCrossentropy(from_logits=True)\n",
    "accuracy_function = tf.keras.metrics.BinaryAccuracy()\n",
    "\n",
    "metrics = [accuracy_function] "
   ]
  },
  {
   "cell_type": "code",
   "execution_count": 11,
   "metadata": {},
   "outputs": [
    {
     "name": "stderr",
     "output_type": "stream",
     "text": [
      "INFO:absl:using Adamw optimizer\n",
      "INFO:absl:gradient_clip_norm=1.000000\n"
     ]
    },
    {
     "name": "stdout",
     "output_type": "stream",
     "text": [
      "warmup_steps: 3520\n"
     ]
    }
   ],
   "source": [
    "steps_per_epoch = num_samples//BATCH_SIZE+1\n",
    "num_train_steps = steps_per_epoch * EPOCHS\n",
    "num_warmup_steps = int(0.1*num_train_steps)\n",
    "\n",
    "optimizer = official.nlp.optimization.create_optimizer(init_lr=init_lr,\n",
    "                                                       num_train_steps=num_train_steps,\n",
    "                                                       num_warmup_steps=num_warmup_steps,\n",
    "                                                       optimizer_type='adamw')\n",
    "print(f'warmup_steps: {num_warmup_steps}')"
   ]
  },
  {
   "cell_type": "markdown",
   "metadata": {},
   "source": [
    "### <b> Model <b/>"
   ]
  },
  {
   "cell_type": "code",
   "execution_count": 15,
   "metadata": {
    "scrolled": true,
    "tags": []
   },
   "outputs": [
    {
     "name": "stderr",
     "output_type": "stream",
     "text": [
      "Some layers from the model checkpoint at bert-base-uncased were not used when initializing TFBertModel: ['mlm___cls', 'nsp___cls']\n",
      "- This IS expected if you are initializing TFBertModel from the checkpoint of a model trained on another task or with another architecture (e.g. initializing a BertForSequenceClassification model from a BertForPreTraining model).\n",
      "- This IS NOT expected if you are initializing TFBertModel from the checkpoint of a model that you expect to be exactly identical (initializing a BertForSequenceClassification model from a BertForSequenceClassification model).\n",
      "All the layers of TFBertModel were initialized from the model checkpoint at bert-base-uncased.\n",
      "If your task is similar to the task the model of the checkpoint was trained on, you can already use TFBertModel for predictions without further training.\n"
     ]
    },
    {
     "name": "stdout",
     "output_type": "stream",
     "text": [
      "EN_TransformerEncoder_bert-base-uncased\n",
      "Model: \"model_2\"\n",
      "__________________________________________________________________________________________________\n",
      "Layer (type)                    Output Shape         Param #     Connected to                     \n",
      "==================================================================================================\n",
      "input_ids (InputLayer)          [(None, None)]       0                                            \n",
      "__________________________________________________________________________________________________\n",
      "attention_mask (InputLayer)     [(None, None)]       0                                            \n",
      "__________________________________________________________________________________________________\n",
      "tf_bert_model_2 (TFBertModel)   TFBaseModelOutputWit 109482240   input_ids[0][0]                  \n",
      "                                                                 attention_mask[0][0]             \n",
      "__________________________________________________________________________________________________\n",
      "embedding_projector_2 (Embeddin (None, None, 256)    263168      tf_bert_model_2[0][0]            \n",
      "__________________________________________________________________________________________________\n",
      "transformer_encoder_2 (Transfor ((None, None, 256),  2367488     embedding_projector_2[0][0]      \n",
      "                                                                 attention_mask[0][0]             \n",
      "__________________________________________________________________________________________________\n",
      "global_max_pooling1d_2 (GlobalM (None, 256)          0           transformer_encoder_2[0][0]      \n",
      "__________________________________________________________________________________________________\n",
      "dense_16 (Dense)                (None, 64)           16448       global_max_pooling1d_2[0][0]     \n",
      "__________________________________________________________________________________________________\n",
      "dropout_125 (Dropout)           (None, 64)           0           dense_16[0][0]                   \n",
      "__________________________________________________________________________________________________\n",
      "dense_17 (Dense)                (None, 1)            65          dropout_125[0][0]                \n",
      "==================================================================================================\n",
      "Total params: 112,129,409\n",
      "Trainable params: 2,647,169\n",
      "Non-trainable params: 109,482,240\n",
      "__________________________________________________________________________________________________\n"
     ]
    },
    {
     "data": {
      "text/plain": [
       "None"
      ]
     },
     "metadata": {},
     "output_type": "display_data"
    },
    {
     "name": "stdout",
     "output_type": "stream",
     "text": [
      "huggingface/tokenizers: The current process just got forked, after parallelism has already been used. Disabling parallelism to avoid deadlocks...\n",
      "To disable this warning, you can either:\n",
      "\t- Avoid using `tokenizers` before the fork if possible\n",
      "\t- Explicitly set the environment variable TOKENIZERS_PARALLELISM=(true | false)\n",
      "huggingface/tokenizers: The current process just got forked, after parallelism has already been used. Disabling parallelism to avoid deadlocks...\n",
      "To disable this warning, you can either:\n",
      "\t- Avoid using `tokenizers` before the fork if possible\n",
      "\t- Explicitly set the environment variable TOKENIZERS_PARALLELISM=(true | false)\n"
     ]
    },
    {
     "data": {
      "image/png": "[encoded data removed]",
      "text/plain": [
       "<IPython.core.display.Image object>"
      ]
     },
     "metadata": {},
     "output_type": "display_data"
    }
   ],
   "source": [
    "# Plot the model\n",
    "model_name = lang_prefix+f\"TransformerEncoder{'BiLSTM' if use_lstm else ''}_{bert_names['inp']}\"\n",
    "model = BertTransformerEncoder(bert_names=bert_names, \n",
    "                               configs=configs, \n",
    "                               cache_dirs=cache_dirs, \n",
    "                               all_tune=all_tune, \n",
    "                               num_projection_layers=num_projection_layers, \n",
    "                               use_lstm=use_lstm, \n",
    "                               nn_units=nn_units, \n",
    "                               num_layers=num_layers, \n",
    "                               embed_dim=embed_dim, \n",
    "                               num_heads=num_heads, \n",
    "                               num_classes=num_classes,\n",
    "                               dense_dim=dense_dim, \n",
    "                               activation=activation, \n",
    "                               dropout=dropout)\n",
    "\n",
    "print(model_name)\n",
    "display(model.build_graph().summary())\n",
    "display(tf.keras.utils.plot_model(model.build_graph(), show_shapes=True, expand_nested=True))"
   ]
  },
  {
   "cell_type": "markdown",
   "metadata": {},
   "source": [
    "## <b> 4. Training and checkpointing <b/>"
   ]
  },
  {
   "cell_type": "markdown",
   "metadata": {},
   "source": [
    "### <b> Checkpoint <b/>"
   ]
  },
  {
   "cell_type": "code",
   "execution_count": 16,
   "metadata": {},
   "outputs": [
    {
     "name": "stdout",
     "output_type": "stream",
     "text": [
      "run_id: 1layers_1projlayers_64nnunits_8heads_256embedding_512hidden_0.2dropout_gelu_3520warmup_AdamWeightDecay_partfinetune_64batchsize_8192shuffle_22500samples \n",
      "\n"
     ]
    },
    {
     "name": "stderr",
     "output_type": "stream",
     "text": [
      "2021-11-14 17:57:30.940385: I tensorflow/core/profiler/lib/profiler_session.cc:131] Profiler session initializing.\n",
      "2021-11-14 17:57:30.940429: I tensorflow/core/profiler/lib/profiler_session.cc:146] Profiler session started.\n",
      "2021-11-14 17:57:30.940610: I tensorflow/core/profiler/lib/profiler_session.cc:164] Profiler session tear down.\n"
     ]
    },
    {
     "name": "stdout",
     "output_type": "stream",
     "text": [
      "Restore the checkpoint at /data/Text_Sentimentor/model/checkpoints/EN_TransformerEncoder_bert-base-uncased_1layers_1projlayers_64nnunits_8heads_256embedding_512hidden_0.2dropout_gelu_3520warmup_AdamWeightDecay_partfinetune_64batchsize_8192shuffle_22500samples\n"
     ]
    }
   ],
   "source": [
    "# 方便比較不同實驗/ 不同超參數設定的結果\n",
    "run_id  = f\"{num_layers}layers_{num_projection_layers}projlayers_{nn_units}nnunits_{num_heads}heads_{embed_dim}embedding_{dense_dim}hidden\"\n",
    "run_id += f\"_{dropout}dropout_{activation_name}_{num_warmup_steps}warmup_{optimizer._name}_{'all' if all_tune else 'part'}finetune\"\n",
    "run_id += f\"_{BATCH_SIZE}batchsize_{BUFFER_SIZE}shuffle_{num_samples}samples\"\n",
    "print('run_id:', run_id, '\\n')\n",
    "\n",
    "# 設定存檔路徑\n",
    "checkpoint_path = os.path.join(DIR_CHECKPOINT, model_name+'_'+run_id)\n",
    "log_dir = os.path.join(DIR_LOG, model_name+'_'+run_id)\n",
    "\n",
    "# 設定回調函數\n",
    "es_metric = 'val_loss'\n",
    "\n",
    "checkpoint = tf.keras.callbacks.ModelCheckpoint(monitor=es_metric, save_weights_only=True, save_best_only=True, verbose=1, filepath=checkpoint_path)\n",
    "earlystopping = tf.keras.callbacks.EarlyStopping(monitor=es_metric, patience=EARLYSTOP, restore_best_weights=True, verbose=1)\n",
    "tensorboard = tf.keras.callbacks.TensorBoard(log_dir=log_dir)\n",
    "\n",
    "callbacks = [tensorboard, checkpoint, earlystopping]\n",
    "\n",
    "# 回覆存檔點\n",
    "try:\n",
    "    model.load_weights(checkpoint_path)\n",
    "    print(f'Restore the checkpoint at {checkpoint_path}')\n",
    "except:\n",
    "    print(\"There is no existed checkpoint ... Start from the beginning.\\n\")"
   ]
  },
  {
   "cell_type": "markdown",
   "metadata": {},
   "source": [
    "### <b> Training <b/>"
   ]
  },
  {
   "cell_type": "code",
   "execution_count": null,
   "metadata": {
    "scrolled": true,
    "tags": []
   },
   "outputs": [
    {
     "name": "stdout",
     "output_type": "stream",
     "text": [
      "Epoch 1/100\n"
     ]
    },
    {
     "name": "stderr",
     "output_type": "stream",
     "text": [
      "2021-11-14 17:57:48.952686: I tensorflow/compiler/mlir/mlir_graph_optimization_pass.cc:185] None of the MLIR Optimization Passes are enabled (registered 2)\n"
     ]
    },
    {
     "name": "stdout",
     "output_type": "stream",
     "text": [
      "  1/352 [..............................] - ETA: 1:59:50 - loss: 0.3575 - binary_accuracy: 0.8125"
     ]
    },
    {
     "name": "stderr",
     "output_type": "stream",
     "text": [
      "2021-11-14 17:58:03.275087: I tensorflow/core/profiler/lib/profiler_session.cc:131] Profiler session initializing.\n",
      "2021-11-14 17:58:03.275125: I tensorflow/core/profiler/lib/profiler_session.cc:146] Profiler session started.\n"
     ]
    },
    {
     "name": "stdout",
     "output_type": "stream",
     "text": [
      "  2/352 [..............................] - ETA: 1:20:04 - loss: 0.4424 - binary_accuracy: 0.8125"
     ]
    },
    {
     "name": "stderr",
     "output_type": "stream",
     "text": [
      "2021-11-14 17:58:16.740105: I tensorflow/core/profiler/lib/profiler_session.cc:66] Profiler session collecting data.\n",
      "2021-11-14 17:58:16.752560: I tensorflow/core/profiler/lib/profiler_session.cc:164] Profiler session tear down.\n",
      "2021-11-14 17:58:16.763296: I tensorflow/core/profiler/rpc/client/save_profile.cc:136] Creating directory: /data/Text_Sentimentor/model/logs/EN_TransformerEncoder_bert-base-uncased_1layers_1projlayers_64nnunits_8heads_256embedding_512hidden_0.2dropout_gelu_3520warmup_AdamWeightDecay_partfinetune_64batchsize_8192shuffle_22500samples/train/plugins/profile/2021_11_14_17_58_16\n",
      "\n",
      "2021-11-14 17:58:16.771643: I tensorflow/core/profiler/rpc/client/save_profile.cc:142] Dumped gzipped tool data for trace.json.gz to /data/Text_Sentimentor/model/logs/EN_TransformerEncoder_bert-base-uncased_1layers_1projlayers_64nnunits_8heads_256embedding_512hidden_0.2dropout_gelu_3520warmup_AdamWeightDecay_partfinetune_64batchsize_8192shuffle_22500samples/train/plugins/profile/2021_11_14_17_58_16/563d8d159b5e.trace.json.gz\n",
      "2021-11-14 17:58:16.781044: I tensorflow/core/profiler/rpc/client/save_profile.cc:136] Creating directory: /data/Text_Sentimentor/model/logs/EN_TransformerEncoder_bert-base-uncased_1layers_1projlayers_64nnunits_8heads_256embedding_512hidden_0.2dropout_gelu_3520warmup_AdamWeightDecay_partfinetune_64batchsize_8192shuffle_22500samples/train/plugins/profile/2021_11_14_17_58_16\n",
      "\n",
      "2021-11-14 17:58:16.781106: I tensorflow/core/profiler/rpc/client/save_profile.cc:142] Dumped gzipped tool data for memory_profile.json.gz to /data/Text_Sentimentor/model/logs/EN_TransformerEncoder_bert-base-uncased_1layers_1projlayers_64nnunits_8heads_256embedding_512hidden_0.2dropout_gelu_3520warmup_AdamWeightDecay_partfinetune_64batchsize_8192shuffle_22500samples/train/plugins/profile/2021_11_14_17_58_16/563d8d159b5e.memory_profile.json.gz\n",
      "2021-11-14 17:58:16.781791: I tensorflow/core/profiler/rpc/client/capture_profile.cc:251] Creating directory: /data/Text_Sentimentor/model/logs/EN_TransformerEncoder_bert-base-uncased_1layers_1projlayers_64nnunits_8heads_256embedding_512hidden_0.2dropout_gelu_3520warmup_AdamWeightDecay_partfinetune_64batchsize_8192shuffle_22500samples/train/plugins/profile/2021_11_14_17_58_16\n",
      "Dumped tool data for xplane.pb to /data/Text_Sentimentor/model/logs/EN_TransformerEncoder_bert-base-uncased_1layers_1projlayers_64nnunits_8heads_256embedding_512hidden_0.2dropout_gelu_3520warmup_AdamWeightDecay_partfinetune_64batchsize_8192shuffle_22500samples/train/plugins/profile/2021_11_14_17_58_16/563d8d159b5e.xplane.pb\n",
      "Dumped tool data for overview_page.pb to /data/Text_Sentimentor/model/logs/EN_TransformerEncoder_bert-base-uncased_1layers_1projlayers_64nnunits_8heads_256embedding_512hidden_0.2dropout_gelu_3520warmup_AdamWeightDecay_partfinetune_64batchsize_8192shuffle_22500samples/train/plugins/profile/2021_11_14_17_58_16/563d8d159b5e.overview_page.pb\n",
      "Dumped tool data for input_pipeline.pb to /data/Text_Sentimentor/model/logs/EN_TransformerEncoder_bert-base-uncased_1layers_1projlayers_64nnunits_8heads_256embedding_512hidden_0.2dropout_gelu_3520warmup_AdamWeightDecay_partfinetune_64batchsize_8192shuffle_22500samples/train/plugins/profile/2021_11_14_17_58_16/563d8d159b5e.input_pipeline.pb\n",
      "Dumped tool data for tensorflow_stats.pb to /data/Text_Sentimentor/model/logs/EN_TransformerEncoder_bert-base-uncased_1layers_1projlayers_64nnunits_8heads_256embedding_512hidden_0.2dropout_gelu_3520warmup_AdamWeightDecay_partfinetune_64batchsize_8192shuffle_22500samples/train/plugins/profile/2021_11_14_17_58_16/563d8d159b5e.tensorflow_stats.pb\n",
      "Dumped tool data for kernel_stats.pb to /data/Text_Sentimentor/model/logs/EN_TransformerEncoder_bert-base-uncased_1layers_1projlayers_64nnunits_8heads_256embedding_512hidden_0.2dropout_gelu_3520warmup_AdamWeightDecay_partfinetune_64batchsize_8192shuffle_22500samples/train/plugins/profile/2021_11_14_17_58_16/563d8d159b5e.kernel_stats.pb\n",
      "\n"
     ]
    },
    {
     "name": "stdout",
     "output_type": "stream",
     "text": [
      "352/352 [==============================] - 5300s 15s/step - loss: 0.3125 - binary_accuracy: 0.8641 - val_loss: 0.2733 - val_binary_accuracy: 0.8804\n",
      "\n",
      "Epoch 00001: val_loss improved from inf to 0.27326, saving model to /data/Text_Sentimentor/model/checkpoints/EN_TransformerEncoder_bert-base-uncased_1layers_1projlayers_64nnunits_8heads_256embedding_512hidden_0.2dropout_gelu_3520warmup_AdamWeightDecay_partfinetune_64batchsize_8192shuffle_22500samples\n",
      "Epoch 2/100\n",
      "352/352 [==============================] - 5309s 15s/step - loss: 0.2942 - binary_accuracy: 0.8706 - val_loss: 0.2660 - val_binary_accuracy: 0.8796\n",
      "\n",
      "Epoch 00002: val_loss improved from 0.27326 to 0.26596, saving model to /data/Text_Sentimentor/model/checkpoints/EN_TransformerEncoder_bert-base-uncased_1layers_1projlayers_64nnunits_8heads_256embedding_512hidden_0.2dropout_gelu_3520warmup_AdamWeightDecay_partfinetune_64batchsize_8192shuffle_22500samples\n",
      "Epoch 3/100\n",
      "352/352 [==============================] - 5120s 15s/step - loss: 0.2812 - binary_accuracy: 0.8785 - val_loss: 0.2569 - val_binary_accuracy: 0.8844\n",
      "\n",
      "Epoch 00003: val_loss improved from 0.26596 to 0.25686, saving model to /data/Text_Sentimentor/model/checkpoints/EN_TransformerEncoder_bert-base-uncased_1layers_1projlayers_64nnunits_8heads_256embedding_512hidden_0.2dropout_gelu_3520warmup_AdamWeightDecay_partfinetune_64batchsize_8192shuffle_22500samples\n",
      "Epoch 4/100\n",
      "352/352 [==============================] - 5153s 15s/step - loss: 0.2739 - binary_accuracy: 0.8839 - val_loss: 0.2529 - val_binary_accuracy: 0.8840\n",
      "\n",
      "Epoch 00004: val_loss improved from 0.25686 to 0.25294, saving model to /data/Text_Sentimentor/model/checkpoints/EN_TransformerEncoder_bert-base-uncased_1layers_1projlayers_64nnunits_8heads_256embedding_512hidden_0.2dropout_gelu_3520warmup_AdamWeightDecay_partfinetune_64batchsize_8192shuffle_22500samples\n",
      "Epoch 5/100\n",
      "352/352 [==============================] - 5049s 14s/step - loss: 0.2683 - binary_accuracy: 0.8846 - val_loss: 0.2435 - val_binary_accuracy: 0.8968\n",
      "\n",
      "Epoch 00005: val_loss improved from 0.25294 to 0.24347, saving model to /data/Text_Sentimentor/model/checkpoints/EN_TransformerEncoder_bert-base-uncased_1layers_1projlayers_64nnunits_8heads_256embedding_512hidden_0.2dropout_gelu_3520warmup_AdamWeightDecay_partfinetune_64batchsize_8192shuffle_22500samples\n",
      "Epoch 6/100\n",
      "352/352 [==============================] - 5099s 14s/step - loss: 0.2622 - binary_accuracy: 0.8868 - val_loss: 0.2400 - val_binary_accuracy: 0.8972\n",
      "\n",
      "Epoch 00006: val_loss improved from 0.24347 to 0.23998, saving model to /data/Text_Sentimentor/model/checkpoints/EN_TransformerEncoder_bert-base-uncased_1layers_1projlayers_64nnunits_8heads_256embedding_512hidden_0.2dropout_gelu_3520warmup_AdamWeightDecay_partfinetune_64batchsize_8192shuffle_22500samples\n",
      "Epoch 7/100\n",
      "352/352 [==============================] - 5117s 15s/step - loss: 0.2557 - binary_accuracy: 0.8910 - val_loss: 0.2420 - val_binary_accuracy: 0.8848\n",
      "\n",
      "Epoch 00007: val_loss did not improve from 0.23998\n",
      "Epoch 8/100\n",
      "352/352 [==============================] - 5110s 15s/step - loss: 0.2538 - binary_accuracy: 0.8912 - val_loss: 0.2370 - val_binary_accuracy: 0.8936\n",
      "\n",
      "Epoch 00008: val_loss improved from 0.23998 to 0.23702, saving model to /data/Text_Sentimentor/model/checkpoints/EN_TransformerEncoder_bert-base-uncased_1layers_1projlayers_64nnunits_8heads_256embedding_512hidden_0.2dropout_gelu_3520warmup_AdamWeightDecay_partfinetune_64batchsize_8192shuffle_22500samples\n",
      "Epoch 9/100\n",
      "352/352 [==============================] - 5132s 15s/step - loss: 0.2511 - binary_accuracy: 0.8942 - val_loss: 0.2399 - val_binary_accuracy: 0.9040\n",
      "\n",
      "Epoch 00009: val_loss did not improve from 0.23702\n",
      "Epoch 10/100\n",
      "352/352 [==============================] - 5128s 15s/step - loss: 0.2454 - binary_accuracy: 0.8978 - val_loss: 0.2361 - val_binary_accuracy: 0.8920\n",
      "\n",
      "Epoch 00010: val_loss improved from 0.23702 to 0.23606, saving model to /data/Text_Sentimentor/model/checkpoints/EN_TransformerEncoder_bert-base-uncased_1layers_1projlayers_64nnunits_8heads_256embedding_512hidden_0.2dropout_gelu_3520warmup_AdamWeightDecay_partfinetune_64batchsize_8192shuffle_22500samples\n",
      "Epoch 11/100\n",
      "352/352 [==============================] - 5117s 15s/step - loss: 0.2442 - binary_accuracy: 0.8972 - val_loss: 0.2367 - val_binary_accuracy: 0.8948\n",
      "\n",
      "Epoch 00011: val_loss did not improve from 0.23606\n",
      "Epoch 12/100\n",
      "352/352 [==============================] - 5121s 15s/step - loss: 0.2399 - binary_accuracy: 0.8984 - val_loss: 0.2373 - val_binary_accuracy: 0.8944\n",
      "\n",
      "Epoch 00012: val_loss did not improve from 0.23606\n",
      "Epoch 13/100\n",
      "352/352 [==============================] - 5107s 15s/step - loss: 0.2367 - binary_accuracy: 0.9006 - val_loss: 0.2344 - val_binary_accuracy: 0.8896\n",
      "\n",
      "Epoch 00013: val_loss improved from 0.23606 to 0.23439, saving model to /data/Text_Sentimentor/model/checkpoints/EN_TransformerEncoder_bert-base-uncased_1layers_1projlayers_64nnunits_8heads_256embedding_512hidden_0.2dropout_gelu_3520warmup_AdamWeightDecay_partfinetune_64batchsize_8192shuffle_22500samples\n",
      "Epoch 14/100\n",
      "352/352 [==============================] - 4996s 14s/step - loss: 0.2363 - binary_accuracy: 0.9001 - val_loss: 0.2435 - val_binary_accuracy: 0.8820\n",
      "\n",
      "Epoch 00014: val_loss did not improve from 0.23439\n",
      "Epoch 15/100\n",
      "113/352 [========>.....................] - ETA: 52:05 - loss: 0.2253 - binary_accuracy: 0.9074"
     ]
    }
   ],
   "source": [
    "%%time\n",
    "\n",
    "model.compile(optimizer=optimizer, loss=loss_function, metrics=metrics)\n",
    "history = model.fit(train_batches, validation_data=valid_batches, \n",
    "                    epochs=EPOCHS, steps_per_epoch=steps_per_epoch, callbacks=callbacks)"
   ]
  },
  {
   "cell_type": "markdown",
   "metadata": {
    "tags": []
   },
   "source": [
    "### <b> Evaluation <b/>"
   ]
  },
  {
   "cell_type": "code",
   "execution_count": null,
   "metadata": {
    "scrolled": true,
    "tags": []
   },
   "outputs": [
    {
     "name": "stdout",
     "output_type": "stream",
     "text": [
      "  6/391 [..............................] - ETA: 1:09:07 - loss: 0.3480 - binary_accuracy: 0.7995"
     ]
    }
   ],
   "source": [
    "%%time\n",
    "\n",
    "loss, accuracy = model.evaluate(test_batches)\n",
    "\n",
    "score = f\"accuracy-{accuracy:.6f}-{dataset_dir[dataset_dir.rfind('/')+1:]}\"\n",
    "score"
   ]
  },
  {
   "cell_type": "markdown",
   "metadata": {},
   "source": [
    "## <b> 5. Model Export & Pipeline Build <b/>"
   ]
  },
  {
   "cell_type": "code",
   "execution_count": 49,
   "metadata": {},
   "outputs": [],
   "source": [
    "class HF2TFModelExporter(tf.Module):\n",
    "    \"\"\" \n",
    "    Save the fine-tuned Hugging Face model with detail information, \n",
    "    and should be modified based on the model's inputs.    \n",
    "    \"\"\"\n",
    "    def __init__(self, model, bert_names, config_detail, num_classes, inp_lang='', tar_lang=''):\n",
    "        self.model = model\n",
    "        self.num_classes = num_classes\n",
    "        self.config_detail = tf.Variable(config_detail)\n",
    "        \n",
    "        self.inp_bert = tf.Variable(bert_names['inp'] or '')        \n",
    "        self.tar_bert = tf.Variable(bert_names['tar'] or '')        \n",
    "        self.inp_lang = tf.Variable(inp_lang)\n",
    "        self.tar_lang = tf.Variable(tar_lang)     \n",
    "\n",
    "    # Notice: the input should be encoded as token_ids and masks, \n",
    "    # and the signature need to be adjusted based on the number of masks\n",
    "    @tf.function(input_signature=[[tf.TensorSpec(shape=[None, None], dtype=tf.int32),\n",
    "                                   tf.TensorSpec(shape=[None, None], dtype=tf.int32)]])\n",
    "    def __call__(self, inputs, return_prob=True):        \n",
    "        outputs = self.model(inputs, training=False)\n",
    "        \n",
    "        # Multiclass Problem\n",
    "        if self.num_classes <= 2:\n",
    "            outputs = tf.nn.sigmoid(outputs)\n",
    "        else:\n",
    "            outputs = tf.nn.softmax(outputs)\n",
    "            if not return_prob:\n",
    "                outputs = tf.math.argmax(outputs, axis=-1) + 1\n",
    "\n",
    "        return outputs"
   ]
  },
  {
   "cell_type": "code",
   "execution_count": 74,
   "metadata": {},
   "outputs": [
    {
     "name": "stderr",
     "output_type": "stream",
     "text": [
      "WARNING:absl:Function `__call__` contains input name(s) inputs with unsupported characters which will be renamed to inputs_1 in the SavedModel.\n",
      "WARNING:absl:Found untraced functions such as dense_18_layer_call_and_return_conditional_losses, dense_18_layer_call_fn, activation_3_layer_call_and_return_conditional_losses, activation_3_layer_call_fn, dropout_166_layer_call_and_return_conditional_losses while saving (showing 5 of 1145). These functions will not be directly callable after loading.\n"
     ]
    }
   ],
   "source": [
    "### Create and save the predictor\n",
    "\n",
    "config_detail = f\"{model_name}_{score}_{run_id}\"\n",
    "predictor = HF2TFModelExporter(model, bert_names, config_detail=config_detail, num_classes=num_classes, inp_lang=inp_lang)\n",
    "predictor_dir = os.path.join(DIR_MODEL, f\"{model_name}_{score}\")\n",
    "tf.saved_model.save(predictor, export_dir=predictor_dir)\n",
    "\n",
    "### Reload the pipeline to verify the result\n",
    "\n",
    "model_dir = predictor_dir\n",
    "pretrain_dir = DIR_MODELTORCH\n",
    "pipeline = HF2TFClassifierPipeline(model_dir, pretrain_dir, text_preprocessors, max_length=MAX_LENGTHS['inp'])"
   ]
  },
  {
   "cell_type": "markdown",
   "metadata": {},
   "source": [
    "## <b> 6. Run Inference <b/>"
   ]
  },
  {
   "cell_type": "code",
   "execution_count": 75,
   "metadata": {},
   "outputs": [
    {
     "name": "stdout",
     "output_type": "stream",
     "text": [
      "Input: this is such an amazing movie!                     => score: 0.198779\n",
      "Input: The movie was great!                               => score: 0.394043\n",
      "Input: The movie was meh.                                 => score: 0.277968\n",
      "Input: The movie was okish.                               => score: 0.264516\n",
      "Input: The movie was terrible...                          => score: 0.172645\n",
      "Input: this is a bad test                                 => score: 0.264395\n",
      "Input: and happy one is here to be classified             => score: 0.445607\n",
      "Input: I broke up with my...cat, help me :(:(:(           => score: 0.117212\n",
      "Input: movie data seems to be not enough                  => score: 0.223223\n",
      "Input: it is definitely not bad                           => score: 0.326945\n"
     ]
    }
   ],
   "source": [
    "sentences = [\n",
    "    'this is such an amazing movie!',  # this is the same sentence tried earlier\n",
    "    'The movie was great!',\n",
    "    'The movie was meh.',\n",
    "    'The movie was okish.',\n",
    "    'The movie was terrible...',\n",
    "    'this is a bad test', \n",
    "    'and happy one is here to be classified',\n",
    "    'I broke up with my...cat, help me :(:(:(',\n",
    "    'movie data seems to be not enough',\n",
    "    'it is definitely not bad'\n",
    "]\n",
    "\n",
    "results = pipeline(sentences)\n",
    "results_for_printing = [f\"Input: {sentences[n]:<50} => score: {results[n][0]:.6f}\"\n",
    "                        for n, text in enumerate(sentences)]\n",
    "\n",
    "print(*results_for_printing, sep='\\n')"
   ]
  },
  {
   "cell_type": "code",
   "execution_count": null,
   "metadata": {},
   "outputs": [],
   "source": []
  }
 ],
 "metadata": {
  "colab": {
   "collapsed_sections": [],
   "name": "classify_text_with_bert.ipynb",
   "provenance": [],
   "toc_visible": true
  },
  "kernelspec": {
   "display_name": "Python 3 (ipykernel)",
   "language": "python",
   "name": "python3"
  },
  "language_info": {
   "codemirror_mode": {
    "name": "ipython",
    "version": 3
   },
   "file_extension": ".py",
   "mimetype": "text/x-python",
   "name": "python",
   "nbconvert_exporter": "python",
   "pygments_lexer": "ipython3",
   "version": "3.8.8"
  }
 },
 "nbformat": 4,
 "nbformat_minor": 4
}
