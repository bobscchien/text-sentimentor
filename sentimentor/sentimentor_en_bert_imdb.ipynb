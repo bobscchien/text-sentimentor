{
 "cells": [
  {
   "cell_type": "markdown",
   "metadata": {
    "id": "IZ6SNYq_tVVC",
    "tags": []
   },
   "source": [
    "## <b> Setup <b/>"
   ]
  },
  {
   "cell_type": "markdown",
   "metadata": {},
   "source": [
    "### <b> Colab <b/>"
   ]
  },
  {
   "cell_type": "code",
   "execution_count": 1,
   "metadata": {},
   "outputs": [],
   "source": [
    "colab = False\n",
    "\n",
    "if colab:\n",
    "    \n",
    "    ### Install packages\n",
    "\n",
    "    !pip3 install tensorflow-text\n",
    "    !pip3 install tf-models-official\n",
    "    !pip3 install transformers\n",
    "    !pip3 install datasets\n",
    "    !pip3 install swifter\n",
    "    !pip3 install opencc-python-reimplemented\n",
    "\n",
    "    ### Access Google Drive\n",
    "\n",
    "    from google.colab import drive\n",
    "    drive.mount('/content/gdrive')\n",
    "\n",
    "    ### Access GCS\n",
    "\n",
    "    from google.colab import auth\n",
    "    auth.authenticate_user()\n",
    "\n",
    "    ### Mount the directories\n",
    "\n",
    "    import os\n",
    "\n",
    "    # Mount the data directory\n",
    "    os.chdir('/content/gdrive/MyDrive/LinuxServer-Bob/Code/Project/Text_Sentimentor/sentimentor')\n",
    "    os.symlink('/content/gdrive/MyDrive/LinuxServer-Bob/Data', '/data')\n",
    "    print(f\"PWD: {os.getcwd()}\")\n",
    "\n",
    "    # Mount the tfrecord directory\n",
    "    gcs_path = \"gs://bobscchien-project-data\"\n",
    "    \n",
    "    ### Check the computation resources\n",
    "\n",
    "    gpu_info = !nvidia-smi\n",
    "    gpu_info = '\\n'.join(gpu_info)\n",
    "    if gpu_info.find('failed') >= 0:\n",
    "        print('Not connected to a GPU')\n",
    "    else:\n",
    "        print(gpu_info)"
   ]
  },
  {
   "cell_type": "markdown",
   "metadata": {},
   "source": [
    "### <b> Initialization <b/>"
   ]
  },
  {
   "cell_type": "code",
   "execution_count": 2,
   "metadata": {
    "id": "_XgTpm9ZxoN9",
    "scrolled": true,
    "tags": []
   },
   "outputs": [
    {
     "name": "stderr",
     "output_type": "stream",
     "text": [
      "2021-11-21 08:32:09.752033: W tensorflow/stream_executor/platform/default/dso_loader.cc:64] Could not load dynamic library 'libcudart.so.11.0'; dlerror: libcudart.so.11.0: cannot open shared object file: No such file or directory\n",
      "2021-11-21 08:32:09.752087: I tensorflow/stream_executor/cuda/cudart_stub.cc:29] Ignore above cudart dlerror if you do not have a GPU set up on your machine.\n"
     ]
    },
    {
     "name": "stdout",
     "output_type": "stream",
     "text": [
      "Directory /data exists.\n",
      "Directory /data/Model_Tensorflow exists.\n",
      "Directory /data/Model_Pytorch exists.\n",
      "Directory /data/Text_Tokenizer/vocab exists.\n",
      "Directory /data/Text_Tokenizer/trained exists.\n",
      "Directory /data/Text_Sentimentor/dataset exists.\n",
      "Directory /data/Text_Sentimentor/datatf exists.\n",
      "Directory /data/Text_Sentimentor/model/savedmodels exists.\n",
      "Directory /data/Text_Sentimentor/model/checkpoints exists.\n",
      "Directory /data/Text_Sentimentor/model/logs exists.\n",
      "Directory /data/Text_Sentimentor/tmp exists.\n",
      "\n",
      "Running on CPU...\n",
      "\n",
      "Your runtime has 101.1 gigabytes of available RAM\n",
      "\n",
      "You are using a high-RAM runtime!\n"
     ]
    },
    {
     "name": "stderr",
     "output_type": "stream",
     "text": [
      "2021-11-21 08:32:13.278804: W tensorflow/stream_executor/platform/default/dso_loader.cc:64] Could not load dynamic library 'libcuda.so.1'; dlerror: libcuda.so.1: cannot open shared object file: No such file or directory\n",
      "2021-11-21 08:32:13.278907: W tensorflow/stream_executor/cuda/cuda_driver.cc:269] failed call to cuInit: UNKNOWN ERROR (303)\n",
      "2021-11-21 08:32:13.278938: I tensorflow/stream_executor/cuda/cuda_diagnostics.cc:163] no NVIDIA GPU device is present: /dev/nvidia0 does not exist\n",
      "2021-11-21 08:32:13.340666: I tensorflow/core/platform/cpu_feature_guard.cc:142] This TensorFlow binary is optimized with oneAPI Deep Neural Network Library (oneDNN) to use the following CPU instructions in performance-critical operations:  AVX2 FMA\n",
      "To enable them in other operations, rebuild TensorFlow with the appropriate compiler flags.\n"
     ]
    }
   ],
   "source": [
    "from utils.initialization import *\n",
    "from utils.tokenizer import *\n",
    "from utils.dataset_tfrecord import *\n",
    "from utils.servitization import *\n",
    "from utils.visualization import *\n",
    "from models.transformer_bert import *"
   ]
  },
  {
   "cell_type": "code",
   "execution_count": 3,
   "metadata": {},
   "outputs": [],
   "source": [
    "if colab:\n",
    "    DIR_VOCAB       = os.path.join(gcs_path, 'Text_Tokenizer', 'vocab')\n",
    "    DIR_TOKEN       = os.path.join(gcs_path, 'Text_Tokenizer', 'trained')\n",
    "\n",
    "    DIR_TFRECORD    = os.path.join(gcs_path, PROJECT_NAME, 'datatf')\n",
    "    DIR_MODEL       = os.path.join(gcs_path, PROJECT_NAME, 'model', 'savedmodels')\n",
    "    DIR_CHECKPOINT  = os.path.join(gcs_path, PROJECT_NAME, 'model', 'checkpoints')\n",
    "    DIR_LOG         = os.path.join(gcs_path, PROJECT_NAME, 'model', 'logs')"
   ]
  },
  {
   "cell_type": "markdown",
   "metadata": {},
   "source": [
    "### <b> Parameters <b/>"
   ]
  },
  {
   "cell_type": "code",
   "execution_count": 4,
   "metadata": {},
   "outputs": [],
   "source": [
    "### Tokenization Method\n",
    "\n",
    "### Language Pair\n",
    "\n",
    "lang_pair = ('en', '')\n",
    "lang_prefix = f\"{lang_pair[0].upper()}_\"\n",
    "inp_lang, tar_lang = lang_pair\n",
    "\n",
    "### Preprocessor\n",
    "\n",
    "text_preprocessors = {'inp':en_preprocess, 'tar':None}\n",
    "\n",
    "### Global Variables\n",
    "\n",
    "MAX_LENGTHS = {'inp':256, 'tar':None}"
   ]
  },
  {
   "cell_type": "code",
   "execution_count": 5,
   "metadata": {},
   "outputs": [
    {
     "name": "stdout",
     "output_type": "stream",
     "text": [
      "Using Pretrained Bert Model: {'inp': 'bert-base-uncased', 'tar': None}\n",
      "Cache Directory of Model: {'inp': '/data/Model_Pytorch/bert-base-uncased', 'tar': None}\n",
      "\n",
      "Max Length of Text: {'inp': 256, 'tar': None}\n"
     ]
    }
   ],
   "source": [
    "### Definition of Bert Model\n",
    "\n",
    "bert_names = {'inp':BERT_NAMES[inp_lang]['bert'][0],\n",
    "              'tar':None}\n",
    "cache_dirs = {'inp':os.path.join(DIR_MODELTORCH, bert_names['inp']),\n",
    "              'tar':None}\n",
    "\n",
    "print(f\"Using Pretrained Bert Model: {bert_names}\")\n",
    "print(f\"Cache Directory of Model: {cache_dirs}\")\n",
    "print(f\"\\nMax Length of Text: {MAX_LENGTHS}\")"
   ]
  },
  {
   "cell_type": "markdown",
   "metadata": {},
   "source": [
    "## <b> 1. Download Dataset <b/>\n",
    "#### <i> IMDB Dataset <i/>"
   ]
  },
  {
   "cell_type": "code",
   "execution_count": 6,
   "metadata": {},
   "outputs": [],
   "source": [
    "dataset_name = 'imdb'"
   ]
  },
  {
   "cell_type": "code",
   "execution_count": 7,
   "metadata": {},
   "outputs": [],
   "source": [
    "### Download the dataset and record the path\n",
    "\n",
    "url = 'https://ai.stanford.edu/~amaas/data/sentiment/aclImdb_v1.tar.gz'\n",
    "\n",
    "dataset = tf.keras.utils.get_file('aclImdb_v1.tar.gz', url, untar=True, cache_dir=DIR_DATA, cache_subdir='')\n",
    "dataset_dir = os.path.join(os.path.dirname(dataset), 'aclImdb')\n",
    "\n",
    "# remove unused folders to make it easier to load the data\n",
    "remove_dir = os.path.join(dataset_dir, 'train', 'unsup')\n",
    "shutil.rmtree(remove_dir)"
   ]
  },
  {
   "cell_type": "code",
   "execution_count": 8,
   "metadata": {
    "scrolled": true,
    "tags": []
   },
   "outputs": [
    {
     "name": "stdout",
     "output_type": "stream",
     "text": [
      "Number of Training Data : 22500\n",
      "Number of Validation Data : 2500\n",
      "Number of Testing Data : 25000\n",
      "\n",
      "Review: tv does influence society...just look at the surge in popularity of cappucino shops after this shallow little piece of work debuted. besides, real people who look as good as these people do don't have any problems. besides, does anyone really believe that these people can afford to live in a nice manhattan loft considering what they do for a living? nbc just loves to insult the viewer's intelligence, even if they're just around gump's level. i know a person who makes $100,000 a year as a web designer and lives in a tiny one-bedroom apartment in manhattan that costs $2200 a month in rent. i'd like to see a show called phriends, where it's six ugly nobodies in dead-end jobs, living in a crummy neighborhood where sirens constantly wail and someone gets mugged every week...and then the landlord jacks up the rent. now that i would watch.\n",
      "\n",
      "Label : 0\n",
      "\n",
      " ==================================================\n",
      "\n",
      "Review: beyond the fact crazy people exist and there are religious nuts out there. the characters basically make no sense most of the time. the film has no real beginning, middle or ending, nor is anything ever explained much. the film opens with a young man, with the unlikely name of hazel motes, apparently returning from a stint in the army. he hitches a ride to a two story house that is in extreme disrepair, windows boarded over. he goes in the house, walks around and finally writes a note that he leaves there. this scene comes to nothing, and we learn nothing further about the house or its history. it is never explained exactly whose house this is, or where the people have gone, but we are given the impression hazel has probably lived there at one time. hazel decides to go to a city. why - we don't know. once he arrives in this city he writes down a name & address that he sees on a bathroom wall, and goes to visit this woman, who is a surprisingly fat hooker. he sees her for awhile and then he apparently isn't seeing her anymore. like everything else in this movie, it comes to nothing and serves no purpose. a young man named enoch, tries to befriend him, but hazel really isn't interested, although they keep crossing paths. enoch is about as crazy as you can get. one of his habits is to go to the zoo and stand in front of the cage where the chimps are and talk at them insultingly. we never really know why enoch behaves as he does, or why hazel behaves as he does, beyond the fact hazel had an overdose of old time scary, fundamentalist religion via his grandfather. enoch later becomes enthralled with a man who dresses in a gorilla suit, and manages to get the gorilla suit from him and then runs around in it. hazel, who is wound rather tight and seems to be in a constant borderline rage does a bit of street preaching. i got the impression he was trying to free himself from the untruths of the religion that had been drilled into him. he has several encounters with a preacher and his daughter, although their interactions never really make any particular point, and there is no plot line. eventually hazel succumbs to complete religious fervor and begins self-harming. it is a very odd film. interesting in it's oddness but other than that it has absolutely nothing going for it. the cast does an outstanding job,but this film completely fails to deliver either a point of view or a storyline. the film also has the characters tossing around the n word from time to time with no connection to the rest of the dialog. 2 stars\n",
      "\n",
      "Label : 0\n",
      "\n",
      " ==================================================\n",
      "\n",
      "Review: how to lose friends and alienate people is decent comedy with a bit of romantic approach. it's actually a story of sidney young(simon pegg) breaking through in journalist and magazine writing business which is interpreted in a funny way. simon pegg made an ok appearance, slightly worse than his usual. movie is not hilarious or funny all the way or anything like that but it has its moments, and those moments are really hilarious. i recommend this fun and worth watching american with english cream comedy to all people who just wanna sit, relax and enjoy movie for what it is. if you're about to watch this movie with critical approach then you should pass unless you want to be disappointed and start trashing it.\n",
      "\n",
      "Label : 1\n",
      "\n",
      " ==================================================\n",
      "\n",
      "Review: todd rohal is a mad genius. \"knuckleface jones\", his third, and most fully realized, short film has an offbeat sense of humor and will leave some scratching their heads. what the film is about at heart, and he would almost certainly disagree with me on this, is how a regular joe finds the confidence to get through life with a little inspiration. or not. you just have to see for yourself. the short is intermittently making rounds on the festival circuit, so keep your eyes peeled and catch it if you can - you'll be glad you did. it is hilarious. and check out todd's other short films also popping up here and there from time to time: \"single spaced\" and \"slug 660\".\n",
      "\n",
      "Label : 1\n",
      "\n",
      " ==================================================\n",
      "\n",
      "Review: \"the true story of the friendship that shook south africa and awakened the world.\" richard attenborough, who directed \"a bridge too far\" and \"gandhi\", wanted to bring the story of steve biko to life, and the journey and trouble that journalist donald woods went through in order to get his story told. the films uses wood's two books for it's information and basis - \"biko\" and \"asking for trouble\". the film takes place in the late 1970's, in south africa. south africa is in the grip of the terrible apartheid, which keeps the blacks separated from the whites and classifies the whites as the superior race. the blacks are forced to live in shantytowns on the outskirts of the cities and towns, and they come under frequent harassment by the police and the army. we are shown a dawn raid on a shantytown, as bulldozers and armed police force their way through the camp beating and even killing the inhabitants. then we are introduced to donald woods (kevin kline), who is the editor of a popular newspaper. after publishing a negative story about black activist steve biko (denzel washington), woods goes to meet with him. the two are wary of each other at first, but they soon become good friends and biko shows the horrors of the apartheid system from a black persons point of view to woods. this encourages woods to speak out against what's happening around him, and makes him desperate to bring steve biko's story out of the clutches of the white man's south africa and to the world. soon, steve biko is arrested and is killed in prison. now woods and his family are daring to escape from south africa to england, where woods can publish his book about steve biko and the apartheid. when i first heard of \"cry freedom\", i was under the impression that it was a movie completely dedicated to the life of steve biko. i had never actually heard of steve biko before i seen this film, as the events in this film were really before my time. but it's more about the story of donald woods and his journey across the border into lesotho as he tried to elude the south african officials. woods was put on a five year type house arrest after steve biko was killed. so in order to publish his manuscript on steve biko, he had to escape. because the manuscript would be considered treason in south africa and that could have resulted in woods meeting a fate similar to that of biko's. the real donald woods and his wife acted as consultants to this film. denzel washington is only in the film for the first hour, and i was disappointed with that as i was expecting to see him for the entire movie. but he was amazing as steve biko, and captured his personality from what i've read really well and his accent sounded perfect. his performance earned him an oscar nomination for best supporting actor. kevin kline delivers a excellent and thought-evoking performance as donald woods, and penelope wilton is excellent as his wife wendy. filming took place in zimbabwe, as needless to say problems arose when they tried to film it in south africa. while in south africa, the south african gestapo followed the film crew everywhere, so they got the bad vibes and they pulled out and went to neighbouring zimbabwe instead. despite everything, and the fact that the apartheid didn't end 'til seven years later, \"cry freedom\" wasn't banned in south africa. but cinemas showing the movie received bomb threats. richard attenborough brings the horrors of the apartheid to the screen with extreme force and determination. he doesn't hold back at the end of the movie when showing what was supposed to be a peaceful protest by students in a shantytown, turns into a massacre when police open fire on them. the film ends with the names of all the anti-apartheid movers who died in prison, and the explanations for their deaths. many had \"no explanation\". quite a few were \"epilepsy\", which is hard to believe, and many more either fell from the top of the stairs or were \"suicide from hanging\". no one will ever know what really happened to them, but i think it's fair to say that none of these men died at their own hands, but at the hands of others; or to be more precise, at the hands of the police. \"cry freedom\" is a must-see movie for it's portrayal and story of steve biko. it's also a searing and devastating portrayal of a beautiful land divided and in the hellish grips of racial segregation and violence.\n",
      "\n",
      "Label : 1\n",
      "\n",
      " ==================================================\n"
     ]
    }
   ],
   "source": [
    "def read_sentiment_dataset(data_dir, label_dict, preprocessor=None):\n",
    "    data_dir = pathlib.Path(data_dir)\n",
    "    \n",
    "    texts, labels = [], []\n",
    "    for label_dir in label_dict.keys():\n",
    "        for text_file in (data_dir/label_dir).iterdir():\n",
    "            texts.append(text_file.read_text())\n",
    "            labels.append(label_dict[label_dir])\n",
    "\n",
    "    if preprocessor:\n",
    "        texts = preprocessor(texts, py_function=True)\n",
    "    return texts, labels\n",
    "\n",
    "### Dataset loading & preprocessing\n",
    "\n",
    "label_dict = {'pos':1, 'neg':0}\n",
    "train_texts, train_labels = read_sentiment_dataset(os.path.join(dataset_dir, 'train'), label_dict, text_preprocessors['inp'])\n",
    "test_texts, test_labels = read_sentiment_dataset(os.path.join(dataset_dir, 'test'), label_dict, text_preprocessors['inp'])\n",
    "\n",
    "### Data splitting\n",
    "\n",
    "n_keep = 0.1\n",
    "train_texts, valid_texts, train_labels, valid_labels = train_test_split(train_texts, train_labels, \n",
    "                                                                        test_size=n_keep, random_state=SEED)\n",
    "\n",
    "num_classes = len(set(train_labels))\n",
    "\n",
    "### Demo\n",
    "\n",
    "for name, data in zip(['Training', 'Validation', 'Testing'], [train_texts, valid_texts, test_texts]):\n",
    "    print(f\"Number of {name} Data :\", len(data))\n",
    "    \n",
    "for text, label in zip(train_texts[:5], train_labels):\n",
    "    print(f'\\nReview: {text}')\n",
    "    print(f'\\nLabel : {label}')\n",
    "    print('\\n', '=' * 50)"
   ]
  },
  {
   "cell_type": "markdown",
   "metadata": {},
   "source": [
    "## <b> 2. Setup Tokenizer & Dataset Pipeline <b/>"
   ]
  },
  {
   "cell_type": "code",
   "execution_count": 9,
   "metadata": {},
   "outputs": [
    {
     "name": "stdout",
     "output_type": "stream",
     "text": [
      "en Vocabulary Size : 30522\n"
     ]
    }
   ],
   "source": [
    "tokenizers = tf.Module()\n",
    "tokenizers.inp = HFSelectTokenizer(bert_names['inp']).from_pretrained(bert_names['inp'], \n",
    "                                                                      cache_dir=cache_dirs['inp'], \n",
    "                                                                      do_lower_case=True)\n",
    "\n",
    "### Parameters\n",
    "\n",
    "tokenizer_params = {\n",
    "    'inp':{'add_special_tokens':True, 'padding':True, 'truncation':True, 'max_length':MAX_LENGTHS['inp'], \n",
    "           'return_attention_mask':True, 'return_token_type_ids':False},\n",
    "    'tar':None\n",
    "}\n",
    "\n",
    "### Vocab Sizes\n",
    "\n",
    "inp_vocab_size = tokenizers.inp.vocab_size\n",
    "\n",
    "print(f'{inp_lang} Vocabulary Size :', inp_vocab_size)"
   ]
  },
  {
   "cell_type": "code",
   "execution_count": 11,
   "metadata": {},
   "outputs": [
    {
     "name": "stderr",
     "output_type": "stream",
     "text": [
      "100%|███████████████████████████████████████████████████████████████████████████████████████████████████████████████████████████████████| 8/8 [00:02<00:00,  3.78it/s]\n",
      "100%|███████████████████████████████████████████████████████████████████████████████████████████████████████████████████████████████████| 1/1 [00:00<00:00,  4.03it/s]\n",
      "100%|███████████████████████████████████████████████████████████████████████████████████████████████████████████████████████████████████| 1/1 [00:02<00:00,  2.31s/it]\n"
     ]
    }
   ],
   "source": [
    "reprocess = False\n",
    "\n",
    "if reprocess:\n",
    "    \n",
    "    #### Bert Tokenization: can only accept str, List[str] or List[List[str]]\n",
    "\n",
    "    train_encodings = [tokenizers.inp(train_texts, **tokenizer_params['inp']), train_labels]\n",
    "    valid_encodings = [tokenizers.inp(valid_texts, **tokenizer_params['inp']), valid_labels]\n",
    "    test_encodings = [tokenizers.inp(test_texts, **tokenizer_params['inp']), test_labels]\n",
    "    \n",
    "    ### Save the tokens to tfrecord files\n",
    "\n",
    "    saveTFRecord(lang_prefix+\"train\", DIR_TFRECORD, train_encodings, shard=8)\n",
    "    saveTFRecord(lang_prefix+\"valid\", DIR_TFRECORD, valid_encodings, shard=1)\n",
    "    saveTFRecord(lang_prefix+\"test\", DIR_TFRECORD, test_encodings, shard=1)\n",
    "\n",
    "num_samples = [file for file in tf.io.gfile.listdir(DIR_TFRECORD) if 'train' in file][0]\n",
    "num_samples = int(num_samples[num_samples.rfind('-')+1:num_samples.rfind('.')])\n",
    "print('Number of Samples:', num_samples)"
   ]
  },
  {
   "cell_type": "code",
   "execution_count": 11,
   "metadata": {
    "scrolled": true,
    "tags": []
   },
   "outputs": [
    {
     "name": "stdout",
     "output_type": "stream",
     "text": [
      "((<tf.Tensor: shape=(64, 256), dtype=int32, numpy=\n",
      "array([[  101,  2043,  2023, ...,     0,     0,     0],\n",
      "       [  101,  2009,  1055, ...,     0,     0,     0],\n",
      "       [  101,  7714,  1010, ...,     0,     0,     0],\n",
      "       ...,\n",
      "       [  101,  1045,  2074, ...,     0,     0,     0],\n",
      "       [  101,  1000, 12801, ...,     0,     0,     0],\n",
      "       [  101,  2009,  1005, ...,  2023,  2143,   102]], dtype=int32)>, <tf.Tensor: shape=(64, 256), dtype=int32, numpy=\n",
      "array([[1, 1, 1, ..., 0, 0, 0],\n",
      "       [1, 1, 1, ..., 0, 0, 0],\n",
      "       [1, 1, 1, ..., 0, 0, 0],\n",
      "       ...,\n",
      "       [1, 1, 1, ..., 0, 0, 0],\n",
      "       [1, 1, 1, ..., 0, 0, 0],\n",
      "       [1, 1, 1, ..., 1, 1, 1]], dtype=int32)>), <tf.Tensor: shape=(64, 1), dtype=int32, numpy=\n",
      "array([[1],\n",
      "       [1],\n",
      "       [1],\n",
      "       [1],\n",
      "       [1],\n",
      "       [1],\n",
      "       [1],\n",
      "       [1],\n",
      "       [1],\n",
      "       [1],\n",
      "       [1],\n",
      "       [1],\n",
      "       [1],\n",
      "       [1],\n",
      "       [1],\n",
      "       [1],\n",
      "       [1],\n",
      "       [1],\n",
      "       [1],\n",
      "       [1],\n",
      "       [1],\n",
      "       [1],\n",
      "       [1],\n",
      "       [1],\n",
      "       [1],\n",
      "       [1],\n",
      "       [1],\n",
      "       [1],\n",
      "       [1],\n",
      "       [1],\n",
      "       [1],\n",
      "       [1],\n",
      "       [1],\n",
      "       [1],\n",
      "       [1],\n",
      "       [1],\n",
      "       [1],\n",
      "       [1],\n",
      "       [1],\n",
      "       [1],\n",
      "       [1],\n",
      "       [1],\n",
      "       [1],\n",
      "       [1],\n",
      "       [1],\n",
      "       [1],\n",
      "       [1],\n",
      "       [1],\n",
      "       [1],\n",
      "       [1],\n",
      "       [1],\n",
      "       [1],\n",
      "       [1],\n",
      "       [1],\n",
      "       [1],\n",
      "       [1],\n",
      "       [1],\n",
      "       [1],\n",
      "       [1],\n",
      "       [1],\n",
      "       [1],\n",
      "       [1],\n",
      "       [1],\n",
      "       [1]], dtype=int32)>)\n"
     ]
    },
    {
     "name": "stderr",
     "output_type": "stream",
     "text": [
      "2021-11-17 17:18:57.098325: I tensorflow/compiler/mlir/mlir_graph_optimization_pass.cc:185] None of the MLIR Optimization Passes are enabled (registered 2)\n"
     ]
    }
   ],
   "source": [
    "BUFFER_SIZE = 2**13\n",
    "BATCH_SIZE  = 64 \n",
    "GLOBAL_BATCH_SIZE = BATCH_SIZE * strategy.num_replicas_in_sync\n",
    "    \n",
    "train_batches = loadTFRecord(lang_prefix+'train', DIR_TFRECORD, GLOBAL_BATCH_SIZE, BUFFER_SIZE)\n",
    "valid_batches = loadTFRecord(lang_prefix+'valid', DIR_TFRECORD, GLOBAL_BATCH_SIZE)\n",
    "test_batches = loadTFRecord(lang_prefix+'test', DIR_TFRECORD, GLOBAL_BATCH_SIZE, cache=False)\n",
    "\n",
    "for demo in test_batches.take(1):\n",
    "    print(demo)"
   ]
  },
  {
   "cell_type": "markdown",
   "metadata": {},
   "source": [
    "## <b> 3. Configure Training <b/>"
   ]
  },
  {
   "cell_type": "markdown",
   "metadata": {},
   "source": [
    "### <b> Hyperparameters <b/>"
   ]
  },
  {
   "cell_type": "code",
   "execution_count": null,
   "metadata": {},
   "outputs": [],
   "source": [
    "### Configure pretrained model\n",
    "\n",
    "configs = {'inp':AutoConfig.from_pretrained(bert_names['inp'], cache_dir=cache_dirs['inp']),\n",
    "            'tar':None}\n",
    "pprint(configs)\n",
    "\n",
    "### Setup bert parameters\n",
    "\n",
    "bert_params = {\n",
    "    tag:{\n",
    "        'pretrained_model_name_or_path':bert_names[tag], \n",
    "        'config':configs[tag], \n",
    "        'cache_dir':cache_dirs[tag],\n",
    "        'from_pt':any([name in bert_names['inp'] for name in HF_TORCH_ONLY])} \n",
    "    for tag in ['inp', 'tar']\n",
    "}"
   ]
  },
  {
   "cell_type": "code",
   "execution_count": 23,
   "metadata": {
    "scrolled": true,
    "tags": []
   },
   "outputs": [
    {
     "name": "stdout",
     "output_type": "stream",
     "text": [
      "{'inp': BertConfig {\n",
      "  \"architectures\": [\n",
      "    \"BertForMaskedLM\"\n",
      "  ],\n",
      "  \"attention_probs_dropout_prob\": 0.1,\n",
      "  \"classifier_dropout\": null,\n",
      "  \"gradient_checkpointing\": false,\n",
      "  \"hidden_act\": \"gelu\",\n",
      "  \"hidden_dropout_prob\": 0.1,\n",
      "  \"hidden_size\": 768,\n",
      "  \"initializer_range\": 0.02,\n",
      "  \"intermediate_size\": 3072,\n",
      "  \"layer_norm_eps\": 1e-12,\n",
      "  \"max_position_embeddings\": 512,\n",
      "  \"model_type\": \"bert\",\n",
      "  \"num_attention_heads\": 12,\n",
      "  \"num_hidden_layers\": 12,\n",
      "  \"pad_token_id\": 0,\n",
      "  \"position_embedding_type\": \"absolute\",\n",
      "  \"transformers_version\": \"4.12.3\",\n",
      "  \"type_vocab_size\": 2,\n",
      "  \"use_cache\": true,\n",
      "  \"vocab_size\": 30522\n",
      "}\n",
      ",\n",
      " 'tar': None}\n"
     ]
    }
   ],
   "source": [
    "### Configure training process\n",
    "\n",
    "EPOCHS = 100\n",
    "EARLYSTOP = 5\n",
    "\n",
    "init_lr = 1e-4\n",
    "\n",
    "### Configure downstream model structure ( Mark the unused hyperparameters )\n",
    "\n",
    "num_layers = 4\n",
    "num_projection_layers = 2\n",
    "#embed_pos = True\n",
    "embed_dim = 256\n",
    "dense_dim = 512\n",
    "num_heads = 8\n",
    "dropout = 0.2\n",
    "activation, activation_name = tf.nn.gelu, 'gelu'\n",
    "\n",
    "nn_units = 64\n",
    "num_tune = 0\n",
    "use_lstm = False\n",
    "\n",
    "### Other configuration\n",
    "\n",
    "#teacher = 100"
   ]
  },
  {
   "cell_type": "markdown",
   "metadata": {},
   "source": [
    "### <b> Loss & Metrics & Optimizer <b/>"
   ]
  },
  {
   "cell_type": "code",
   "execution_count": 24,
   "metadata": {},
   "outputs": [
    {
     "name": "stderr",
     "output_type": "stream",
     "text": [
      "INFO:absl:using Adamw optimizer\n",
      "INFO:absl:gradient_clip_norm=1.000000\n"
     ]
    },
    {
     "name": "stdout",
     "output_type": "stream",
     "text": [
      "warmup_steps: 3520\n"
     ]
    }
   ],
   "source": [
    "with strategy.scope():\n",
    "\n",
    "    ### Loss & Metrics\n",
    "\n",
    "    loss_function = tf.keras.losses.BinaryCrossentropy(from_logits=True)\n",
    "    accuracy_function = tf.keras.metrics.BinaryAccuracy()\n",
    "    \n",
    "    metrics = [accuracy_function] \n",
    "\n",
    "    ### Optimizer\n",
    "\n",
    "    steps_per_epoch = math.ceil(num_samples/GLOBAL_BATCH_SIZE)\n",
    "    num_train_steps = steps_per_epoch * EPOCHS\n",
    "    num_warmup_steps = int(0.1*num_train_steps)\n",
    "\n",
    "    optimizer = official.nlp.optimization.create_optimizer(init_lr=init_lr,\n",
    "                                                           num_train_steps=num_train_steps,\n",
    "                                                           num_warmup_steps=num_warmup_steps,\n",
    "                                                           optimizer_type='adamw')\n",
    "    print(f'warmup_steps: {num_warmup_steps}')"
   ]
  },
  {
   "cell_type": "markdown",
   "metadata": {},
   "source": [
    "### <b> Model <b/>"
   ]
  },
  {
   "cell_type": "code",
   "execution_count": 25,
   "metadata": {
    "scrolled": true,
    "tags": []
   },
   "outputs": [
    {
     "name": "stderr",
     "output_type": "stream",
     "text": [
      "Some layers from the model checkpoint at bert-base-uncased were not used when initializing TFBertModel: ['mlm___cls', 'nsp___cls']\n",
      "- This IS expected if you are initializing TFBertModel from the checkpoint of a model trained on another task or with another architecture (e.g. initializing a BertForSequenceClassification model from a BertForPreTraining model).\n",
      "- This IS NOT expected if you are initializing TFBertModel from the checkpoint of a model that you expect to be exactly identical (initializing a BertForSequenceClassification model from a BertForSequenceClassification model).\n",
      "All the layers of TFBertModel were initialized from the model checkpoint at bert-base-uncased.\n",
      "If your task is similar to the task the model of the checkpoint was trained on, you can already use TFBertModel for predictions without further training.\n"
     ]
    },
    {
     "name": "stdout",
     "output_type": "stream",
     "text": [
      "EN_TransformerEncoder_bert-base-uncased\n",
      "Model: \"model_2\"\n",
      "__________________________________________________________________________________________________\n",
      "Layer (type)                    Output Shape         Param #     Connected to                     \n",
      "==================================================================================================\n",
      "input_ids (InputLayer)          [(None, None)]       0                                            \n",
      "__________________________________________________________________________________________________\n",
      "attention_mask (InputLayer)     [(None, None)]       0                                            \n",
      "__________________________________________________________________________________________________\n",
      "tf_bert_model_3 (TFBertModel)   TFBaseModelOutputWit 109482240   input_ids[0][0]                  \n",
      "                                                                 attention_mask[0][0]             \n",
      "__________________________________________________________________________________________________\n",
      "embedding_projector_1 (Embeddin (None, None, 256)    329472      tf_bert_model_3[0][0]            \n",
      "__________________________________________________________________________________________________\n",
      "transformer_encoder_1 (Transfor ((None, None, 256),  9469952     embedding_projector_1[0][0]      \n",
      "                                                                 attention_mask[0][0]             \n",
      "__________________________________________________________________________________________________\n",
      "global_max_pooling1d_1 (GlobalM (None, 256)          0           transformer_encoder_1[0][0]      \n",
      "__________________________________________________________________________________________________\n",
      "dense_24 (Dense)                (None, 64)           16448       global_max_pooling1d_1[0][0]     \n",
      "__________________________________________________________________________________________________\n",
      "dropout_171 (Dropout)           (None, 64)           0           dense_24[0][0]                   \n",
      "__________________________________________________________________________________________________\n",
      "dense_25 (Dense)                (None, 1)            65          dropout_171[0][0]                \n",
      "==================================================================================================\n",
      "Total params: 119,298,177\n",
      "Trainable params: 9,815,937\n",
      "Non-trainable params: 109,482,240\n",
      "__________________________________________________________________________________________________\n"
     ]
    },
    {
     "data": {
      "text/plain": [
       "None"
      ]
     },
     "metadata": {},
     "output_type": "display_data"
    },
    {
     "name": "stdout",
     "output_type": "stream",
     "text": [
      "huggingface/tokenizers: The current process just got forked, after parallelism has already been used. Disabling parallelism to avoid deadlocks...\n",
      "To disable this warning, you can either:\n",
      "\t- Avoid using `tokenizers` before the fork if possible\n",
      "\t- Explicitly set the environment variable TOKENIZERS_PARALLELISM=(true | false)\n",
      "huggingface/tokenizers: The current process just got forked, after parallelism has already been used. Disabling parallelism to avoid deadlocks...\n",
      "To disable this warning, you can either:\n",
      "\t- Avoid using `tokenizers` before the fork if possible\n",
      "\t- Explicitly set the environment variable TOKENIZERS_PARALLELISM=(true | false)\n"
     ]
    },
    {
     "data": {
      "image/png": "[encoded data removed]",
      "text/plain": [
       "<IPython.core.display.Image object>"
      ]
     },
     "metadata": {},
     "output_type": "display_data"
    }
   ],
   "source": [
    "model_name = lang_prefix+f\"TransformerEncoder{'BiLSTM' if use_lstm else ''}_{bert_names['inp']}\".replace('/', '-')\n",
    "print(model_name)\n",
    "\n",
    "with strategy.scope():\n",
    "    \n",
    "    inp_pretrained_model = TFAutoModel.from_pretrained(**bert_params['inp']) \n",
    "    model = BertTransformerEncoder(inp_pretrained_model=inp_pretrained_model, \n",
    "                                   num_tune=num_tune, \n",
    "                                   num_projection_layers=num_projection_layers, \n",
    "                                   use_lstm=use_lstm, \n",
    "                                   nn_units=nn_units, \n",
    "                                   num_layers=num_layers, \n",
    "                                   embed_dim=embed_dim, \n",
    "                                   num_heads=num_heads,\n",
    "                                   dense_dim=dense_dim,\n",
    "                                   num_classes=num_classes,\n",
    "                                   activation=activation, \n",
    "                                   dropout=dropout)\n",
    "    model.compile(optimizer=optimizer, loss=loss_function, metrics=metrics)\n",
    "\n",
    "    display(model.build_graph().summary())\n",
    "    display(tf.keras.utils.plot_model(model.build_graph(), show_shapes=True, expand_nested=True))"
   ]
  },
  {
   "cell_type": "markdown",
   "metadata": {},
   "source": [
    "## <b> 4. Training and checkpointing <b/>"
   ]
  },
  {
   "cell_type": "markdown",
   "metadata": {},
   "source": [
    "### <b> Checkpoint <b/>"
   ]
  },
  {
   "cell_type": "code",
   "execution_count": 21,
   "metadata": {},
   "outputs": [
    {
     "name": "stdout",
     "output_type": "stream",
     "text": [
      "run_id: 4layers_2projlayers_64nnunits_8heads_256embedding_512hidden_0.2dropout_gelu_3520warmup_AdamWeightDecay_tune0layers_64batchsize_8192shuffle_22500samples \n",
      "\n",
      "There is no existed checkpoint ... Start from the beginning.\n",
      "\n"
     ]
    },
    {
     "name": "stderr",
     "output_type": "stream",
     "text": [
      "2021-11-17 17:42:18.058461: I tensorflow/core/profiler/lib/profiler_session.cc:131] Profiler session initializing.\n",
      "2021-11-17 17:42:18.058499: I tensorflow/core/profiler/lib/profiler_session.cc:146] Profiler session started.\n",
      "2021-11-17 17:42:18.058806: I tensorflow/core/profiler/lib/profiler_session.cc:164] Profiler session tear down.\n"
     ]
    }
   ],
   "source": [
    "# Record the training configurations as the name of checkpoints, logs and models to compare the different results\n",
    "run_id  = f\"{num_layers}layers_{num_projection_layers}projlayers_{nn_units}nnunits\"\n",
    "run_id += f\"_{num_heads}heads_{embed_dim}embedding_{dense_dim}hidden_{dropout}dropout_{activation_name}\"\n",
    "run_id += f\"_{init_lr}initlr_{num_warmup_steps}warmup_{optimizer._name}_tune{num_tune}layers\"\n",
    "run_id += f\"_{GLOBAL_BATCH_SIZE}batchsize_{BUFFER_SIZE}shuffle_{num_samples}samples\"\n",
    "print('run_id:', run_id, '\\n')\n",
    "\n",
    "# Setup the saving path\n",
    "checkpoint_path = os.path.join(DIR_CHECKPOINT, model_name+'_'+run_id, 'ckpt')\n",
    "log_dir = os.path.join(DIR_LOG, model_name+'_'+run_id)\n",
    "\n",
    "# Setup callbacks\n",
    "es_metric = 'val_loss'\n",
    "    \n",
    "with strategy.scope():\n",
    "    \n",
    "    tensorboard = tf.keras.callbacks.TensorBoard(log_dir=log_dir, histogram_freq=1, write_graph=True, write_images=True)\n",
    "    checkpoint = tf.keras.callbacks.ModelCheckpoint(filepath=checkpoint_path, monitor=es_metric, save_weights_only=True, save_best_only=True, verbose=1)\n",
    "    callbacks = [tensorboard, checkpoint]\n",
    "\n",
    "    if EARLYSTOP >= 0:\n",
    "        earlystopping = tf.keras.callbacks.EarlyStopping(monitor=es_metric, patience=EARLYSTOP, restore_best_weights=True, verbose=1)\n",
    "        callbacks += [earlystopping]\n",
    "\n",
    "    # If there are corresponding files, then ckpt will load and restore the status of objects\n",
    "    try:\n",
    "        model.load_weights(checkpoint_path)\n",
    "        print(f'Restore the checkpoint at {checkpoint_path}\\n')\n",
    "\n",
    "        last_epoch = optimizer.iterations.numpy()//steps_per_epoch\n",
    "        print(f'Latest checkpoint of {last_epoch} epochs restored!!')\n",
    "    except:\n",
    "        last_epoch = 0\n",
    "        print(\"There is no existed checkpoint ... Start from the beginning.\\n\")"
   ]
  },
  {
   "cell_type": "markdown",
   "metadata": {},
   "source": [
    "### <b> Training <b/>"
   ]
  },
  {
   "cell_type": "code",
   "execution_count": null,
   "metadata": {},
   "outputs": [],
   "source": [
    "if colab:\n",
    "    %load_ext tensorboard\n",
    "    %tensorboard --logdir {DIR_LOG}"
   ]
  },
  {
   "cell_type": "code",
   "execution_count": null,
   "metadata": {},
   "outputs": [],
   "source": [
    "history = model.fit(train_batches.repeat(EPOCHS), validation_data=valid_batches,\n",
    "                    initial_epoch=last_epoch, epochs=EPOCHS, steps_per_epoch=steps_per_epoch, callbacks=callbacks)"
   ]
  },
  {
   "cell_type": "markdown",
   "metadata": {},
   "source": [
    "## <b> 5. Model Export & Pipeline Build <b/>"
   ]
  },
  {
   "cell_type": "markdown",
   "metadata": {
    "tags": []
   },
   "source": [
    "### <b> Evaluation <b/>"
   ]
  },
  {
   "cell_type": "code",
   "execution_count": 18,
   "metadata": {
    "scrolled": true,
    "tags": []
   },
   "outputs": [
    {
     "name": "stdout",
     "output_type": "stream",
     "text": [
      "391/391 [==============================] - 3908s 10s/step - loss: 0.2215 - binary_accuracy: 0.9024\n",
      "CPU times: user 9h 27min 56s, sys: 1h 1min 38s, total: 10h 29min 34s\n",
      "Wall time: 1h 5min 8s\n"
     ]
    },
    {
     "data": {
      "text/plain": [
       "'accuracy-0.902360-aclImdb'"
      ]
     },
     "execution_count": 18,
     "metadata": {},
     "output_type": "execute_result"
    }
   ],
   "source": [
    "%%time\n",
    "\n",
    "loss, accuracy = model.evaluate(test_batches)\n",
    "\n",
    "score = f\"accuracy-{accuracy:.6f}-{dataset_name}\"\n",
    "score"
   ]
  },
  {
   "cell_type": "markdown",
   "metadata": {},
   "source": [
    "### <b> Export <b/>"
   ]
  },
  {
   "cell_type": "code",
   "execution_count": 34,
   "metadata": {},
   "outputs": [
    {
     "name": "stderr",
     "output_type": "stream",
     "text": [
      "WARNING:absl:Function `__call__` contains input name(s) inputs with unsupported characters which will be renamed to inputs_1 in the SavedModel.\n",
      "WARNING:absl:Found untraced functions such as dense_12_layer_call_and_return_conditional_losses, dense_12_layer_call_fn, activation_2_layer_call_and_return_conditional_losses, activation_2_layer_call_fn, dropout_124_layer_call_and_return_conditional_losses while saving (showing 5 of 1145). These functions will not be directly callable after loading.\n"
     ]
    }
   ],
   "source": [
    "### Create and save the predictor\n",
    "\n",
    "config_detail = f\"{model_name}_{score}_{run_id}\"\n",
    "predictor = HF2TFSingleClassifierExporter(model, bert_names, config_detail, num_classes, inp_lang)\n",
    "predictor_dir = os.path.join(DIR_MODEL, f\"{model_name}_{score}\")\n",
    "tf.saved_model.save(predictor, export_dir=predictor_dir)\n",
    "\n",
    "### Reload the pipeline to verify the result\n",
    "\n",
    "pretrain_dir = DIR_MODELTORCH\n",
    "pipeline = HF2TFClassifierPipeline(predictor_dir, pretrain_dir, text_preprocessors)"
   ]
  },
  {
   "cell_type": "markdown",
   "metadata": {},
   "source": [
    "## <b> 6. Inference <b/>"
   ]
  },
  {
   "cell_type": "code",
   "execution_count": null,
   "metadata": {},
   "outputs": [],
   "source": [
    "sentences = [\n",
    "    'this is such an amazing movie!',  # this is the same sentence tried earlier\n",
    "    'The movie was great!',\n",
    "    'The movie was meh.',\n",
    "    'The movie was okish.',\n",
    "    'The movie was terrible...',\n",
    "    'this is a bad test', \n",
    "    'and happy one is here to be classified',\n",
    "    'I broke up with my...cat, help me :(:(:(',\n",
    "    'movie data seems to be not enough',\n",
    "    'it is definitely not bad'\n",
    "]\n",
    "\n",
    "results = pipeline(sentences, max_length=MAX_LENGTHS['inp'])\n",
    "results_for_printing = [f\"Input: {sentences[n]:<50} => score: {results[n][0]:.6f}\"\n",
    "                        for n, text in enumerate(sentences)]\n",
    "\n",
    "print(*results_for_printing, sep='\\n')"
   ]
  },
  {
   "cell_type": "code",
   "execution_count": null,
   "metadata": {},
   "outputs": [],
   "source": []
  }
 ],
 "metadata": {
  "colab": {
   "collapsed_sections": [],
   "name": "classify_text_with_bert.ipynb",
   "provenance": [],
   "toc_visible": true
  },
  "kernelspec": {
   "display_name": "Python 3 (ipykernel)",
   "language": "python",
   "name": "python3"
  },
  "language_info": {
   "codemirror_mode": {
    "name": "ipython",
    "version": 3
   },
   "file_extension": ".py",
   "mimetype": "text/x-python",
   "name": "python",
   "nbconvert_exporter": "python",
   "pygments_lexer": "ipython3",
   "version": "3.8.8"
  }
 },
 "nbformat": 4,
 "nbformat_minor": 4
}
