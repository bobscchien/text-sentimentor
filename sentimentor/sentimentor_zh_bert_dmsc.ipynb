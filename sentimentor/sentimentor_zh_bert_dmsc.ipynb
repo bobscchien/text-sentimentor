{
 "cells": [
  {
   "cell_type": "markdown",
   "metadata": {
    "id": "IZ6SNYq_tVVC",
    "tags": []
   },
   "source": [
    "## <b> Setup <b/>"
   ]
  },
  {
   "cell_type": "markdown",
   "metadata": {},
   "source": [
    "### <b> Colab <b/>"
   ]
  },
  {
   "cell_type": "code",
   "execution_count": 1,
   "metadata": {},
   "outputs": [],
   "source": [
    "colab = False\n",
    "\n",
    "if colab:\n",
    "    \n",
    "    ### Install packages\n",
    "\n",
    "    !pip3 install tensorflow-text\n",
    "    !pip3 install tf-models-official\n",
    "    !pip3 install transformers\n",
    "    !pip3 install datasets\n",
    "    !pip3 install swifter\n",
    "    !pip3 install opencc-python-reimplemented\n",
    "\n",
    "    ### Access Google Drive\n",
    "\n",
    "    from google.colab import drive\n",
    "    drive.mount('/content/gdrive')\n",
    "\n",
    "    ### Access GCS\n",
    "\n",
    "    from google.colab import auth\n",
    "    auth.authenticate_user()\n",
    "\n",
    "    ### Mount the directories\n",
    "\n",
    "    import os\n",
    "\n",
    "    # Mount the data directory\n",
    "    os.chdir('/content/gdrive/MyDrive/LinuxServer-Bob/Code/Project/Text_Sentimentor/sentimentor')\n",
    "    os.symlink('/content/gdrive/MyDrive/LinuxServer-Bob/Data', '/data')\n",
    "    print(f\"PWD: {os.getcwd()}\")\n",
    "\n",
    "    # Mount the tfrecord directory\n",
    "    gcs_path = \"gs://bobscchien-project-data\"\n",
    "    \n",
    "    ### Check the computation resources\n",
    "\n",
    "    gpu_info = !nvidia-smi\n",
    "    gpu_info = '\\n'.join(gpu_info)\n",
    "    if gpu_info.find('failed') >= 0:\n",
    "        print('Not connected to a GPU')\n",
    "    else:\n",
    "        print(gpu_info)"
   ]
  },
  {
   "cell_type": "markdown",
   "metadata": {},
   "source": [
    "### <b> Initialization <b/>"
   ]
  },
  {
   "cell_type": "code",
   "execution_count": 3,
   "metadata": {
    "id": "_XgTpm9ZxoN9",
    "scrolled": true,
    "tags": []
   },
   "outputs": [
    {
     "name": "stdout",
     "output_type": "stream",
     "text": [
      "Directory /data exists.\n",
      "Directory /data/Model_Tensorflow exists.\n",
      "Directory /data/Model_Pytorch exists.\n",
      "Directory /data/Text_Tokenizer/vocab exists.\n",
      "Directory /data/Text_Tokenizer/trained exists.\n",
      "Directory /data/Text_Sentimentor/dataset exists.\n",
      "Directory /data/Text_Sentimentor/datatf exists.\n",
      "Directory /data/Text_Sentimentor/model/savedmodels exists.\n",
      "Directory /data/Text_Sentimentor/model/checkpoints exists.\n",
      "Directory /data/Text_Sentimentor/model/logs exists.\n",
      "Directory /data/Text_Sentimentor/tmp exists.\n"
     ]
    },
    {
     "name": "stderr",
     "output_type": "stream",
     "text": [
      "2021-11-20 10:14:10.342751: I tensorflow/core/platform/cpu_feature_guard.cc:142] This TensorFlow binary is optimized with oneAPI Deep Neural Network Library (oneDNN) to use the following CPU instructions in performance-critical operations:  AVX2 FMA\n",
      "To enable them in other operations, rebuild TensorFlow with the appropriate compiler flags.\n"
     ]
    }
   ],
   "source": [
    "from utils.initialization import *\n",
    "from utils.tokenizer import *\n",
    "from utils.dataset_pipeline import *\n",
    "from utils.dataset_tfrecord import *\n",
    "from utils.servitization import *\n",
    "from utils.visualization import *\n",
    "from models.transformer_bert import *"
   ]
  },
  {
   "cell_type": "code",
   "execution_count": 4,
   "metadata": {},
   "outputs": [],
   "source": [
    "if colab:\n",
    "    DIR_VOCAB       = os.path.join(gcs_path, 'Text_Tokenizer', 'vocab')\n",
    "    DIR_TOKEN       = os.path.join(gcs_path, 'Text_Tokenizer', 'trained')\n",
    "\n",
    "    DIR_TFRECORD    = os.path.join(gcs_path, PROJECT_NAME, 'datatf')\n",
    "    DIR_MODEL       = os.path.join(gcs_path, PROJECT_NAME, 'model', 'savedmodels')\n",
    "    DIR_CHECKPOINT  = os.path.join(gcs_path, PROJECT_NAME, 'model', 'checkpoints')\n",
    "    DIR_LOG         = os.path.join(gcs_path, PROJECT_NAME, 'model', 'logs')"
   ]
  },
  {
   "cell_type": "markdown",
   "metadata": {},
   "source": [
    "### <b> Parameters <b/>"
   ]
  },
  {
   "cell_type": "code",
   "execution_count": 5,
   "metadata": {},
   "outputs": [],
   "source": [
    "### Tokenization Method\n",
    "\n",
    "### Language Pair\n",
    "\n",
    "lang_pair = ('zh', '')\n",
    "lang_prefix = f\"{lang_pair[0].upper()}_\"\n",
    "inp_lang, tar_lang = lang_pair\n",
    "\n",
    "### Preprocessor\n",
    "\n",
    "text_preprocessors = {'inp':zh_preprocess, 'tar':None}\n",
    "\n",
    "### Global Variables\n",
    "\n",
    "MAX_LENGTHS = {'inp':256, 'tar':None}"
   ]
  },
  {
   "cell_type": "code",
   "execution_count": 6,
   "metadata": {},
   "outputs": [
    {
     "name": "stdout",
     "output_type": "stream",
     "text": [
      "Using Pretrained Bert Model: {'inp': 'bert-base-chinese', 'tar': None}\n",
      "Cache Directory of Model: {'inp': '/data/Model_Pytorch/bert-base-chinese', 'tar': None}\n",
      "\n",
      "Max Length of Text: {'inp': 256, 'tar': None}\n"
     ]
    }
   ],
   "source": [
    "### Definition of Bert Model\n",
    "\n",
    "bert_names = {'inp':BERT_NAMES[inp_lang]['bert'][0],\n",
    "              'tar':None}\n",
    "cache_dirs = {'inp':os.path.join(DIR_MODELTORCH, bert_names['inp']),\n",
    "              'tar':None}\n",
    "\n",
    "print(f\"Using Pretrained Bert Model: {bert_names}\")\n",
    "print(f\"Cache Directory of Model: {cache_dirs}\")\n",
    "print(f\"\\nMax Length of Text: {MAX_LENGTHS}\")"
   ]
  },
  {
   "cell_type": "markdown",
   "metadata": {},
   "source": [
    "## <b> 1. Download Dataset <b/>\n",
    "#### <i> DMSC Dataset <i/>"
   ]
  },
  {
   "cell_type": "code",
   "execution_count": 7,
   "metadata": {},
   "outputs": [],
   "source": [
    "dataset_name = 'dmsc'"
   ]
  },
  {
   "cell_type": "code",
   "execution_count": 8,
   "metadata": {
    "scrolled": true,
    "tags": []
   },
   "outputs": [
    {
     "name": "stdout",
     "output_type": "stream",
     "text": [
      "Number of Data: 2104932\n"
     ]
    }
   ],
   "source": [
    "import pandas as pd\n",
    "import swifter\n",
    "\n",
    "raw_path = os.path.join(DIR_DATA, 'DMSC.csv')\n",
    "new_path = os.path.join(DIR_DATA, 'DMSC_Traditional.csv')\n",
    "\n",
    "### Dataset loading & preprocessing\n",
    "\n",
    "if os.path.isfile(new_path):\n",
    "    dataset = pd.read_csv(new_path)\n",
    "else:\n",
    "    dict_rename = {'Comment':'review', 'Star':'label', 'Like':'like'}\n",
    "    dataset = pd.read_csv(raw_path).rename(columns=dict_rename)[dict_rename.values()]\n",
    "    print(f\"Original Number of Data:\", len(dataset))\n",
    "\n",
    "    # Dataset preprocessing: Convert the texts to the tranditional chinese and clean the texts\n",
    "    dataset = dataset.assign(\n",
    "        review=dataset.review.swifter.apply(lambda text:text_preprocessors['inp'](\n",
    "            cc.convert(text), py_function=True)).str[0])\n",
    "    \n",
    "    # Clean the data based on the length of the reviews\n",
    "    dataset = dataset.assign(length=dataset.review.str.len())\n",
    "    dataset = dataset[dataset.length >= 2].drop('length', axis=1)\n",
    "    \n",
    "    dataset.to_csv(new_path, index=None)\n",
    "    \n",
    "print(f\"Number of Data:\", len(dataset))"
   ]
  },
  {
   "cell_type": "code",
   "execution_count": 9,
   "metadata": {
    "scrolled": true,
    "tags": []
   },
   "outputs": [
    {
     "name": "stdout",
     "output_type": "stream",
     "text": [
      "Unbalanced data:\n",
      " 4    637096\n",
      "5    629936\n",
      "3    471721\n",
      "1    187986\n",
      "2    178193\n",
      "Name: label, dtype: int64\n",
      "Balanced data:\n",
      " 1    104000\n",
      "2    104000\n",
      "3    104000\n",
      "4    104000\n",
      "5    104000\n",
      "Name: label, dtype: int64\n",
      "Selected Number of Data: 520000\n",
      "Number of Training Data : 500000\n",
      "Number of Validation Data : 10000\n",
      "Number of Testing Data : 10000\n",
      "\n",
      "Review: 電影開場遲到了一會兒；片子笑點很足，不過幾位演員熟悉的面孔和大碴子味兒總讓我覺得是在看小品；不過男主夢中的校花是因為夏洛會寫歌兒才喜歡男主，李冬梅對夏洛是愛，所以夏洛醒來後才那麼愛冬梅，這是一個要不要追女生的問題嗎?自己能力的提升和愛情真是兩碼事啊；尹正好像彥祖啊，帥\n",
      "\n",
      "Label : 2\n",
      "\n",
      " ==================================================\n",
      "\n",
      "Review: 朴樹的歌加兩顆星。雖然我等到掃地大媽都進場了還沒等到這首歌。\n",
      "\n",
      "Label : 3\n",
      "\n",
      " ==================================================\n",
      "\n",
      "Review: 全程只看鋼鐵俠唐尼\n",
      "\n",
      "Label : 3\n",
      "\n",
      " ==================================================\n",
      "\n",
      "Review: 因為對國產片的極度失望，在票房狂飆的誘惑下還是忍住沒去影院。終於等到高清的出現，電影的爆笑程度沒有預期的爆點，我甚至覺得還沒第一部好看，可能這是個人的眼光問題吧\n",
      "\n",
      "Label : 2\n",
      "\n",
      " ==================================================\n",
      "\n",
      "Review: 真的有那麼好看嗎？一言不合就歌舞的橋段我實在無法欣賞。春夏秋冬的流水賬劇情都沒說清楚男女主怎麼在一起又是怎麼分開的，最後一段閃回更像是一段無意義的\n",
      "\n",
      "Label : 1\n",
      "\n",
      " ==================================================\n"
     ]
    }
   ],
   "source": [
    "### Data balancing & sampling & splitting\n",
    "\n",
    "# Balance the class ( using log('like'+1)+1 as the weights )\n",
    "class_distribution = dataset.label.value_counts()\n",
    "class_minimum = min(class_distribution.min(), 104000)\n",
    "dataset = pd.concat([df.sample(n=class_minimum, weights=np.log1p(df.like)+1, replace=False, random_state=SEED) \n",
    "                     for key, df in dataset.groupby('label')]).drop('like', axis=1).reset_index(drop=True)\n",
    "\n",
    "print('Unbalanced data:\\n', class_distribution)\n",
    "print('Balanced data:\\n', dataset.label.value_counts())\n",
    "print(f\"Selected Number of Data:\", len(dataset))\n",
    "\n",
    "# Splitting\n",
    "train_texts, train_labels = dataset.values.T\n",
    "train_texts, train_labels = train_texts.tolist(), (train_labels-1).tolist()\n",
    "\n",
    "n_keep = 20000\n",
    "train_texts, valid_texts, train_labels, valid_labels = train_test_split(\n",
    "    train_texts, train_labels, test_size=n_keep, random_state=SEED)\n",
    "valid_texts, test_texts, valid_labels, test_labels = train_test_split(\n",
    "    valid_texts, valid_labels, test_size=0.5, random_state=SEED)\n",
    "\n",
    "num_classes = len(set(train_labels))\n",
    "\n",
    "### Demo\n",
    "\n",
    "for name, data in zip(['Training', 'Validation', 'Testing'], [train_texts, valid_texts, test_texts]):\n",
    "    print(f\"Number of {name} Data :\", len(data))\n",
    "    \n",
    "for text, label in zip(train_texts[:5], train_labels):\n",
    "    print(f'\\nReview: {text}')\n",
    "    print(f'\\nLabel : {label}')\n",
    "    print('\\n', '=' * 50)"
   ]
  },
  {
   "cell_type": "markdown",
   "metadata": {},
   "source": [
    "## <b> 2. Setup Tokenizer & Dataset Pipeline <b/>"
   ]
  },
  {
   "cell_type": "code",
   "execution_count": 10,
   "metadata": {},
   "outputs": [
    {
     "name": "stdout",
     "output_type": "stream",
     "text": [
      "zh Vocabulary Size : 21128\n"
     ]
    }
   ],
   "source": [
    "tokenizers = tf.Module()\n",
    "tokenizers.inp = HFSelectTokenizer(bert_names['inp']).from_pretrained(bert_names['inp'], \n",
    "                                                                      cache_dir=cache_dirs['inp'], \n",
    "                                                                      do_lower_case=True)\n",
    "### Parameters\n",
    "\n",
    "tokenizer_params = {\n",
    "    'inp':{'add_special_tokens':True, 'padding':True, 'truncation':True, 'max_length':MAX_LENGTHS['inp'], \n",
    "           'return_attention_mask':True, 'return_token_type_ids':False},\n",
    "    'tar':None\n",
    "}\n",
    "\n",
    "### Vocab Sizes\n",
    "\n",
    "inp_vocab_size = tokenizers.inp.vocab_size\n",
    "\n",
    "print(f'{inp_lang} Vocabulary Size :', inp_vocab_size)"
   ]
  },
  {
   "cell_type": "code",
   "execution_count": 11,
   "metadata": {},
   "outputs": [
    {
     "name": "stderr",
     "output_type": "stream",
     "text": [
      "100%|███████████████████████████████████████████████████████████████████████████████████████████████████████████████████████████████████| 8/8 [00:37<00:00,  4.73s/it]\n",
      "100%|███████████████████████████████████████████████████████████████████████████████████████████████████████████████████████████████████| 1/1 [00:00<00:00,  1.61it/s]\n",
      "100%|███████████████████████████████████████████████████████████████████████████████████████████████████████████████████████████████████| 1/1 [00:00<00:00,  1.54it/s]\n"
     ]
    }
   ],
   "source": [
    "reprocess = True\n",
    "\n",
    "if reprocess:\n",
    "    \n",
    "    #### Bert Tokenization: can only accept str, List[str] or List[List[str]]\n",
    "\n",
    "    train_encodings = [tokenizers.inp(train_texts, **tokenizer_params['inp']), train_labels]\n",
    "    valid_encodings = [tokenizers.inp(valid_texts, **tokenizer_params['inp']), valid_labels]\n",
    "    test_encodings = [tokenizers.inp(test_texts, **tokenizer_params['inp']), test_labels]\n",
    "    \n",
    "    ### Save the tokens to tfrecord files\n",
    "\n",
    "    saveTFRecord(lang_prefix+\"train\", DIR_TFRECORD, train_encodings, shard=8)\n",
    "    saveTFRecord(lang_prefix+\"valid\", DIR_TFRECORD, valid_encodings, shard=1)\n",
    "    saveTFRecord(lang_prefix+\"test\", DIR_TFRECORD, test_encodings, shard=1)\n",
    "    \n",
    "num_samples = [file for file in tf.io.gfile.listdir(DIR_TFRECORD) if 'train' in file][0]\n",
    "num_samples = int(num_samples[num_samples.rfind('-')+1:num_samples.rfind('.')])"
   ]
  },
  {
   "cell_type": "code",
   "execution_count": 12,
   "metadata": {
    "scrolled": true,
    "tags": []
   },
   "outputs": [
    {
     "name": "stdout",
     "output_type": "stream",
     "text": [
      "((<tf.Tensor: shape=(64, 153), dtype=int32, numpy=\n",
      "array([[ 101, 6250, 2533, ...,    0,    0,    0],\n",
      "       [ 101, 1071, 2179, ...,    0,    0,    0],\n",
      "       [ 101, 3056, 6873, ...,    0,    0,    0],\n",
      "       ...,\n",
      "       [ 101, 1922, 1778, ...,    0,    0,    0],\n",
      "       [ 101, 2523,  719, ...,    0,    0,    0],\n",
      "       [ 101, 5401, 2466, ...,    0,    0,    0]], dtype=int32)>, <tf.Tensor: shape=(64, 153), dtype=int32, numpy=\n",
      "array([[1, 1, 1, ..., 0, 0, 0],\n",
      "       [1, 1, 1, ..., 0, 0, 0],\n",
      "       [1, 1, 1, ..., 0, 0, 0],\n",
      "       ...,\n",
      "       [1, 1, 1, ..., 0, 0, 0],\n",
      "       [1, 1, 1, ..., 0, 0, 0],\n",
      "       [1, 1, 1, ..., 0, 0, 0]], dtype=int32)>), <tf.Tensor: shape=(64, 1), dtype=int32, numpy=\n",
      "array([[4],\n",
      "       [1],\n",
      "       [0],\n",
      "       [0],\n",
      "       [3],\n",
      "       [2],\n",
      "       [2],\n",
      "       [4],\n",
      "       [3],\n",
      "       [2],\n",
      "       [0],\n",
      "       [4],\n",
      "       [4],\n",
      "       [4],\n",
      "       [0],\n",
      "       [2],\n",
      "       [4],\n",
      "       [0],\n",
      "       [1],\n",
      "       [2],\n",
      "       [3],\n",
      "       [4],\n",
      "       [2],\n",
      "       [2],\n",
      "       [1],\n",
      "       [3],\n",
      "       [4],\n",
      "       [3],\n",
      "       [2],\n",
      "       [0],\n",
      "       [3],\n",
      "       [0],\n",
      "       [2],\n",
      "       [4],\n",
      "       [1],\n",
      "       [3],\n",
      "       [4],\n",
      "       [2],\n",
      "       [0],\n",
      "       [3],\n",
      "       [0],\n",
      "       [1],\n",
      "       [0],\n",
      "       [3],\n",
      "       [4],\n",
      "       [4],\n",
      "       [0],\n",
      "       [4],\n",
      "       [3],\n",
      "       [4],\n",
      "       [0],\n",
      "       [1],\n",
      "       [0],\n",
      "       [0],\n",
      "       [1],\n",
      "       [4],\n",
      "       [0],\n",
      "       [0],\n",
      "       [1],\n",
      "       [4],\n",
      "       [3],\n",
      "       [1],\n",
      "       [1],\n",
      "       [4]], dtype=int32)>)\n"
     ]
    },
    {
     "name": "stderr",
     "output_type": "stream",
     "text": [
      "2021-11-20 10:15:21.813671: I tensorflow/compiler/mlir/mlir_graph_optimization_pass.cc:185] None of the MLIR Optimization Passes are enabled (registered 2)\n"
     ]
    }
   ],
   "source": [
    "BUFFER_SIZE = 2**13\n",
    "BATCH_SIZE  = 64 \n",
    "GLOBAL_BATCH_SIZE = BATCH_SIZE * strategy.num_replicas_in_sync\n",
    "\n",
    "with strategy.scope():\n",
    "    \n",
    "    train_batches = loadTFRecord(lang_prefix+'train', DIR_TFRECORD, GLOBAL_BATCH_SIZE, BUFFER_SIZE)\n",
    "    valid_batches = loadTFRecord(lang_prefix+'valid', DIR_TFRECORD, GLOBAL_BATCH_SIZE)\n",
    "    test_batches = loadTFRecord(lang_prefix+'test', DIR_TFRECORD, GLOBAL_BATCH_SIZE, cache=False)\n",
    "\n",
    "for demo in test_batches.take(1):\n",
    "    print(demo)"
   ]
  },
  {
   "cell_type": "markdown",
   "metadata": {},
   "source": [
    "## <b> 3. Configure Training <b/>"
   ]
  },
  {
   "cell_type": "markdown",
   "metadata": {},
   "source": [
    "### <b> Hyperparameters <b/>"
   ]
  },
  {
   "cell_type": "code",
   "execution_count": 12,
   "metadata": {
    "scrolled": true,
    "tags": []
   },
   "outputs": [
    {
     "name": "stdout",
     "output_type": "stream",
     "text": [
      "{'inp': BertConfig {\n",
      "  \"architectures\": [\n",
      "    \"BertForMaskedLM\"\n",
      "  ],\n",
      "  \"attention_probs_dropout_prob\": 0.1,\n",
      "  \"classifier_dropout\": null,\n",
      "  \"directionality\": \"bidi\",\n",
      "  \"hidden_act\": \"gelu\",\n",
      "  \"hidden_dropout_prob\": 0.1,\n",
      "  \"hidden_size\": 768,\n",
      "  \"initializer_range\": 0.02,\n",
      "  \"intermediate_size\": 3072,\n",
      "  \"layer_norm_eps\": 1e-12,\n",
      "  \"max_position_embeddings\": 512,\n",
      "  \"model_type\": \"bert\",\n",
      "  \"num_attention_heads\": 12,\n",
      "  \"num_hidden_layers\": 12,\n",
      "  \"pad_token_id\": 0,\n",
      "  \"pooler_fc_size\": 768,\n",
      "  \"pooler_num_attention_heads\": 12,\n",
      "  \"pooler_num_fc_layers\": 3,\n",
      "  \"pooler_size_per_head\": 128,\n",
      "  \"pooler_type\": \"first_token_transform\",\n",
      "  \"position_embedding_type\": \"absolute\",\n",
      "  \"transformers_version\": \"4.12.3\",\n",
      "  \"type_vocab_size\": 2,\n",
      "  \"use_cache\": true,\n",
      "  \"vocab_size\": 21128\n",
      "}\n",
      ",\n",
      " 'tar': None}\n"
     ]
    }
   ],
   "source": [
    "### Configure pretrained model\n",
    "\n",
    "configs = {'inp':AutoConfig.from_pretrained(bert_names['inp'], cache_dir=cache_dirs['inp']),\n",
    "           'tar':None}\n",
    "pprint(configs)\n",
    "\n",
    "### Setup bert parameters\n",
    "\n",
    "bert_params = {\n",
    "    tag:{\n",
    "        'pretrained_model_name_or_path':bert_names[tag], \n",
    "        'config':configs[tag], \n",
    "        'cache_dir':cache_dirs[tag],\n",
    "        'from_pt':any([name in bert_names['inp'] for name in HF_TORCH_ONLY])} \n",
    "    for tag in ['inp', 'tar']\n",
    "}\n",
    "\n",
    "### Configure training process\n",
    "\n",
    "EPOCHS = 100\n",
    "EARLYSTOP = 5\n",
    "\n",
    "init_lr = 1e-4\n",
    "\n",
    "### Configure downstream model structure ( Mark the unused hyperparameters )\n",
    "\n",
    "num_layers = 4\n",
    "num_projection_layers = 2\n",
    "#embed_pos = True\n",
    "embed_dim = 256\n",
    "dense_dim = 512\n",
    "num_heads = 8\n",
    "dropout = 0.2\n",
    "activation, activation_name = tf.nn.gelu, 'gelu'\n",
    "\n",
    "nn_units = 64\n",
    "num_tune = 0\n",
    "use_lstm = False\n",
    "\n",
    "### Other configuration\n",
    "\n",
    "#teacher = 100"
   ]
  },
  {
   "cell_type": "markdown",
   "metadata": {},
   "source": [
    "### <b> Loss & Metrics & Optimizer <b/>"
   ]
  },
  {
   "cell_type": "code",
   "execution_count": 13,
   "metadata": {},
   "outputs": [
    {
     "name": "stderr",
     "output_type": "stream",
     "text": [
      "INFO:absl:using Adamw optimizer\n",
      "INFO:absl:gradient_clip_norm=1.000000\n"
     ]
    },
    {
     "name": "stdout",
     "output_type": "stream",
     "text": [
      "warmup_steps: 78130\n"
     ]
    }
   ],
   "source": [
    "with strategy.scope():\n",
    "\n",
    "    ### Loss & Metrics\n",
    "\n",
    "    loss_function = tf.keras.losses.SparseCategoricalCrossentropy(from_logits=True)\n",
    "    accuracy_function = tf.keras.metrics.SparseCategoricalAccuracy()\n",
    "\n",
    "    metrics = [accuracy_function] \n",
    "\n",
    "    ### Optimizer\n",
    "\n",
    "    steps_per_epoch = num_samples//GLOBAL_BATCH_SIZE+1\n",
    "    num_train_steps = steps_per_epoch * EPOCHS\n",
    "    num_warmup_steps = int(0.1*num_train_steps)\n",
    "\n",
    "    optimizer = official.nlp.optimization.create_optimizer(init_lr=init_lr,\n",
    "                                                           num_train_steps=num_train_steps,\n",
    "                                                           num_warmup_steps=num_warmup_steps,\n",
    "                                                           optimizer_type='adamw')\n",
    "    print(f'warmup_steps: {num_warmup_steps}')"
   ]
  },
  {
   "cell_type": "markdown",
   "metadata": {},
   "source": [
    "### <b> Model <b/>"
   ]
  },
  {
   "cell_type": "code",
   "execution_count": 45,
   "metadata": {
    "scrolled": true,
    "tags": []
   },
   "outputs": [
    {
     "name": "stderr",
     "output_type": "stream",
     "text": [
      "Some layers from the model checkpoint at bert-base-chinese were not used when initializing TFBertModel: ['mlm___cls', 'nsp___cls']\n",
      "- This IS expected if you are initializing TFBertModel from the checkpoint of a model trained on another task or with another architecture (e.g. initializing a BertForSequenceClassification model from a BertForPreTraining model).\n",
      "- This IS NOT expected if you are initializing TFBertModel from the checkpoint of a model that you expect to be exactly identical (initializing a BertForSequenceClassification model from a BertForSequenceClassification model).\n",
      "All the layers of TFBertModel were initialized from the model checkpoint at bert-base-chinese.\n",
      "If your task is similar to the task the model of the checkpoint was trained on, you can already use TFBertModel for predictions without further training.\n"
     ]
    },
    {
     "name": "stdout",
     "output_type": "stream",
     "text": [
      "ZH_TransformerEncoder_bert-base-chinese\n",
      "Model: \"model_12\"\n",
      "__________________________________________________________________________________________________\n",
      "Layer (type)                    Output Shape         Param #     Connected to                     \n",
      "==================================================================================================\n",
      "input_ids (InputLayer)          [(None, None)]       0                                            \n",
      "__________________________________________________________________________________________________\n",
      "attention_mask (InputLayer)     [(None, None)]       0                                            \n",
      "__________________________________________________________________________________________________\n",
      "tf_bert_model_6 (TFBertModel)   TFBaseModelOutputWit 102267648   input_ids[0][0]                  \n",
      "                                                                 attention_mask[0][0]             \n",
      "__________________________________________________________________________________________________\n",
      "embedding_projector_6 (Embeddin (None, None, 256)    329472      tf_bert_model_6[0][0]            \n",
      "__________________________________________________________________________________________________\n",
      "transformer_encoder_6 (Transfor ((None, None, 256),  9469952     embedding_projector_6[0][0]      \n",
      "                                                                 attention_mask[0][0]             \n",
      "__________________________________________________________________________________________________\n",
      "global_max_pooling1d_6 (GlobalM (None, 256)          0           transformer_encoder_6[0][0]      \n",
      "__________________________________________________________________________________________________\n",
      "dense_89 (Dense)                (None, 64)           16448       global_max_pooling1d_6[0][0]     \n",
      "__________________________________________________________________________________________________\n",
      "dropout_342 (Dropout)           (None, 64)           0           dense_89[0][0]                   \n",
      "__________________________________________________________________________________________________\n",
      "dense_90 (Dense)                (None, 5)            325         dropout_342[0][0]                \n",
      "==================================================================================================\n",
      "Total params: 112,083,845\n",
      "Trainable params: 9,816,197\n",
      "Non-trainable params: 102,267,648\n",
      "__________________________________________________________________________________________________\n"
     ]
    },
    {
     "data": {
      "text/plain": [
       "None"
      ]
     },
     "metadata": {},
     "output_type": "display_data"
    },
    {
     "data": {
      "image/png": "[encoded data removed]",
      "text/plain": [
       "<IPython.core.display.Image object>"
      ]
     },
     "metadata": {},
     "output_type": "display_data"
    }
   ],
   "source": [
    "model_name = lang_prefix+f\"TransformerEncoder{'BiLSTM' if use_lstm else ''}_{bert_names['inp']}\".replace('/', '-')\n",
    "\n",
    "with strategy.scope():\n",
    "    \n",
    "    inp_pretrained_model = TFAutoModel.from_pretrained(**bert_params['inp']) \n",
    "    model = BertTransformerEncoder(inp_pretrained_model=inp_pretrained_model, \n",
    "                                   num_tune=num_tune, \n",
    "                                   num_projection_layers=num_projection_layers, \n",
    "                                   use_lstm=use_lstm, \n",
    "                                   nn_units=nn_units, \n",
    "                                   num_layers=num_layers, \n",
    "                                   embed_dim=embed_dim, \n",
    "                                   num_heads=num_heads,\n",
    "                                   dense_dim=dense_dim,\n",
    "                                   num_classes=num_classes,\n",
    "                                   activation=activation, \n",
    "                                   dropout=dropout)\n",
    "\n",
    "    print(model_name)\n",
    "    display(model.build_graph().summary())\n",
    "    display(tf.keras.utils.plot_model(model.build_graph(), show_shapes=True, expand_nested=True))"
   ]
  },
  {
   "cell_type": "markdown",
   "metadata": {},
   "source": [
    "## <b> 4. Training and checkpointing <b/>"
   ]
  },
  {
   "cell_type": "markdown",
   "metadata": {},
   "source": [
    "### <b> Checkpoint <b/>"
   ]
  },
  {
   "cell_type": "code",
   "execution_count": 46,
   "metadata": {},
   "outputs": [
    {
     "name": "stdout",
     "output_type": "stream",
     "text": [
      "run_id: 4layers_2projlayers_64nnunits_8heads_256embedding_512hidden_0.2dropout_gelu_78130warmup_AdamWeightDecay_tune0layers_64batchsize_8192shuffle_500000samples \n",
      "\n",
      "There is no existed checkpoint ... Start from the beginning.\n",
      "\n"
     ]
    },
    {
     "name": "stderr",
     "output_type": "stream",
     "text": [
      "2021-11-17 16:53:11.957681: I tensorflow/core/profiler/lib/profiler_session.cc:131] Profiler session initializing.\n",
      "2021-11-17 16:53:11.957718: I tensorflow/core/profiler/lib/profiler_session.cc:146] Profiler session started.\n",
      "2021-11-17 16:53:11.957931: I tensorflow/core/profiler/lib/profiler_session.cc:164] Profiler session tear down.\n"
     ]
    }
   ],
   "source": [
    "# Record the training configurations as the name of checkpoints, logs and models to compare the different results\n",
    "run_id  = f\"{num_layers}layers_{num_projection_layers}projlayers_{nn_units}nnunits\"\n",
    "run_id += f\"_{num_heads}heads_{embed_dim}embedding_{dense_dim}hidden_{dropout}dropout_{activation_name}\"\n",
    "run_id += f\"_{init_lr}initlr_{num_warmup_steps}warmup_{optimizer._name}_tune{num_tune}layers\"\n",
    "run_id += f\"_{GLOBAL_BATCH_SIZE}batchsize_{BUFFER_SIZE}shuffle_{num_samples}samples\"\n",
    "print('run_id:', run_id, '\\n')\n",
    "\n",
    "# Setup the saving path\n",
    "checkpoint_path = os.path.join(DIR_CHECKPOINT, model_name+'_'+run_id)\n",
    "log_dir = os.path.join(DIR_LOG, model_name+'_'+run_id)\n",
    "\n",
    "# Setup callbacks\n",
    "es_metric = 'val_loss'\n",
    "\n",
    "with strategy.scope():\n",
    "    \n",
    "    checkpoint = tf.keras.callbacks.ModelCheckpoint(monitor=es_metric, save_weights_only=True, save_best_only=True, verbose=1, filepath=checkpoint_path)\n",
    "    earlystopping = tf.keras.callbacks.EarlyStopping(monitor=es_metric, patience=EARLYSTOP, restore_best_weights=True, verbose=1)\n",
    "    tensorboard = tf.keras.callbacks.TensorBoard(log_dir=log_dir)\n",
    "\n",
    "    callbacks = [tensorboard, checkpoint, earlystopping]\n",
    "\n",
    "    # If there are corresponding files, then ckpt will load and restore the status of objects\n",
    "    try:\n",
    "        model.load_weights(checkpoint_path)\n",
    "        print(f'Restore the checkpoint at {checkpoint_path}')\n",
    "    except:\n",
    "        print(\"There is no existed checkpoint ... Start from the beginning.\\n\")"
   ]
  },
  {
   "cell_type": "markdown",
   "metadata": {},
   "source": [
    "### <b> Training <b/>"
   ]
  },
  {
   "cell_type": "code",
   "execution_count": null,
   "metadata": {},
   "outputs": [],
   "source": [
    "%%time\n",
    "\n",
    "with strategy.scope():\n",
    "    \n",
    "    model.compile(optimizer=optimizer, loss=loss_function, metrics=metrics)\n",
    "    \n",
    "history = model.fit(train_batches.repeat(EPOCHS), validation_data=valid_batches, \n",
    "                    epochs=EPOCHS, steps_per_epoch=steps_per_epoch, callbacks=callbacks)"
   ]
  },
  {
   "cell_type": "markdown",
   "metadata": {},
   "source": [
    "## <b> 5. Model Export & Pipeline Build <b/>"
   ]
  },
  {
   "cell_type": "markdown",
   "metadata": {
    "tags": []
   },
   "source": [
    "### <b> Evaluation <b/>"
   ]
  },
  {
   "cell_type": "code",
   "execution_count": null,
   "metadata": {
    "scrolled": true,
    "tags": []
   },
   "outputs": [],
   "source": [
    "%%time\n",
    "\n",
    "loss, accuracy = model.evaluate(test_batches)\n",
    "\n",
    "score = f\"accuracy-{accuracy:.6f}-{dataset_name}\"\n",
    "score"
   ]
  },
  {
   "cell_type": "markdown",
   "metadata": {},
   "source": [
    "### <b> Export <b/>"
   ]
  },
  {
   "cell_type": "code",
   "execution_count": null,
   "metadata": {},
   "outputs": [],
   "source": [
    "### Create and save the predictor\n",
    "\n",
    "config_detail = f\"{model_name}_{score}_{run_id}\"\n",
    "predictor = HF2TFSingleClassifierExporter(model, bert_names, config_detail, num_classes, inp_lang)\n",
    "predictor_dir = os.path.join(DIR_MODEL, f\"{model_name}_{score}\")\n",
    "tf.saved_model.save(predictor, export_dir=predictor_dir)\n",
    "\n",
    "### Reload the pipeline to verify the result\n",
    "\n",
    "pretrain_dir = DIR_MODELTORCH\n",
    "pipeline = HF2TFClassifierPipeline(predictor_dir, pretrain_dir, text_preprocessors)"
   ]
  },
  {
   "cell_type": "markdown",
   "metadata": {},
   "source": [
    "## <b> 6. Inference <b/>"
   ]
  },
  {
   "cell_type": "code",
   "execution_count": 75,
   "metadata": {},
   "outputs": [
    {
     "name": "stdout",
     "output_type": "stream",
     "text": [
      "Input: this is such an amazing movie!                     => score: 0.198779\n",
      "Input: The movie was great!                               => score: 0.394043\n",
      "Input: The movie was meh.                                 => score: 0.277968\n",
      "Input: The movie was okish.                               => score: 0.264516\n",
      "Input: The movie was terrible...                          => score: 0.172645\n",
      "Input: this is a bad test                                 => score: 0.264395\n",
      "Input: and happy one is here to be classified             => score: 0.445607\n",
      "Input: I broke up with my...cat, help me :(:(:(           => score: 0.117212\n",
      "Input: movie data seems to be not enough                  => score: 0.223223\n",
      "Input: it is definitely not bad                           => score: 0.326945\n"
     ]
    }
   ],
   "source": [
    "sentences = [\n",
    "    'this is such an amazing movie!',  # this is the same sentence tried earlier\n",
    "    'The movie was great!',\n",
    "    'The movie was meh.',\n",
    "    'The movie was okish.',\n",
    "    'The movie was terrible...',\n",
    "    'this is a bad test', \n",
    "    'and happy one is here to be classified',\n",
    "    'I broke up with my...cat, help me :(:(:(',\n",
    "    'movie data seems to be not enough',\n",
    "    'it is definitely not bad'\n",
    "]\n",
    "\n",
    "results = pipeline(sentences, max_length=MAX_LENGTHS['inp'])\n",
    "results_for_printing = [f\"Input: {sentences[n]:<50} => score: {results[n][0]:.6f}\"\n",
    "                        for n, text in enumerate(sentences)]\n",
    "\n",
    "print(*results_for_printing, sep='\\n')"
   ]
  },
  {
   "cell_type": "code",
   "execution_count": null,
   "metadata": {},
   "outputs": [],
   "source": []
  }
 ],
 "metadata": {
  "colab": {
   "collapsed_sections": [],
   "name": "classify_text_with_bert.ipynb",
   "provenance": [],
   "toc_visible": true
  },
  "kernelspec": {
   "display_name": "Python 3",
   "language": "python",
   "name": "python3"
  },
  "language_info": {
   "codemirror_mode": {
    "name": "ipython",
    "version": 3
   },
   "file_extension": ".py",
   "mimetype": "text/x-python",
   "name": "python",
   "nbconvert_exporter": "python",
   "pygments_lexer": "ipython3",
   "version": "3.6.9"
  }
 },
 "nbformat": 4,
 "nbformat_minor": 4
}
