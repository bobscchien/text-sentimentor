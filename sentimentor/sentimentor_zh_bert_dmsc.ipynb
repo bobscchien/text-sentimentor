{
 "cells": [
  {
   "cell_type": "markdown",
   "metadata": {},
   "source": [
    "## <b> Colab <b/>"
   ]
  },
  {
   "cell_type": "code",
   "execution_count": null,
   "metadata": {},
   "outputs": [],
   "source": [
    "#### Install packages\n",
    "#\n",
    "#!pip3 install tensorflow-text\n",
    "#!pip3 install tf-models-official\n",
    "#!pip3 install transformers\n",
    "#!pip3 install datasets\n",
    "#!pip3 install opencc-python-reimplemented\n",
    "#\n",
    "#### Access Google Drive\n",
    "#\n",
    "#from google.colab import drive\n",
    "#drive.mount('/content/gdrive')\n",
    "#\n",
    "#### Access GCS\n",
    "#\n",
    "#from google.colab import auth\n",
    "#auth.authenticate_user()\n",
    "#\n",
    "#### Mount the directories\n",
    "#\n",
    "#import os\n",
    "#\n",
    "## Mount the data directory\n",
    "#os.chdir('/content/gdrive/MyDrive/LinuxServer-Bob/Code/Project/Text_Sentimentor/sentimentor')\n",
    "#os.symlink('/content/gdrive/MyDrive/LinuxServer-Bob/Data', '/data')\n",
    "#print(f\"PWD: {os.getcwd()}\")\n",
    "#\n",
    "## Mount the tfrecord directory\n",
    "#gcs_path = \"gs://bobscchien-project-data/Text_Sentimentor/datatf\""
   ]
  },
  {
   "cell_type": "markdown",
   "metadata": {
    "id": "IZ6SNYq_tVVC",
    "tags": []
   },
   "source": [
    "## <b> Setup <b/>"
   ]
  },
  {
   "cell_type": "code",
   "execution_count": 1,
   "metadata": {
    "id": "_XgTpm9ZxoN9",
    "scrolled": true,
    "tags": []
   },
   "outputs": [
    {
     "name": "stderr",
     "output_type": "stream",
     "text": [
      "2021-11-15 16:30:00.651720: W tensorflow/stream_executor/platform/default/dso_loader.cc:64] Could not load dynamic library 'libcudart.so.11.0'; dlerror: libcudart.so.11.0: cannot open shared object file: No such file or directory\n",
      "2021-11-15 16:30:00.651774: I tensorflow/stream_executor/cuda/cudart_stub.cc:29] Ignore above cudart dlerror if you do not have a GPU set up on your machine.\n"
     ]
    },
    {
     "name": "stdout",
     "output_type": "stream",
     "text": [
      "Directory /data exists.\n",
      "Directory /data/Model_Tensorflow exists.\n",
      "Directory /data/Model_Pytorch exists.\n",
      "Directory /data/Text_Tokenizer/vocab exists.\n",
      "Directory /data/Text_Tokenizer/trained exists.\n",
      "Directory /data/Text_Sentimentor/dataset exists.\n",
      "Directory /data/Text_Sentimentor/datatf exists.\n",
      "Directory /data/Text_Sentimentor/model/savedmodels exists.\n",
      "Directory /data/Text_Sentimentor/model/checkpoints exists.\n",
      "Directory /data/Text_Sentimentor/model/logs exists.\n",
      "Directory /data/Text_Sentimentor/tmp exists.\n"
     ]
    },
    {
     "name": "stderr",
     "output_type": "stream",
     "text": [
      "2021-11-15 16:30:05.467216: W tensorflow/stream_executor/platform/default/dso_loader.cc:64] Could not load dynamic library 'libcuda.so.1'; dlerror: libcuda.so.1: cannot open shared object file: No such file or directory\n",
      "2021-11-15 16:30:05.467268: W tensorflow/stream_executor/cuda/cuda_driver.cc:269] failed call to cuInit: UNKNOWN ERROR (303)\n",
      "2021-11-15 16:30:05.467304: I tensorflow/stream_executor/cuda/cuda_diagnostics.cc:163] no NVIDIA GPU device is present: /dev/nvidia0 does not exist\n",
      "2021-11-15 16:30:05.538616: I tensorflow/core/platform/cpu_feature_guard.cc:142] This TensorFlow binary is optimized with oneAPI Deep Neural Network Library (oneDNN) to use the following CPU instructions in performance-critical operations:  AVX2 FMA\n",
      "To enable them in other operations, rebuild TensorFlow with the appropriate compiler flags.\n"
     ]
    }
   ],
   "source": [
    "from utils.initialization import *\n",
    "from utils.tokenizer import *\n",
    "from utils.dataset_pipeline import *\n",
    "from utils.servitization import *\n",
    "from utils.visualization import *\n",
    "from models.transformer_bert import *"
   ]
  },
  {
   "cell_type": "code",
   "execution_count": 3,
   "metadata": {},
   "outputs": [],
   "source": [
    "### Tokenization Method\n",
    "\n",
    "### Language Pair\n",
    "\n",
    "lang_pair = ('zh', '')\n",
    "lang_prefix = f\"{lang_pair[0].upper()}_\"\n",
    "inp_lang, tar_lang = lang_pair\n",
    "\n",
    "### Preprocessor\n",
    "\n",
    "text_preprocessors = {'inp':zh_preprocess, 'tar':None}\n",
    "\n",
    "### Global Variables\n",
    "\n",
    "MAX_LENGTHS = {'inp':256, 'tar':None}"
   ]
  },
  {
   "cell_type": "code",
   "execution_count": 4,
   "metadata": {},
   "outputs": [
    {
     "name": "stdout",
     "output_type": "stream",
     "text": [
      "Using Pretrained Bert Model: {'inp': 'bert-base-chinese', 'tar': None}\n",
      "Cache Directory of Model: {'inp': '/data/Model_Pytorch/bert-base-chinese', 'tar': None}\n",
      "\n",
      "Max Length of Text: {'inp': 256, 'tar': None}\n"
     ]
    }
   ],
   "source": [
    "### Definition of Bert Model\n",
    "\n",
    "bert_names = {'inp':BERT_NAMES[inp_lang]['bert'][0],\n",
    "              'tar':None}\n",
    "cache_dirs = {'inp':os.path.join(DIR_MODELTORCH, bert_names['inp']),\n",
    "              'tar':None}\n",
    "\n",
    "print(f\"Using Pretrained Bert Model: {bert_names}\")\n",
    "print(f\"Cache Directory of Model: {cache_dirs}\")\n",
    "print(f\"\\nMax Length of Text: {MAX_LENGTHS}\")"
   ]
  },
  {
   "cell_type": "markdown",
   "metadata": {},
   "source": [
    "## <b> 1. Download Dataset <b/>\n",
    "#### <i> DMSC Dataset <i/>"
   ]
  },
  {
   "cell_type": "code",
   "execution_count": 39,
   "metadata": {},
   "outputs": [
    {
     "name": "stdout",
     "output_type": "stream",
     "text": [
      "Original Amount of Data: 2125056\n",
      "Unbalanced data:\n",
      " 4    641786\n",
      "5    638106\n",
      "3    474559\n",
      "1    190927\n",
      "2    179678\n",
      "Name: label, dtype: int64\n",
      "Balanced data:\n",
      " 1    24000\n",
      "2    24000\n",
      "3    24000\n",
      "4    24000\n",
      "5    24000\n",
      "Name: label, dtype: int64\n",
      "Selected number of data: 120000\n"
     ]
    }
   ],
   "source": [
    "### Dataset loading & preprocessing\n",
    "\n",
    "import pandas as pd\n",
    "\n",
    "dict_rename = {'Comment':'review', 'Star':'label', 'Like':'like'}\n",
    "dataset = pd.read_csv(os.path.join(DIR_DATA, 'DMSC.csv')).rename(columns=dict_rename)[dict_rename.values()]\n",
    "print(f\"Original Amount of Data:\", len(dataset))\n",
    " \n",
    "# Balance the class ( also using log('like'+1)+1 as the weights)\n",
    "class_distribution = dataset.label.value_counts()\n",
    "class_minimum = min(class_distribution.min(), 24000)\n",
    "dataset = pd.concat([df.sample(n=class_minimum, replace=False, weights=np.log1p(df.like)+1, random_state=SEED) \n",
    "                     for key, df in dataset.groupby('label')]).drop('like', axis=1).reset_index(drop=True)\n",
    "\n",
    "# Can also select the data based on the length of the reviews\n",
    "print('Unbalanced data:\\n', class_distribution)\n",
    "print('Balanced data:\\n', dataset.label.value_counts())\n",
    "print(f\"Selected number of data:\", len(dataset))"
   ]
  },
  {
   "cell_type": "code",
   "execution_count": 40,
   "metadata": {
    "scrolled": true,
    "tags": []
   },
   "outputs": [
    {
     "name": "stderr",
     "output_type": "stream",
     "text": [
      "100%|███████████████████████████████████████████████████████████████████████████████████████████████████████████████████████| 120000/120000 [00:46<00:00, 2602.70it/s]\n"
     ]
    },
    {
     "name": "stdout",
     "output_type": "stream",
     "text": [
      "Number of Training Data : 100000\n",
      "Number of Validation Data : 10000\n",
      "Number of Testing Data : 10000\n",
      "\n",
      "Review: 一星給李易峰一星給蔣勁夫一星給何老師\n",
      "\n",
      "Label : 2\n",
      "\n",
      " ==================================================\n",
      "\n",
      "Review: 劇情神馬就不說了，不過真好笑，，哈哈哈哈\n",
      "\n",
      "Label : 3\n",
      "\n",
      " ==================================================\n",
      "\n",
      "Review: 懂的人自然會懂和你【一起走過小時代的人】一起去看\n",
      "\n",
      "Label : 4\n",
      "\n",
      " ==================================================\n",
      "\n",
      "Review: 為什麼我覺得一般般的電影分數都還不錯、、、\n",
      "\n",
      "Label : 2\n",
      "\n",
      " ==================================================\n",
      "\n",
      "Review: 近期看過最好看的動畫\n",
      "\n",
      "Label : 4\n",
      "\n",
      " ==================================================\n"
     ]
    }
   ],
   "source": [
    "### Preprocessing\n",
    "\n",
    "raw_texts, raw_labels = dataset.values.T\n",
    "\n",
    "train_texts = []\n",
    "for text in tqdm.tqdm(raw_texts):\n",
    "    # Convert the texts to the tranditional chinese\n",
    "    text = cc.convert(text)\n",
    "    # Preprocess the texts\n",
    "    text = text_preprocessors['inp'](text, py_function=True)\n",
    "    # Append the results\n",
    "    train_texts += text\n",
    "    \n",
    "train_labels = (raw_labels-1).tolist()\n",
    "\n",
    "### Data splitting\n",
    "\n",
    "n_keep = 20000\n",
    "train_texts, valid_texts, train_labels, valid_labels = train_test_split(train_texts, train_labels, test_size=n_keep, random_state=SEED)\n",
    "valid_texts, test_texts, valid_labels, test_labels = train_test_split(valid_texts, valid_labels, test_size=0.5, random_state=SEED)\n",
    "\n",
    "num_samples = len(train_labels)\n",
    "num_classes = len(set(train_labels))\n",
    "\n",
    "### Demo\n",
    "\n",
    "for name, data in zip(['Training', 'Validation', 'Testing'], [train_texts, valid_texts, test_texts]):\n",
    "    print(f\"Number of {name} Data :\", len(data))\n",
    "    \n",
    "for text, label in zip(train_texts[:5], train_labels):\n",
    "    print(f'\\nReview: {text}')\n",
    "    print(f'\\nLabel : {label}')\n",
    "    print('\\n', '=' * 50)"
   ]
  },
  {
   "cell_type": "markdown",
   "metadata": {},
   "source": [
    "## <b> 2. Setup Tokenizer & Dataset Pipeline <b/>"
   ]
  },
  {
   "cell_type": "code",
   "execution_count": 41,
   "metadata": {},
   "outputs": [
    {
     "name": "stdout",
     "output_type": "stream",
     "text": [
      "zh Vocabulary Size : 21128\n"
     ]
    }
   ],
   "source": [
    "tokenizers = tf.Module()\n",
    "tokenizers.inp = AutoTokenizer.from_pretrained(bert_names['inp'], cache_dir=cache_dirs['inp'], do_lower_case=True)\n",
    "\n",
    "### Parameters\n",
    "\n",
    "tokenizer_params = {\n",
    "    'inp':{'add_special_tokens':True, 'padding':True, 'truncation':True, 'max_length':MAX_LENGTHS['inp'], \n",
    "           'return_attention_mask':True, 'return_token_type_ids':False},\n",
    "    'tar':None\n",
    "}\n",
    "\n",
    "### Vocab Sizes\n",
    "\n",
    "inp_vocab_size = tokenizers.inp.vocab_size\n",
    "\n",
    "print(f'{inp_lang} Vocabulary Size :', inp_vocab_size)"
   ]
  },
  {
   "cell_type": "code",
   "execution_count": 70,
   "metadata": {},
   "outputs": [],
   "source": [
    "import functools\n",
    "\n",
    "### Save TFRecord\n",
    "\n",
    "def serialize_example(text, label):\n",
    "    \"\"\"\n",
    "    Creates a tf.train.Example message ready to be written to a file.\n",
    "    \"\"\"\n",
    "    # Create a dictionary mapping the feature name to the tf.train.Example-compatible data type.\n",
    "    # The inputs here are Hugging Face tokenizer objects\n",
    "    feature = {\n",
    "        'inp_input_ids':int64_feature(text.ids),\n",
    "        'inp_attention_mask':int64_feature(text.attention_mask),\n",
    "        'labels':int64_feature([label]),\n",
    "    }\n",
    "\n",
    "    # Create a Features message using tf.train.Example.\n",
    "    example_proto = tf.train.Example(features=tf.train.Features(feature=feature))\n",
    "    return example_proto.SerializeToString()\n",
    "\n",
    "def saveTFRecord(name, dir_tfrecord, dataset, shard=1):    \n",
    "    texts, labels = dataset\n",
    "    \n",
    "    amount = len(labels)\n",
    "    sample = amount//shard \n",
    "    \n",
    "    count = 0\n",
    "    for n in tqdm.tqdm(range(shard)):\n",
    "        # Write the `tf.train.Example` observations to the file.\n",
    "        filename = os.path.join(dir_tfrecord, f'{name}{n}.tfrecord')\n",
    "        \n",
    "        # The last file will be slightly bigger than the other files\n",
    "        if amount - (count+sample) < sample:\n",
    "            sample += amount - (count + sample)\n",
    "\n",
    "        with tf.io.TFRecordWriter(filename) as writer:\n",
    "            for i in range(count, count+sample):\n",
    "                example = serialize_example(texts[i], labels[i])\n",
    "                writer.write(example)\n",
    "        \n",
    "        count += sample\n",
    "        \n",
    "### Load TFRecord\n",
    "\n",
    "def parse_example(example_proto, max_lengths, labeled=True):\n",
    "    # Create a dictionary describing the features.\n",
    "    feature_description = {\n",
    "        'inp_input_ids':tf.io.FixedLenFeature([max_lengths['inp']], tf.int64),\n",
    "        'inp_attention_mask':tf.io.FixedLenFeature([max_lengths['inp']], tf.int64),\n",
    "        'labels':tf.io.FixedLenFeature([1], tf.int64)\n",
    "    }\n",
    "\n",
    "    # Parse the input tf.train.Example proto using the dictionary above.\n",
    "    example = tf.io.parse_single_example(example_proto, feature_description)\n",
    "    \n",
    "    # tf.Example only supports tf.int64, but the TPU only supports tf.int32, so cast all int64 to int32.\n",
    "    for name in list(example.keys()):\n",
    "        tmp = example[name]\n",
    "        if tmp.dtype == tf.int64:\n",
    "            tmp = tf.cast(tmp, tf.int32)\n",
    "        example[name] = tmp\n",
    "        \n",
    "    texts = (example['inp_input_ids'], example['inp_attention_mask'])\n",
    "    if labeled:\n",
    "        labels = example['labels']\n",
    "        return texts, labels\n",
    "    return texts\n",
    "\n",
    "def loadTFRecord(filename, dir_tfrecord, max_lengths, batch_size=64, shuffle_size=None, cache=True, labeled=True):\n",
    "    dataset = tf.data.Dataset.list_files(os.path.join(dir_tfrecord, f'{filename}*.tfrecord'))\n",
    "    dataset = dataset.interleave(tf.data.TFRecordDataset, num_parallel_calls=AUTOTUNE, deterministic=False,\n",
    "                                 cycle_length=AUTOTUNE, block_length=1)\n",
    "    dataset = dataset.map(functools.partial(parse_example, max_lengths=max_lengths, labeled=labeled), \n",
    "                          num_parallel_calls=AUTOTUNE, deterministic=None)\n",
    "    \n",
    "    if cache:\n",
    "        dataset = dataset.cache()\n",
    "    if shuffle_size:\n",
    "        dataset = dataset.shuffle(shuffle_size)\n",
    "        \n",
    "    dataset = dataset.batch(batch_size)\n",
    "    dataset = dataset.prefetch(buffer_size=AUTOTUNE)\n",
    "    return dataset\n"
   ]
  },
  {
   "cell_type": "code",
   "execution_count": 71,
   "metadata": {},
   "outputs": [
    {
     "name": "stderr",
     "output_type": "stream",
     "text": [
      "100%|███████████████████████████████████████████████████████████████████████████████████████████████████████████████████████████████████| 1/1 [00:01<00:00,  1.30s/it]\n"
     ]
    }
   ],
   "source": [
    "reprocess = True\n",
    "\n",
    "if reprocess:\n",
    "    \n",
    "    #### Bert Tokenization: can only accept str, List[str] or List[List[str]]\n",
    "\n",
    "#    train_encodings = tokenizers.inp(train_texts, **tokenizer_params['inp'])\n",
    "#    valid_encodings = tokenizers.inp(valid_texts, **tokenizer_params['inp'])\n",
    "    test_encodings = [tokenizers.inp(test_texts, **tokenizer_params['inp']),\n",
    "                      test_labels]\n",
    "    \n",
    "    ### Save the tokens to tfrecord files\n",
    "\n",
    "#    saveTFRecord(lang_prefix+\"train\", DIR_TFRECORD, train_encodings, shard=10)\n",
    "#    saveTFRecord(lang_prefix+\"valid\", DIR_TFRECORD, valid_encodings, shard=1)\n",
    "    saveTFRecord(lang_prefix+\"test\", DIR_TFRECORD, test_encodings, shard=1)"
   ]
  },
  {
   "cell_type": "code",
   "execution_count": 72,
   "metadata": {},
   "outputs": [
    {
     "name": "stderr",
     "output_type": "stream",
     "text": [
      "2021-11-15 19:31:12.450630: W tensorflow/core/framework/op_kernel.cc:1692] OP_REQUIRES failed at example_parsing_ops.cc:94 : Invalid argument: Key: inp_attention_mask.  Can't parse serialized Example.\n",
      "2021-11-15 19:31:12.450678: W tensorflow/core/framework/op_kernel.cc:1692] OP_REQUIRES failed at example_parsing_ops.cc:94 : Invalid argument: Key: inp_input_ids.  Can't parse serialized Example.\n",
      "2021-11-15 19:31:12.450703: W tensorflow/core/framework/op_kernel.cc:1692] OP_REQUIRES failed at example_parsing_ops.cc:94 : Invalid argument: Key: inp_attention_mask.  Can't parse serialized Example.\n",
      "2021-11-15 19:31:12.450717: W tensorflow/core/framework/op_kernel.cc:1692] OP_REQUIRES failed at example_parsing_ops.cc:94 : Invalid argument: Key: inp_input_ids.  Can't parse serialized Example.\n",
      "2021-11-15 19:31:12.450735: W tensorflow/core/framework/op_kernel.cc:1692] OP_REQUIRES failed at example_parsing_ops.cc:94 : Invalid argument: Key: inp_attention_mask.  Can't parse serialized Example.\n",
      "2021-11-15 19:31:12.450783: W tensorflow/core/framework/op_kernel.cc:1692] OP_REQUIRES failed at example_parsing_ops.cc:94 : Invalid argument: Key: inp_attention_mask.  Can't parse serialized Example.\n",
      "2021-11-15 19:31:12.450799: W tensorflow/core/framework/op_kernel.cc:1692] OP_REQUIRES failed at example_parsing_ops.cc:94 : Invalid argument: Key: inp_attention_mask.  Can't parse serialized Example.\n",
      "2021-11-15 19:31:12.450814: W tensorflow/core/framework/op_kernel.cc:1692] OP_REQUIRES failed at example_parsing_ops.cc:94 : Invalid argument: Key: inp_input_ids.  Can't parse serialized Example.\n",
      "2021-11-15 19:31:12.450835: W tensorflow/core/framework/op_kernel.cc:1692] OP_REQUIRES failed at example_parsing_ops.cc:94 : Invalid argument: Key: inp_attention_mask.  Can't parse serialized Example.\n",
      "2021-11-15 19:31:12.450861: W tensorflow/core/framework/op_kernel.cc:1692] OP_REQUIRES failed at example_parsing_ops.cc:94 : Invalid argument: Key: inp_attention_mask.  Can't parse serialized Example.\n",
      "2021-11-15 19:31:12.450870: W tensorflow/core/framework/op_kernel.cc:1692] OP_REQUIRES failed at example_parsing_ops.cc:94 : Invalid argument: Key: inp_attention_mask.  Can't parse serialized Example.\n",
      "2021-11-15 19:31:12.450893: W tensorflow/core/framework/op_kernel.cc:1692] OP_REQUIRES failed at example_parsing_ops.cc:94 : Invalid argument: Key: inp_input_ids.  Can't parse serialized Example.\n",
      "2021-11-15 19:31:12.451088: W tensorflow/core/framework/op_kernel.cc:1692] OP_REQUIRES failed at example_parsing_ops.cc:94 : Invalid argument: Key: inp_attention_mask.  Can't parse serialized Example.\n",
      "2021-11-15 19:31:12.451114: W tensorflow/core/framework/op_kernel.cc:1692] OP_REQUIRES failed at example_parsing_ops.cc:94 : Invalid argument: Key: inp_attention_mask.  Can't parse serialized Example.\n",
      "2021-11-15 19:31:12.451142: W tensorflow/core/framework/op_kernel.cc:1692] OP_REQUIRES failed at example_parsing_ops.cc:94 : Invalid argument: Key: inp_input_ids.  Can't parse serialized Example.\n",
      "2021-11-15 19:31:12.451157: W tensorflow/core/framework/op_kernel.cc:1692] OP_REQUIRES failed at example_parsing_ops.cc:94 : Invalid argument: Key: inp_attention_mask.  Can't parse serialized Example.\n",
      "2021-11-15 19:31:12.451200: W tensorflow/core/framework/op_kernel.cc:1692] OP_REQUIRES failed at example_parsing_ops.cc:94 : Invalid argument: Key: inp_attention_mask.  Can't parse serialized Example.\n",
      "2021-11-15 19:31:12.451209: W tensorflow/core/framework/op_kernel.cc:1692] OP_REQUIRES failed at example_parsing_ops.cc:94 : Invalid argument: Key: inp_attention_mask.  Can't parse serialized Example.\n",
      "2021-11-15 19:31:12.451223: W tensorflow/core/framework/op_kernel.cc:1692] OP_REQUIRES failed at example_parsing_ops.cc:94 : Invalid argument: Key: inp_attention_mask.  Can't parse serialized Example.\n",
      "2021-11-15 19:31:12.451804: W tensorflow/core/framework/op_kernel.cc:1692] OP_REQUIRES failed at example_parsing_ops.cc:94 : Invalid argument: Key: inp_attention_mask.  Can't parse serialized Example.\n",
      "2021-11-15 19:31:12.451825: W tensorflow/core/framework/op_kernel.cc:1692] OP_REQUIRES failed at example_parsing_ops.cc:94 : Invalid argument: Key: inp_attention_mask.  Can't parse serialized Example.\n",
      "2021-11-15 19:31:12.451842: W tensorflow/core/framework/op_kernel.cc:1692] OP_REQUIRES failed at example_parsing_ops.cc:94 : Invalid argument: Key: inp_attention_mask.  Can't parse serialized Example.\n",
      "2021-11-15 19:31:12.451856: W tensorflow/core/framework/op_kernel.cc:1692] OP_REQUIRES failed at example_parsing_ops.cc:94 : Invalid argument: Key: inp_input_ids.  Can't parse serialized Example.\n",
      "2021-11-15 19:31:12.451875: W tensorflow/core/framework/op_kernel.cc:1692] OP_REQUIRES failed at example_parsing_ops.cc:94 : Invalid argument: Key: inp_attention_mask.  Can't parse serialized Example.\n",
      "2021-11-15 19:31:12.451888: W tensorflow/core/framework/op_kernel.cc:1692] OP_REQUIRES failed at example_parsing_ops.cc:94 : Invalid argument: Key: inp_input_ids.  Can't parse serialized Example.\n",
      "2021-11-15 19:31:12.451902: W tensorflow/core/framework/op_kernel.cc:1692] OP_REQUIRES failed at example_parsing_ops.cc:94 : Invalid argument: Key: inp_attention_mask.  Can't parse serialized Example.\n",
      "2021-11-15 19:31:12.451917: W tensorflow/core/framework/op_kernel.cc:1692] OP_REQUIRES failed at example_parsing_ops.cc:94 : Invalid argument: Key: inp_attention_mask.  Can't parse serialized Example.\n",
      "2021-11-15 19:31:12.451947: W tensorflow/core/framework/op_kernel.cc:1692] OP_REQUIRES failed at example_parsing_ops.cc:94 : Invalid argument: Key: inp_input_ids.  Can't parse serialized Example.\n",
      "2021-11-15 19:31:12.452347: W tensorflow/core/framework/op_kernel.cc:1692] OP_REQUIRES failed at example_parsing_ops.cc:94 : Invalid argument: Key: inp_attention_mask.  Can't parse serialized Example.\n",
      "2021-11-15 19:31:12.452367: W tensorflow/core/framework/op_kernel.cc:1692] OP_REQUIRES failed at example_parsing_ops.cc:94 : Invalid argument: Key: inp_attention_mask.  Can't parse serialized Example.\n",
      "2021-11-15 19:31:12.452390: W tensorflow/core/framework/op_kernel.cc:1692] OP_REQUIRES failed at example_parsing_ops.cc:94 : Invalid argument: Key: inp_attention_mask.  Can't parse serialized Example.\n",
      "2021-11-15 19:31:12.452421: W tensorflow/core/framework/op_kernel.cc:1692] OP_REQUIRES failed at example_parsing_ops.cc:94 : Invalid argument: Key: inp_attention_mask.  Can't parse serialized Example.\n",
      "2021-11-15 19:31:12.452434: W tensorflow/core/framework/op_kernel.cc:1692] OP_REQUIRES failed at example_parsing_ops.cc:94 : Invalid argument: Key: inp_attention_mask.  Can't parse serialized Example.\n"
     ]
    },
    {
     "ename": "InvalidArgumentError",
     "evalue": "Key: inp_attention_mask.  Can't parse serialized Example.\n\t [[{{node ParseSingleExample/ParseExample/ParseExampleV2}}]] [Op:IteratorGetNext]",
     "output_type": "error",
     "traceback": [
      "\u001b[0;31m---------------------------------------------------------------------------\u001b[0m",
      "\u001b[0;31mInvalidArgumentError\u001b[0m                      Traceback (most recent call last)",
      "\u001b[0;32m/tmp/ipykernel_795/2753250509.py\u001b[0m in \u001b[0;36m<module>\u001b[0;34m\u001b[0m\n\u001b[1;32m      6\u001b[0m \u001b[0mtest_batches\u001b[0m \u001b[0;34m=\u001b[0m \u001b[0mloadTFRecord\u001b[0m\u001b[0;34m(\u001b[0m\u001b[0mlang_prefix\u001b[0m\u001b[0;34m+\u001b[0m\u001b[0;34m'test'\u001b[0m\u001b[0;34m,\u001b[0m \u001b[0mDIR_TFRECORD\u001b[0m\u001b[0;34m,\u001b[0m \u001b[0mMAX_LENGTHS\u001b[0m\u001b[0;34m,\u001b[0m \u001b[0mBATCH_SIZE\u001b[0m\u001b[0;34m,\u001b[0m \u001b[0mcache\u001b[0m\u001b[0;34m=\u001b[0m\u001b[0;32mFalse\u001b[0m\u001b[0;34m)\u001b[0m\u001b[0;34m\u001b[0m\u001b[0;34m\u001b[0m\u001b[0m\n\u001b[1;32m      7\u001b[0m \u001b[0;34m\u001b[0m\u001b[0m\n\u001b[0;32m----> 8\u001b[0;31m \u001b[0;32mfor\u001b[0m \u001b[0mdemo\u001b[0m \u001b[0;32min\u001b[0m \u001b[0mtest_batches\u001b[0m\u001b[0;34m.\u001b[0m\u001b[0mtake\u001b[0m\u001b[0;34m(\u001b[0m\u001b[0;36m1\u001b[0m\u001b[0;34m)\u001b[0m\u001b[0;34m:\u001b[0m\u001b[0;34m\u001b[0m\u001b[0;34m\u001b[0m\u001b[0m\n\u001b[0m\u001b[1;32m      9\u001b[0m     \u001b[0mprint\u001b[0m\u001b[0;34m(\u001b[0m\u001b[0mdemo\u001b[0m\u001b[0;34m)\u001b[0m\u001b[0;34m\u001b[0m\u001b[0;34m\u001b[0m\u001b[0m\n",
      "\u001b[0;32m/opt/conda/lib/python3.8/site-packages/tensorflow/python/data/ops/iterator_ops.py\u001b[0m in \u001b[0;36m__next__\u001b[0;34m(self)\u001b[0m\n\u001b[1;32m    759\u001b[0m   \u001b[0;32mdef\u001b[0m \u001b[0m__next__\u001b[0m\u001b[0;34m(\u001b[0m\u001b[0mself\u001b[0m\u001b[0;34m)\u001b[0m\u001b[0;34m:\u001b[0m\u001b[0;34m\u001b[0m\u001b[0;34m\u001b[0m\u001b[0m\n\u001b[1;32m    760\u001b[0m     \u001b[0;32mtry\u001b[0m\u001b[0;34m:\u001b[0m\u001b[0;34m\u001b[0m\u001b[0;34m\u001b[0m\u001b[0m\n\u001b[0;32m--> 761\u001b[0;31m       \u001b[0;32mreturn\u001b[0m \u001b[0mself\u001b[0m\u001b[0;34m.\u001b[0m\u001b[0m_next_internal\u001b[0m\u001b[0;34m(\u001b[0m\u001b[0;34m)\u001b[0m\u001b[0;34m\u001b[0m\u001b[0;34m\u001b[0m\u001b[0m\n\u001b[0m\u001b[1;32m    762\u001b[0m     \u001b[0;32mexcept\u001b[0m \u001b[0merrors\u001b[0m\u001b[0;34m.\u001b[0m\u001b[0mOutOfRangeError\u001b[0m\u001b[0;34m:\u001b[0m\u001b[0;34m\u001b[0m\u001b[0;34m\u001b[0m\u001b[0m\n\u001b[1;32m    763\u001b[0m       \u001b[0;32mraise\u001b[0m \u001b[0mStopIteration\u001b[0m\u001b[0;34m\u001b[0m\u001b[0;34m\u001b[0m\u001b[0m\n",
      "\u001b[0;32m/opt/conda/lib/python3.8/site-packages/tensorflow/python/data/ops/iterator_ops.py\u001b[0m in \u001b[0;36m_next_internal\u001b[0;34m(self)\u001b[0m\n\u001b[1;32m    742\u001b[0m     \u001b[0;31m# to communicate that there is no more data to iterate over.\u001b[0m\u001b[0;34m\u001b[0m\u001b[0;34m\u001b[0m\u001b[0;34m\u001b[0m\u001b[0m\n\u001b[1;32m    743\u001b[0m     \u001b[0;32mwith\u001b[0m \u001b[0mcontext\u001b[0m\u001b[0;34m.\u001b[0m\u001b[0mexecution_mode\u001b[0m\u001b[0;34m(\u001b[0m\u001b[0mcontext\u001b[0m\u001b[0;34m.\u001b[0m\u001b[0mSYNC\u001b[0m\u001b[0;34m)\u001b[0m\u001b[0;34m:\u001b[0m\u001b[0;34m\u001b[0m\u001b[0;34m\u001b[0m\u001b[0m\n\u001b[0;32m--> 744\u001b[0;31m       ret = gen_dataset_ops.iterator_get_next(\n\u001b[0m\u001b[1;32m    745\u001b[0m           \u001b[0mself\u001b[0m\u001b[0;34m.\u001b[0m\u001b[0m_iterator_resource\u001b[0m\u001b[0;34m,\u001b[0m\u001b[0;34m\u001b[0m\u001b[0;34m\u001b[0m\u001b[0m\n\u001b[1;32m    746\u001b[0m           \u001b[0moutput_types\u001b[0m\u001b[0;34m=\u001b[0m\u001b[0mself\u001b[0m\u001b[0;34m.\u001b[0m\u001b[0m_flat_output_types\u001b[0m\u001b[0;34m,\u001b[0m\u001b[0;34m\u001b[0m\u001b[0;34m\u001b[0m\u001b[0m\n",
      "\u001b[0;32m/opt/conda/lib/python3.8/site-packages/tensorflow/python/ops/gen_dataset_ops.py\u001b[0m in \u001b[0;36miterator_get_next\u001b[0;34m(iterator, output_types, output_shapes, name)\u001b[0m\n\u001b[1;32m   2726\u001b[0m       \u001b[0;32mreturn\u001b[0m \u001b[0m_result\u001b[0m\u001b[0;34m\u001b[0m\u001b[0;34m\u001b[0m\u001b[0m\n\u001b[1;32m   2727\u001b[0m     \u001b[0;32mexcept\u001b[0m \u001b[0m_core\u001b[0m\u001b[0;34m.\u001b[0m\u001b[0m_NotOkStatusException\u001b[0m \u001b[0;32mas\u001b[0m \u001b[0me\u001b[0m\u001b[0;34m:\u001b[0m\u001b[0;34m\u001b[0m\u001b[0;34m\u001b[0m\u001b[0m\n\u001b[0;32m-> 2728\u001b[0;31m       \u001b[0m_ops\u001b[0m\u001b[0;34m.\u001b[0m\u001b[0mraise_from_not_ok_status\u001b[0m\u001b[0;34m(\u001b[0m\u001b[0me\u001b[0m\u001b[0;34m,\u001b[0m \u001b[0mname\u001b[0m\u001b[0;34m)\u001b[0m\u001b[0;34m\u001b[0m\u001b[0;34m\u001b[0m\u001b[0m\n\u001b[0m\u001b[1;32m   2729\u001b[0m     \u001b[0;32mexcept\u001b[0m \u001b[0m_core\u001b[0m\u001b[0;34m.\u001b[0m\u001b[0m_FallbackException\u001b[0m\u001b[0;34m:\u001b[0m\u001b[0;34m\u001b[0m\u001b[0;34m\u001b[0m\u001b[0m\n\u001b[1;32m   2730\u001b[0m       \u001b[0;32mpass\u001b[0m\u001b[0;34m\u001b[0m\u001b[0;34m\u001b[0m\u001b[0m\n",
      "\u001b[0;32m/opt/conda/lib/python3.8/site-packages/tensorflow/python/framework/ops.py\u001b[0m in \u001b[0;36mraise_from_not_ok_status\u001b[0;34m(e, name)\u001b[0m\n\u001b[1;32m   6939\u001b[0m   \u001b[0mmessage\u001b[0m \u001b[0;34m=\u001b[0m \u001b[0me\u001b[0m\u001b[0;34m.\u001b[0m\u001b[0mmessage\u001b[0m \u001b[0;34m+\u001b[0m \u001b[0;34m(\u001b[0m\u001b[0;34m\" name: \"\u001b[0m \u001b[0;34m+\u001b[0m \u001b[0mname\u001b[0m \u001b[0;32mif\u001b[0m \u001b[0mname\u001b[0m \u001b[0;32mis\u001b[0m \u001b[0;32mnot\u001b[0m \u001b[0;32mNone\u001b[0m \u001b[0;32melse\u001b[0m \u001b[0;34m\"\"\u001b[0m\u001b[0;34m)\u001b[0m\u001b[0;34m\u001b[0m\u001b[0;34m\u001b[0m\u001b[0m\n\u001b[1;32m   6940\u001b[0m   \u001b[0;31m# pylint: disable=protected-access\u001b[0m\u001b[0;34m\u001b[0m\u001b[0;34m\u001b[0m\u001b[0;34m\u001b[0m\u001b[0m\n\u001b[0;32m-> 6941\u001b[0;31m   \u001b[0msix\u001b[0m\u001b[0;34m.\u001b[0m\u001b[0mraise_from\u001b[0m\u001b[0;34m(\u001b[0m\u001b[0mcore\u001b[0m\u001b[0;34m.\u001b[0m\u001b[0m_status_to_exception\u001b[0m\u001b[0;34m(\u001b[0m\u001b[0me\u001b[0m\u001b[0;34m.\u001b[0m\u001b[0mcode\u001b[0m\u001b[0;34m,\u001b[0m \u001b[0mmessage\u001b[0m\u001b[0;34m)\u001b[0m\u001b[0;34m,\u001b[0m \u001b[0;32mNone\u001b[0m\u001b[0;34m)\u001b[0m\u001b[0;34m\u001b[0m\u001b[0;34m\u001b[0m\u001b[0m\n\u001b[0m\u001b[1;32m   6942\u001b[0m   \u001b[0;31m# pylint: enable=protected-access\u001b[0m\u001b[0;34m\u001b[0m\u001b[0;34m\u001b[0m\u001b[0;34m\u001b[0m\u001b[0m\n\u001b[1;32m   6943\u001b[0m \u001b[0;34m\u001b[0m\u001b[0m\n",
      "\u001b[0;32m/opt/conda/lib/python3.8/site-packages/six.py\u001b[0m in \u001b[0;36mraise_from\u001b[0;34m(value, from_value)\u001b[0m\n",
      "\u001b[0;31mInvalidArgumentError\u001b[0m: Key: inp_attention_mask.  Can't parse serialized Example.\n\t [[{{node ParseSingleExample/ParseExample/ParseExampleV2}}]] [Op:IteratorGetNext]"
     ]
    }
   ],
   "source": [
    "BUFFER_SIZE = 2**13\n",
    "BATCH_SIZE = 64\n",
    "\n",
    "#train_batches = loadTFRecord(lang_prefix+'train', DIR_TFRECORD, MAX_LENGTHS, BATCH_SIZE, BUFFER_SIZE)\n",
    "#valid_batches = loadTFRecord(lang_prefix+'valid', DIR_TFRECORD, MAX_LENGTHS, BATCH_SIZE)\n",
    "test_batches = loadTFRecord(lang_prefix+'test', DIR_TFRECORD, MAX_LENGTHS, BATCH_SIZE, cache=False)\n",
    "\n",
    "for demo in test_batches.take(1):\n",
    "    print(demo)"
   ]
  },
  {
   "cell_type": "markdown",
   "metadata": {},
   "source": [
    "## <b> 3. Configure Training <b/>"
   ]
  },
  {
   "cell_type": "markdown",
   "metadata": {},
   "source": [
    "### <b> Hyperparameters <b/>"
   ]
  },
  {
   "cell_type": "code",
   "execution_count": 9,
   "metadata": {
    "scrolled": true,
    "tags": []
   },
   "outputs": [
    {
     "name": "stdout",
     "output_type": "stream",
     "text": [
      "{'inp': BertConfig {\n",
      "  \"architectures\": [\n",
      "    \"BertForMaskedLM\"\n",
      "  ],\n",
      "  \"attention_probs_dropout_prob\": 0.1,\n",
      "  \"classifier_dropout\": null,\n",
      "  \"directionality\": \"bidi\",\n",
      "  \"hidden_act\": \"gelu\",\n",
      "  \"hidden_dropout_prob\": 0.1,\n",
      "  \"hidden_size\": 768,\n",
      "  \"initializer_range\": 0.02,\n",
      "  \"intermediate_size\": 3072,\n",
      "  \"layer_norm_eps\": 1e-12,\n",
      "  \"max_position_embeddings\": 512,\n",
      "  \"model_type\": \"bert\",\n",
      "  \"num_attention_heads\": 12,\n",
      "  \"num_hidden_layers\": 12,\n",
      "  \"pad_token_id\": 0,\n",
      "  \"pooler_fc_size\": 768,\n",
      "  \"pooler_num_attention_heads\": 12,\n",
      "  \"pooler_num_fc_layers\": 3,\n",
      "  \"pooler_size_per_head\": 128,\n",
      "  \"pooler_type\": \"first_token_transform\",\n",
      "  \"position_embedding_type\": \"absolute\",\n",
      "  \"transformers_version\": \"4.12.3\",\n",
      "  \"type_vocab_size\": 2,\n",
      "  \"use_cache\": true,\n",
      "  \"vocab_size\": 21128\n",
      "}\n",
      ",\n",
      " 'tar': None}\n"
     ]
    }
   ],
   "source": [
    "### Configure pretrained model\n",
    "\n",
    "configs = {'inp':AutoConfig.from_pretrained(bert_names['inp'], cache_dir=cache_dirs['inp']),\n",
    "           'tar':None}\n",
    "pprint(configs)\n",
    "\n",
    "### Configure training process\n",
    "\n",
    "EPOCHS = 100\n",
    "EARLYSTOP = 5\n",
    "\n",
    "init_lr = 3e-5\n",
    "\n",
    "### Configure downstream model structure ( Mark the unused hyperparameters )\n",
    "\n",
    "num_layers = 1\n",
    "num_projection_layers = 1\n",
    "#embed_pos = True\n",
    "embed_dim = 256\n",
    "dense_dim = 512\n",
    "num_heads = 8\n",
    "dropout = 0.2\n",
    "activation, activation_name = tf.nn.gelu, 'gelu'\n",
    "\n",
    "nn_units = 64\n",
    "all_tune = False\n",
    "use_lstm = False\n",
    "\n",
    "### Other configuration\n",
    "\n",
    "#teacher = 100"
   ]
  },
  {
   "cell_type": "markdown",
   "metadata": {},
   "source": [
    "### <b> Loss & Metrics & Optimizer <b/>"
   ]
  },
  {
   "cell_type": "code",
   "execution_count": 10,
   "metadata": {},
   "outputs": [],
   "source": [
    "loss_function = tf.keras.losses.SparseCategoricalCrossentropy(from_logits=True)\n",
    "accuracy_function = tf.keras.metrics.SparseCategoricalAccuracy()\n",
    "\n",
    "metrics = [accuracy_function] "
   ]
  },
  {
   "cell_type": "code",
   "execution_count": 11,
   "metadata": {},
   "outputs": [
    {
     "name": "stderr",
     "output_type": "stream",
     "text": [
      "INFO:absl:using Adamw optimizer\n",
      "INFO:absl:gradient_clip_norm=1.000000\n"
     ]
    },
    {
     "name": "stdout",
     "output_type": "stream",
     "text": [
      "warmup_steps: 18660\n"
     ]
    }
   ],
   "source": [
    "steps_per_epoch = num_samples//BATCH_SIZE+1\n",
    "num_train_steps = steps_per_epoch * EPOCHS\n",
    "num_warmup_steps = int(0.1*num_train_steps)\n",
    "\n",
    "optimizer = official.nlp.optimization.create_optimizer(init_lr=init_lr,\n",
    "                                                       num_train_steps=num_train_steps,\n",
    "                                                       num_warmup_steps=num_warmup_steps,\n",
    "                                                       optimizer_type='adamw')\n",
    "print(f'warmup_steps: {num_warmup_steps}')"
   ]
  },
  {
   "cell_type": "markdown",
   "metadata": {},
   "source": [
    "### <b> Model <b/>"
   ]
  },
  {
   "cell_type": "code",
   "execution_count": 12,
   "metadata": {
    "scrolled": true,
    "tags": []
   },
   "outputs": [
    {
     "name": "stderr",
     "output_type": "stream",
     "text": [
      "Some layers from the model checkpoint at bert-base-chinese were not used when initializing TFBertModel: ['nsp___cls', 'mlm___cls']\n",
      "- This IS expected if you are initializing TFBertModel from the checkpoint of a model trained on another task or with another architecture (e.g. initializing a BertForSequenceClassification model from a BertForPreTraining model).\n",
      "- This IS NOT expected if you are initializing TFBertModel from the checkpoint of a model that you expect to be exactly identical (initializing a BertForSequenceClassification model from a BertForSequenceClassification model).\n",
      "All the layers of TFBertModel were initialized from the model checkpoint at bert-base-chinese.\n",
      "If your task is similar to the task the model of the checkpoint was trained on, you can already use TFBertModel for predictions without further training.\n"
     ]
    },
    {
     "name": "stdout",
     "output_type": "stream",
     "text": [
      "ZH_TransformerEncoder_bert-base-chinese\n",
      "Model: \"model\"\n",
      "__________________________________________________________________________________________________\n",
      "Layer (type)                    Output Shape         Param #     Connected to                     \n",
      "==================================================================================================\n",
      "input_ids (InputLayer)          [(None, None)]       0                                            \n",
      "__________________________________________________________________________________________________\n",
      "attention_mask (InputLayer)     [(None, None)]       0                                            \n",
      "__________________________________________________________________________________________________\n",
      "tf_bert_model (TFBertModel)     TFBaseModelOutputWit 102267648   input_ids[0][0]                  \n",
      "                                                                 attention_mask[0][0]             \n",
      "__________________________________________________________________________________________________\n",
      "embedding_projector (EmbeddingP (None, None, 256)    263168      tf_bert_model[0][0]              \n",
      "__________________________________________________________________________________________________\n",
      "transformer_encoder (Transforme ((None, None, 256),  2367488     embedding_projector[0][0]        \n",
      "                                                                 attention_mask[0][0]             \n",
      "__________________________________________________________________________________________________\n",
      "global_max_pooling1d (GlobalMax (None, 256)          0           transformer_encoder[0][0]        \n",
      "__________________________________________________________________________________________________\n",
      "dense_4 (Dense)                 (None, 64)           16448       global_max_pooling1d[0][0]       \n",
      "__________________________________________________________________________________________________\n",
      "dropout_41 (Dropout)            (None, 64)           0           dense_4[0][0]                    \n",
      "__________________________________________________________________________________________________\n",
      "dense_5 (Dense)                 (None, 5)            325         dropout_41[0][0]                 \n",
      "==================================================================================================\n",
      "Total params: 104,915,077\n",
      "Trainable params: 2,647,429\n",
      "Non-trainable params: 102,267,648\n",
      "__________________________________________________________________________________________________\n"
     ]
    },
    {
     "data": {
      "text/plain": [
       "None"
      ]
     },
     "metadata": {},
     "output_type": "display_data"
    },
    {
     "name": "stdout",
     "output_type": "stream",
     "text": [
      "huggingface/tokenizers: The current process just got forked, after parallelism has already been used. Disabling parallelism to avoid deadlocks...\n",
      "To disable this warning, you can either:\n",
      "\t- Avoid using `tokenizers` before the fork if possible\n",
      "\t- Explicitly set the environment variable TOKENIZERS_PARALLELISM=(true | false)\n",
      "huggingface/tokenizers: The current process just got forked, after parallelism has already been used. Disabling parallelism to avoid deadlocks...\n",
      "To disable this warning, you can either:\n",
      "\t- Avoid using `tokenizers` before the fork if possible\n",
      "\t- Explicitly set the environment variable TOKENIZERS_PARALLELISM=(true | false)\n"
     ]
    },
    {
     "data": {
      "image/png": "[encoded data removed]",
      "text/plain": [
       "<IPython.core.display.Image object>"
      ]
     },
     "metadata": {},
     "output_type": "display_data"
    }
   ],
   "source": [
    "# Plot the model\n",
    "model_name = lang_prefix+f\"TransformerEncoder{'BiLSTM' if use_lstm else ''}_{bert_names['inp']}\"\n",
    "model = BertTransformerEncoder(bert_names=bert_names, \n",
    "                               configs=configs, \n",
    "                               cache_dirs=cache_dirs, \n",
    "                               all_tune=all_tune, \n",
    "                               num_projection_layers=num_projection_layers, \n",
    "                               use_lstm=use_lstm, \n",
    "                               nn_units=nn_units, \n",
    "                               num_layers=num_layers, \n",
    "                               embed_dim=embed_dim, \n",
    "                               num_heads=num_heads,\n",
    "                               dense_dim=dense_dim,\n",
    "                               num_classes=num_classes,\n",
    "                               activation=activation, \n",
    "                               dropout=dropout)\n",
    "\n",
    "print(model_name)\n",
    "display(model.build_graph().summary())\n",
    "display(tf.keras.utils.plot_model(model.build_graph(), show_shapes=True, expand_nested=True))"
   ]
  },
  {
   "cell_type": "markdown",
   "metadata": {},
   "source": [
    "## <b> 4. Training and checkpointing <b/>"
   ]
  },
  {
   "cell_type": "markdown",
   "metadata": {},
   "source": [
    "### <b> Checkpoint <b/>"
   ]
  },
  {
   "cell_type": "code",
   "execution_count": 13,
   "metadata": {},
   "outputs": [
    {
     "name": "stdout",
     "output_type": "stream",
     "text": [
      "run_id: 1layers_1projlayers_64nnunits_8heads_256embedding_512hidden_0.2dropout_gelu_18660warmup_AdamWeightDecay_partfinetune_64batchsize_8192shuffle_119405samples \n",
      "\n",
      "There is no existed checkpoint ... Start from the beginning.\n",
      "\n"
     ]
    },
    {
     "name": "stderr",
     "output_type": "stream",
     "text": [
      "2021-11-14 13:01:36.952721: I tensorflow/core/profiler/lib/profiler_session.cc:131] Profiler session initializing.\n",
      "2021-11-14 13:01:36.952928: I tensorflow/core/profiler/lib/profiler_session.cc:146] Profiler session started.\n",
      "2021-11-14 13:01:36.955488: I tensorflow/core/profiler/lib/profiler_session.cc:164] Profiler session tear down.\n"
     ]
    }
   ],
   "source": [
    "# 方便比較不同實驗/ 不同超參數設定的結果\n",
    "run_id  = f\"{num_layers}layers_{num_projection_layers}projlayers_{nn_units}nnunits_{num_heads}heads_{embed_dim}embedding_{dense_dim}hidden\"\n",
    "run_id += f\"_{dropout}dropout_{activation_name}_{num_warmup_steps}warmup_{optimizer._name}_{'all' if all_tune else 'part'}finetune\"\n",
    "run_id += f\"_{BATCH_SIZE}batchsize_{BUFFER_SIZE}shuffle_{num_samples}samples\"\n",
    "print('run_id:', run_id, '\\n')\n",
    "\n",
    "# 設定存檔路徑\n",
    "checkpoint_path = os.path.join(DIR_CHECKPOINT, model_name+'_'+run_id)\n",
    "log_dir = os.path.join(DIR_LOG, model_name+'_'+run_id)\n",
    "\n",
    "# 設定回調函數\n",
    "es_metric = 'val_loss'\n",
    "\n",
    "checkpoint = tf.keras.callbacks.ModelCheckpoint(monitor=es_metric, save_weights_only=True, save_best_only=True, verbose=1, filepath=checkpoint_path)\n",
    "earlystopping = tf.keras.callbacks.EarlyStopping(monitor=es_metric, patience=EARLYSTOP, restore_best_weights=True, verbose=1)\n",
    "tensorboard = tf.keras.callbacks.TensorBoard(log_dir=log_dir)\n",
    "\n",
    "callbacks = [tensorboard, checkpoint, earlystopping]\n",
    "\n",
    "# 回覆存檔點\n",
    "try:\n",
    "    model.load_weights(checkpoint_path)\n",
    "    print(f'Restore the checkpoint at {checkpoint_path}')\n",
    "except:\n",
    "    print(\"There is no existed checkpoint ... Start from the beginning.\\n\")"
   ]
  },
  {
   "cell_type": "markdown",
   "metadata": {},
   "source": [
    "### <b> Training <b/>"
   ]
  },
  {
   "cell_type": "code",
   "execution_count": null,
   "metadata": {
    "scrolled": true,
    "tags": []
   },
   "outputs": [
    {
     "name": "stdout",
     "output_type": "stream",
     "text": [
      "Epoch 1/100\n"
     ]
    },
    {
     "name": "stderr",
     "output_type": "stream",
     "text": [
      "2021-11-14 13:01:52.407628: I tensorflow/compiler/mlir/mlir_graph_optimization_pass.cc:185] None of the MLIR Optimization Passes are enabled (registered 2)\n"
     ]
    },
    {
     "name": "stdout",
     "output_type": "stream",
     "text": [
      "   1/1866 [..............................] - ETA: 17:12:11 - loss: 3.2741 - sparse_categorical_accuracy: 0.1562"
     ]
    },
    {
     "name": "stderr",
     "output_type": "stream",
     "text": [
      "2021-11-14 13:02:12.332073: I tensorflow/core/profiler/lib/profiler_session.cc:131] Profiler session initializing.\n",
      "2021-11-14 13:02:12.332114: I tensorflow/core/profiler/lib/profiler_session.cc:146] Profiler session started.\n"
     ]
    },
    {
     "name": "stdout",
     "output_type": "stream",
     "text": [
      "   2/1866 [..............................] - ETA: 8:52:31 - loss: 3.1401 - sparse_categorical_accuracy: 0.1953 "
     ]
    },
    {
     "name": "stderr",
     "output_type": "stream",
     "text": [
      "2021-11-14 13:02:27.623128: I tensorflow/core/profiler/lib/profiler_session.cc:66] Profiler session collecting data.\n",
      "2021-11-14 13:02:27.635193: I tensorflow/core/profiler/lib/profiler_session.cc:164] Profiler session tear down.\n",
      "2021-11-14 13:02:27.650880: I tensorflow/core/profiler/rpc/client/save_profile.cc:136] Creating directory: /data/Text_Sentimentor/model/logs/ZH_TransformerEncoder_bert-base-chinese_1layers_1projlayers_64nnunits_8heads_256embedding_512hidden_0.2dropout_gelu_18660warmup_AdamWeightDecay_partfinetune_64batchsize_8192shuffle_119405samples/train/plugins/profile/2021_11_14_13_02_27\n",
      "\n",
      "2021-11-14 13:02:27.659616: I tensorflow/core/profiler/rpc/client/save_profile.cc:142] Dumped gzipped tool data for trace.json.gz to /data/Text_Sentimentor/model/logs/ZH_TransformerEncoder_bert-base-chinese_1layers_1projlayers_64nnunits_8heads_256embedding_512hidden_0.2dropout_gelu_18660warmup_AdamWeightDecay_partfinetune_64batchsize_8192shuffle_119405samples/train/plugins/profile/2021_11_14_13_02_27/8ec77c5ce968.trace.json.gz\n",
      "2021-11-14 13:02:27.674056: I tensorflow/core/profiler/rpc/client/save_profile.cc:136] Creating directory: /data/Text_Sentimentor/model/logs/ZH_TransformerEncoder_bert-base-chinese_1layers_1projlayers_64nnunits_8heads_256embedding_512hidden_0.2dropout_gelu_18660warmup_AdamWeightDecay_partfinetune_64batchsize_8192shuffle_119405samples/train/plugins/profile/2021_11_14_13_02_27\n",
      "\n",
      "2021-11-14 13:02:27.674183: I tensorflow/core/profiler/rpc/client/save_profile.cc:142] Dumped gzipped tool data for memory_profile.json.gz to /data/Text_Sentimentor/model/logs/ZH_TransformerEncoder_bert-base-chinese_1layers_1projlayers_64nnunits_8heads_256embedding_512hidden_0.2dropout_gelu_18660warmup_AdamWeightDecay_partfinetune_64batchsize_8192shuffle_119405samples/train/plugins/profile/2021_11_14_13_02_27/8ec77c5ce968.memory_profile.json.gz\n",
      "2021-11-14 13:02:27.675119: I tensorflow/core/profiler/rpc/client/capture_profile.cc:251] Creating directory: /data/Text_Sentimentor/model/logs/ZH_TransformerEncoder_bert-base-chinese_1layers_1projlayers_64nnunits_8heads_256embedding_512hidden_0.2dropout_gelu_18660warmup_AdamWeightDecay_partfinetune_64batchsize_8192shuffle_119405samples/train/plugins/profile/2021_11_14_13_02_27\n",
      "Dumped tool data for xplane.pb to /data/Text_Sentimentor/model/logs/ZH_TransformerEncoder_bert-base-chinese_1layers_1projlayers_64nnunits_8heads_256embedding_512hidden_0.2dropout_gelu_18660warmup_AdamWeightDecay_partfinetune_64batchsize_8192shuffle_119405samples/train/plugins/profile/2021_11_14_13_02_27/8ec77c5ce968.xplane.pb\n",
      "Dumped tool data for overview_page.pb to /data/Text_Sentimentor/model/logs/ZH_TransformerEncoder_bert-base-chinese_1layers_1projlayers_64nnunits_8heads_256embedding_512hidden_0.2dropout_gelu_18660warmup_AdamWeightDecay_partfinetune_64batchsize_8192shuffle_119405samples/train/plugins/profile/2021_11_14_13_02_27/8ec77c5ce968.overview_page.pb\n",
      "Dumped tool data for input_pipeline.pb to /data/Text_Sentimentor/model/logs/ZH_TransformerEncoder_bert-base-chinese_1layers_1projlayers_64nnunits_8heads_256embedding_512hidden_0.2dropout_gelu_18660warmup_AdamWeightDecay_partfinetune_64batchsize_8192shuffle_119405samples/train/plugins/profile/2021_11_14_13_02_27/8ec77c5ce968.input_pipeline.pb\n",
      "Dumped tool data for tensorflow_stats.pb to /data/Text_Sentimentor/model/logs/ZH_TransformerEncoder_bert-base-chinese_1layers_1projlayers_64nnunits_8heads_256embedding_512hidden_0.2dropout_gelu_18660warmup_AdamWeightDecay_partfinetune_64batchsize_8192shuffle_119405samples/train/plugins/profile/2021_11_14_13_02_27/8ec77c5ce968.tensorflow_stats.pb\n",
      "Dumped tool data for kernel_stats.pb to /data/Text_Sentimentor/model/logs/ZH_TransformerEncoder_bert-base-chinese_1layers_1projlayers_64nnunits_8heads_256embedding_512hidden_0.2dropout_gelu_18660warmup_AdamWeightDecay_partfinetune_64batchsize_8192shuffle_119405samples/train/plugins/profile/2021_11_14_13_02_27/8ec77c5ce968.kernel_stats.pb\n",
      "\n"
     ]
    },
    {
     "name": "stdout",
     "output_type": "stream",
     "text": [
      " 988/1866 [==============>...............] - ETA: 3:35:40 - loss: 2.4464 - sparse_categorical_accuracy: 0.2142"
     ]
    }
   ],
   "source": [
    "%%time\n",
    "\n",
    "model.compile(optimizer=optimizer, loss=loss_function, metrics=metrics)\n",
    "history = model.fit(train_batches, validation_data=valid_batches, \n",
    "                    epochs=EPOCHS, steps_per_epoch=steps_per_epoch, callbacks=callbacks)"
   ]
  },
  {
   "cell_type": "markdown",
   "metadata": {
    "tags": []
   },
   "source": [
    "### <b> Evaluation <b/>"
   ]
  },
  {
   "cell_type": "code",
   "execution_count": null,
   "metadata": {
    "scrolled": true,
    "tags": []
   },
   "outputs": [],
   "source": [
    "%%time\n",
    "\n",
    "loss, accuracy = model.evaluate(test_batches)\n",
    "\n",
    "score = f\"accuracy-{accuracy:.6f}-{dataset_dir[dataset_dir.rfind('/')+1:]}\"\n",
    "score"
   ]
  },
  {
   "cell_type": "markdown",
   "metadata": {},
   "source": [
    "## <b> 5. Model Export & Pipeline Build <b/>"
   ]
  },
  {
   "cell_type": "code",
   "execution_count": 41,
   "metadata": {},
   "outputs": [],
   "source": [
    "class HF2TFModelExporter(tf.Module):\n",
    "    \"\"\" \n",
    "    Save the fine-tuned Hugging Face model with detail information, \n",
    "    and should be modified based on the model's inputs.    \n",
    "    \"\"\"\n",
    "    def __init__(self, model, bert_names, config_detail, num_classes, inp_lang='', tar_lang=''):\n",
    "        self.model = model\n",
    "        self.num_classes = num_classes\n",
    "        self.config_detail = tf.Variable(config_detail)\n",
    "        \n",
    "        self.inp_bert = tf.Variable(bert_names['inp'] or '')        \n",
    "        self.tar_bert = tf.Variable(bert_names['tar'] or '')        \n",
    "        self.inp_lang = tf.Variable(inp_lang)\n",
    "        self.tar_lang = tf.Variable(tar_lang)     \n",
    "\n",
    "    # Notice: the input should be encoded as token_ids and masks, \n",
    "    # and the signature need to be adjusted based on the number of masks\n",
    "    @tf.function(input_signature=[[tf.TensorSpec(shape=[None, None], dtype=tf.int32),\n",
    "                                   tf.TensorSpec(shape=[None, None], dtype=tf.int32)]])\n",
    "    def __call__(self, inputs, return_prob=True):        \n",
    "        outputs = self.model(inputs, training=False)\n",
    "        \n",
    "        # Multiclass Problem\n",
    "        if self.num_classes <= 2:\n",
    "            outputs = tf.nn.sigmoid(outputs)\n",
    "        else:\n",
    "            outputs = tf.nn.softmax(outputs)\n",
    "            if not return_prob:\n",
    "                outputs = tf.math.argmax(outputs, axis=-1) + 1\n",
    "\n",
    "        return outputs"
   ]
  },
  {
   "cell_type": "code",
   "execution_count": 43,
   "metadata": {},
   "outputs": [
    {
     "name": "stderr",
     "output_type": "stream",
     "text": [
      "2021-11-14 12:49:40.613500: W tensorflow/python/util/util.cc:348] Sets are not currently considered sequences, but this may change in the future, so consider avoiding using them.\n",
      "WARNING:absl:Function `__call__` contains input name(s) inputs with unsupported characters which will be renamed to inputs_1 in the SavedModel.\n",
      "WARNING:absl:Found untraced functions such as dense_12_layer_call_fn, dense_12_layer_call_and_return_conditional_losses, activation_2_layer_call_fn, activation_2_layer_call_and_return_conditional_losses, dropout_124_layer_call_fn while saving (showing 5 of 1145). These functions will not be directly callable after loading.\n"
     ]
    },
    {
     "ename": "NameError",
     "evalue": "name 'AutoConfig' is not defined",
     "output_type": "error",
     "traceback": [
      "\u001b[0;31m---------------------------------------------------------------------------\u001b[0m",
      "\u001b[0;31mNameError\u001b[0m                                 Traceback (most recent call last)",
      "\u001b[0;32m/tmp/ipykernel_705/222956611.py\u001b[0m in \u001b[0;36m<module>\u001b[0;34m\u001b[0m\n\u001b[1;32m     10\u001b[0m \u001b[0mmodel_dir\u001b[0m \u001b[0;34m=\u001b[0m \u001b[0mpredictor_dir\u001b[0m\u001b[0;34m\u001b[0m\u001b[0;34m\u001b[0m\u001b[0m\n\u001b[1;32m     11\u001b[0m \u001b[0mpretrain_dir\u001b[0m \u001b[0;34m=\u001b[0m \u001b[0mDIR_MODELTORCH\u001b[0m\u001b[0;34m\u001b[0m\u001b[0;34m\u001b[0m\u001b[0m\n\u001b[0;32m---> 12\u001b[0;31m \u001b[0mpipeline\u001b[0m \u001b[0;34m=\u001b[0m \u001b[0mHF2TFClassifierPipeline\u001b[0m\u001b[0;34m(\u001b[0m\u001b[0mmodel_dir\u001b[0m\u001b[0;34m,\u001b[0m \u001b[0mpretrain_dir\u001b[0m\u001b[0;34m,\u001b[0m \u001b[0mtext_preprocessors\u001b[0m\u001b[0;34m,\u001b[0m \u001b[0mmax_length\u001b[0m\u001b[0;34m=\u001b[0m\u001b[0mMAX_LENGTHS\u001b[0m\u001b[0;34m[\u001b[0m\u001b[0;34m'inp'\u001b[0m\u001b[0;34m]\u001b[0m\u001b[0;34m)\u001b[0m\u001b[0;34m\u001b[0m\u001b[0;34m\u001b[0m\u001b[0m\n\u001b[0m",
      "\u001b[0;32m/code/Project/Text_Sentimentor/sentimentor/utils/servitization.py\u001b[0m in \u001b[0;36m__init__\u001b[0;34m(self, model_dir, pretrain_dir, preprocessors, max_length, tokenizer_params)\u001b[0m\n\u001b[1;32m     17\u001b[0m \u001b[0;34m\u001b[0m\u001b[0m\n\u001b[1;32m     18\u001b[0m         \u001b[0mself\u001b[0m\u001b[0;34m.\u001b[0m\u001b[0mbert_dir\u001b[0m \u001b[0;34m=\u001b[0m \u001b[0mos\u001b[0m\u001b[0;34m.\u001b[0m\u001b[0mpath\u001b[0m\u001b[0;34m.\u001b[0m\u001b[0mjoin\u001b[0m\u001b[0;34m(\u001b[0m\u001b[0mpretrain_dir\u001b[0m\u001b[0;34m,\u001b[0m \u001b[0mself\u001b[0m\u001b[0;34m.\u001b[0m\u001b[0minp_bert\u001b[0m\u001b[0;34m)\u001b[0m\u001b[0;34m\u001b[0m\u001b[0;34m\u001b[0m\u001b[0m\n\u001b[0;32m---> 19\u001b[0;31m         \u001b[0mself\u001b[0m\u001b[0;34m.\u001b[0m\u001b[0mbert_config\u001b[0m \u001b[0;34m=\u001b[0m \u001b[0mAutoConfig\u001b[0m\u001b[0;34m.\u001b[0m\u001b[0mfrom_pretrained\u001b[0m\u001b[0;34m(\u001b[0m\u001b[0mself\u001b[0m\u001b[0;34m.\u001b[0m\u001b[0minp_bert\u001b[0m\u001b[0;34m,\u001b[0m \u001b[0mcache_dir\u001b[0m\u001b[0;34m=\u001b[0m\u001b[0mself\u001b[0m\u001b[0;34m.\u001b[0m\u001b[0mbert_dir\u001b[0m\u001b[0;34m)\u001b[0m\u001b[0;34m\u001b[0m\u001b[0;34m\u001b[0m\u001b[0m\n\u001b[0m\u001b[1;32m     20\u001b[0m         \u001b[0mself\u001b[0m\u001b[0;34m.\u001b[0m\u001b[0mbert_tokenizer\u001b[0m \u001b[0;34m=\u001b[0m \u001b[0mAutoTokenizer\u001b[0m\u001b[0;34m.\u001b[0m\u001b[0mfrom_pretrained\u001b[0m\u001b[0;34m(\u001b[0m\u001b[0mself\u001b[0m\u001b[0;34m.\u001b[0m\u001b[0minp_bert\u001b[0m\u001b[0;34m,\u001b[0m \u001b[0mcache_dir\u001b[0m\u001b[0;34m=\u001b[0m\u001b[0mself\u001b[0m\u001b[0;34m.\u001b[0m\u001b[0mbert_dir\u001b[0m\u001b[0;34m,\u001b[0m \u001b[0mdo_lower_case\u001b[0m\u001b[0;34m=\u001b[0m\u001b[0;32mTrue\u001b[0m\u001b[0;34m)\u001b[0m\u001b[0;34m\u001b[0m\u001b[0;34m\u001b[0m\u001b[0m\n\u001b[1;32m     21\u001b[0m         self.bert_tokenizer_params = {\n",
      "\u001b[0;31mNameError\u001b[0m: name 'AutoConfig' is not defined"
     ]
    }
   ],
   "source": [
    "### Create and save the predictor\n",
    "\n",
    "config_detail = f\"{model_name}_{score}_{run_id}\"\n",
    "predictor = HF2TFModelExporter(model, bert_names, config_detail=config_detail, num_classes=num_classes, inp_lang=inp_lang)\n",
    "predictor_dir = os.path.join(DIR_MODEL, f\"{model_name}_{score}\")\n",
    "tf.saved_model.save(predictor, export_dir=predictor_dir)\n",
    "\n",
    "### Reload the pipeline to verify the result\n",
    "\n",
    "model_dir = predictor_dir\n",
    "pretrain_dir = DIR_MODELTORCH\n",
    "pipeline = HF2TFClassifierPipeline(model_dir, pretrain_dir, text_preprocessors, max_length=MAX_LENGTHS['inp'])"
   ]
  },
  {
   "cell_type": "markdown",
   "metadata": {},
   "source": [
    "## <b> 6. Run Inference <b/>"
   ]
  },
  {
   "cell_type": "code",
   "execution_count": 75,
   "metadata": {},
   "outputs": [
    {
     "name": "stdout",
     "output_type": "stream",
     "text": [
      "Input: this is such an amazing movie!                     => score: 0.198779\n",
      "Input: The movie was great!                               => score: 0.394043\n",
      "Input: The movie was meh.                                 => score: 0.277968\n",
      "Input: The movie was okish.                               => score: 0.264516\n",
      "Input: The movie was terrible...                          => score: 0.172645\n",
      "Input: this is a bad test                                 => score: 0.264395\n",
      "Input: and happy one is here to be classified             => score: 0.445607\n",
      "Input: I broke up with my...cat, help me :(:(:(           => score: 0.117212\n",
      "Input: movie data seems to be not enough                  => score: 0.223223\n",
      "Input: it is definitely not bad                           => score: 0.326945\n"
     ]
    }
   ],
   "source": [
    "sentences = [\n",
    "    'this is such an amazing movie!',  # this is the same sentence tried earlier\n",
    "    'The movie was great!',\n",
    "    'The movie was meh.',\n",
    "    'The movie was okish.',\n",
    "    'The movie was terrible...',\n",
    "    'this is a bad test', \n",
    "    'and happy one is here to be classified',\n",
    "    'I broke up with my...cat, help me :(:(:(',\n",
    "    'movie data seems to be not enough',\n",
    "    'it is definitely not bad'\n",
    "]\n",
    "\n",
    "results = pipeline(sentences)\n",
    "results_for_printing = [f\"Input: {sentences[n]:<50} => score: {results[n][0]:.6f}\"\n",
    "                        for n, text in enumerate(sentences)]\n",
    "\n",
    "print(*results_for_printing, sep='\\n')"
   ]
  },
  {
   "cell_type": "code",
   "execution_count": null,
   "metadata": {},
   "outputs": [],
   "source": []
  }
 ],
 "metadata": {
  "colab": {
   "collapsed_sections": [],
   "name": "classify_text_with_bert.ipynb",
   "provenance": [],
   "toc_visible": true
  },
  "kernelspec": {
   "display_name": "Python 3 (ipykernel)",
   "language": "python",
   "name": "python3"
  },
  "language_info": {
   "codemirror_mode": {
    "name": "ipython",
    "version": 3
   },
   "file_extension": ".py",
   "mimetype": "text/x-python",
   "name": "python",
   "nbconvert_exporter": "python",
   "pygments_lexer": "ipython3",
   "version": "3.8.8"
  }
 },
 "nbformat": 4,
 "nbformat_minor": 4
}
